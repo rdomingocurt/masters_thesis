{
 "cells": [
  {
   "cell_type": "code",
   "execution_count": 1,
   "id": "d777b0da-a1f0-494c-89b6-f3b46cf77f8a",
   "metadata": {
    "tags": []
   },
   "outputs": [],
   "source": [
    "import pandas as pd\n",
    "import matplotlib.pyplot as plt"
   ]
  },
  {
   "cell_type": "markdown",
   "id": "0800248c-8743-41be-825e-75bd49800313",
   "metadata": {
    "tags": []
   },
   "source": [
    "# <center> Estudio de la eficacia de los métodos de amplificación y estimación de amplitud</center>\n",
    "\n",
    "En este notebook veremos por orden:\n",
    "- La descripción de nuestro problema\n",
    "- El resultado analítico del mismo\n",
    "- La imprecisión del sistema sin llegar a aplicar Grover \n",
    "- Los distintos resultados con 1, 2 y 4 grovers\n",
    "- Elección del circuito de 4 grovers dada la precisión obtenida en el simulador\n",
    "- Precisión en un ordenador real de este circuito (min error, max error y mean error)\n",
    "- El protocolo de acreditación para dicho circuito en el simulador sin ruido\n",
    "- El protocolo de acreditación para dicho circuito en el simulador CON ruido\n",
    "- El protocolo de acrediatción para dicho circuito en el ordenador real\n",
    "- Cuánto hay que bajar el ruido?\n",
    "\n"
   ]
  },
  {
   "cell_type": "markdown",
   "id": "831e6854-c73c-4378-bf77-07302f435883",
   "metadata": {
    "tags": []
   },
   "source": [
    "# <center> Descripción del problema </center>\n",
    "\n",
    "#### Preparamos un problema en el que el circuito sea \"sencillo\" de preparar. \n",
    "Realizaremos una simulación monte-carlos sobre la intergral en un intervalo del $sin(x)$ al cuadrado\n",
    "\n",
    "$I = \\frac{1}{b_{\\text{max}}} \\int_{0}^{b_{\\text{max}}} \\sin(x)^2 \\, dx$. Que, en el mundo discreto se aproxima como: \n",
    "\n",
    "$S = \\sum_{x=0}^{2^n-1} p(x) \\sin^2\\left(\\frac{(x + \\frac{1}{2}) \\cdot b_{\\text{max}}}{2^n}\\right)$\n",
    "\n",
    "en donde $p(x) = \\frac{1}{2^n}$ es una distribución discreta uniforme de probabilidad.\n",
    "\n",
    "Finalmente, mostramos el resultado analítico de este problema.\n",
    "\n",
    "# <center> Resultado analítico </center>"
   ]
  },
  {
   "cell_type": "code",
   "execution_count": 2,
   "id": "826c434a-d9f6-4694-acfa-7d846494d375",
   "metadata": {
    "tags": []
   },
   "outputs": [
    {
     "name": "stdout",
     "output_type": "stream",
     "text": [
      "El resultado en el mundo continuo es: 0.1816901138162093\n",
      "El resultado en el mundo discreto es: 0.1796355690323117\n"
     ]
    }
   ],
   "source": [
    "import numpy as np #este import es el único que necesitamos para \"explicar\" esta parte\n",
    "\n",
    "# definimos la función para realizar la integral del seno^2 \n",
    "def sin_integral(upper_lim: float) -> float:\n",
    "    res_continuo = (upper_lim / 2.0 - np.sin(2 * upper_lim) / 4.0)\n",
    "    \n",
    "    return res_continuo/upper_lim\n",
    "\n",
    "#definimos la función para realizar la suma discretizada del seno^2.\n",
    "def sin_discrete_sum(upper_lim: float, bits_number: int) -> float:\n",
    "    n_dis = 2**bits_number\n",
    "    res_discreto = 0.0\n",
    "    \n",
    "    for ii in range(n_dis):\n",
    "        res_discreto += np.sin(upper_lim / n_dis * (ii + (1/2)))**2\n",
    "        \n",
    "    res_discreto = res_discreto / n_dis\n",
    "    return res_discreto\n",
    "\n",
    "b_max = np.pi / 4\n",
    "n_bits = 2 #q-bits\n",
    "\n",
    "mundo_continuo = sin_integral(b_max)\n",
    "print(\"El resultado en el mundo continuo es: \" + str(mundo_continuo))\n",
    "\n",
    "\n",
    "mundo_discreto = sin_discrete_sum(b_max, n_bits)\n",
    "print(\"El resultado en el mundo discreto es: \" + str(mundo_discreto))"
   ]
  },
  {
   "cell_type": "markdown",
   "id": "ddad26e1-0bc5-43f4-9ec6-ecf254169c93",
   "metadata": {
    "tags": []
   },
   "source": [
    "# <center> Representación de resultados. Imprecisión de la estimación sin aplicar Grover </center>\n",
    "\n",
    "A continuación: \n",
    "1. Se cargan los datos obtenidos de múltiples ejecuciones del algoritmo en el simulador\n",
    "2. Se agrupan para hallar el error relativo medio de cada uno de los circuitos propuestos\n",
    "3. Se ve como el caso de 0 grovers muestra una imprecisión superior en el resultado obtenido"
   ]
  },
  {
   "cell_type": "code",
   "execution_count": 3,
   "id": "133da1b1-f16d-4cb7-a047-a7e7380c28a9",
   "metadata": {},
   "outputs": [
    {
     "data": {
      "text/html": [
       "<div>\n",
       "<style scoped>\n",
       "    .dataframe tbody tr th:only-of-type {\n",
       "        vertical-align: middle;\n",
       "    }\n",
       "\n",
       "    .dataframe tbody tr th {\n",
       "        vertical-align: top;\n",
       "    }\n",
       "\n",
       "    .dataframe thead th {\n",
       "        text-align: right;\n",
       "    }\n",
       "</style>\n",
       "<table border=\"1\" class=\"dataframe\">\n",
       "  <thead>\n",
       "    <tr style=\"text-align: right;\">\n",
       "      <th></th>\n",
       "      <th>n_grovers</th>\n",
       "      <th>theta_candidate</th>\n",
       "      <th>a_candidate</th>\n",
       "      <th>rel_error</th>\n",
       "      <th>n_shots</th>\n",
       "      <th>execc_index</th>\n",
       "      <th>analytical_result</th>\n",
       "    </tr>\n",
       "  </thead>\n",
       "  <tbody>\n",
       "    <tr>\n",
       "      <th>0</th>\n",
       "      <td>0</td>\n",
       "      <td>0.330423</td>\n",
       "      <td>0.105263</td>\n",
       "      <td>0.414018</td>\n",
       "      <td>32</td>\n",
       "      <td>1</td>\n",
       "      <td>0.179636</td>\n",
       "    </tr>\n",
       "    <tr>\n",
       "      <th>1</th>\n",
       "      <td>1</td>\n",
       "      <td>0.409515</td>\n",
       "      <td>0.158535</td>\n",
       "      <td>0.117464</td>\n",
       "      <td>32</td>\n",
       "      <td>1</td>\n",
       "      <td>0.179636</td>\n",
       "    </tr>\n",
       "    <tr>\n",
       "      <th>2</th>\n",
       "      <td>2</td>\n",
       "      <td>0.416821</td>\n",
       "      <td>0.163908</td>\n",
       "      <td>0.087554</td>\n",
       "      <td>32</td>\n",
       "      <td>1</td>\n",
       "      <td>0.179636</td>\n",
       "    </tr>\n",
       "    <tr>\n",
       "      <th>3</th>\n",
       "      <td>4</td>\n",
       "      <td>0.443700</td>\n",
       "      <td>0.184284</td>\n",
       "      <td>0.025880</td>\n",
       "      <td>32</td>\n",
       "      <td>1</td>\n",
       "      <td>0.179636</td>\n",
       "    </tr>\n",
       "    <tr>\n",
       "      <th>4</th>\n",
       "      <td>0</td>\n",
       "      <td>0.538663</td>\n",
       "      <td>0.263158</td>\n",
       "      <td>0.464954</td>\n",
       "      <td>64</td>\n",
       "      <td>1</td>\n",
       "      <td>0.179636</td>\n",
       "    </tr>\n",
       "    <tr>\n",
       "      <th>...</th>\n",
       "      <td>...</td>\n",
       "      <td>...</td>\n",
       "      <td>...</td>\n",
       "      <td>...</td>\n",
       "      <td>...</td>\n",
       "      <td>...</td>\n",
       "      <td>...</td>\n",
       "    </tr>\n",
       "    <tr>\n",
       "      <th>235</th>\n",
       "      <td>4</td>\n",
       "      <td>0.439523</td>\n",
       "      <td>0.181057</td>\n",
       "      <td>0.007914</td>\n",
       "      <td>512</td>\n",
       "      <td>10</td>\n",
       "      <td>0.179636</td>\n",
       "    </tr>\n",
       "    <tr>\n",
       "      <th>236</th>\n",
       "      <td>0</td>\n",
       "      <td>0.476680</td>\n",
       "      <td>0.210526</td>\n",
       "      <td>0.171963</td>\n",
       "      <td>1024</td>\n",
       "      <td>10</td>\n",
       "      <td>0.179636</td>\n",
       "    </tr>\n",
       "    <tr>\n",
       "      <th>237</th>\n",
       "      <td>1</td>\n",
       "      <td>0.447266</td>\n",
       "      <td>0.187058</td>\n",
       "      <td>0.041318</td>\n",
       "      <td>1024</td>\n",
       "      <td>10</td>\n",
       "      <td>0.179636</td>\n",
       "    </tr>\n",
       "    <tr>\n",
       "      <th>238</th>\n",
       "      <td>2</td>\n",
       "      <td>0.443352</td>\n",
       "      <td>0.184015</td>\n",
       "      <td>0.024382</td>\n",
       "      <td>1024</td>\n",
       "      <td>10</td>\n",
       "      <td>0.179636</td>\n",
       "    </tr>\n",
       "    <tr>\n",
       "      <th>239</th>\n",
       "      <td>4</td>\n",
       "      <td>0.438468</td>\n",
       "      <td>0.180245</td>\n",
       "      <td>0.003392</td>\n",
       "      <td>1024</td>\n",
       "      <td>10</td>\n",
       "      <td>0.179636</td>\n",
       "    </tr>\n",
       "  </tbody>\n",
       "</table>\n",
       "<p>240 rows × 7 columns</p>\n",
       "</div>"
      ],
      "text/plain": [
       "     n_grovers  theta_candidate  a_candidate  rel_error  n_shots  execc_index  \\\n",
       "0            0         0.330423     0.105263   0.414018       32            1   \n",
       "1            1         0.409515     0.158535   0.117464       32            1   \n",
       "2            2         0.416821     0.163908   0.087554       32            1   \n",
       "3            4         0.443700     0.184284   0.025880       32            1   \n",
       "4            0         0.538663     0.263158   0.464954       64            1   \n",
       "..         ...              ...          ...        ...      ...          ...   \n",
       "235          4         0.439523     0.181057   0.007914      512           10   \n",
       "236          0         0.476680     0.210526   0.171963     1024           10   \n",
       "237          1         0.447266     0.187058   0.041318     1024           10   \n",
       "238          2         0.443352     0.184015   0.024382     1024           10   \n",
       "239          4         0.438468     0.180245   0.003392     1024           10   \n",
       "\n",
       "     analytical_result  \n",
       "0             0.179636  \n",
       "1             0.179636  \n",
       "2             0.179636  \n",
       "3             0.179636  \n",
       "4             0.179636  \n",
       "..                 ...  \n",
       "235           0.179636  \n",
       "236           0.179636  \n",
       "237           0.179636  \n",
       "238           0.179636  \n",
       "239           0.179636  \n",
       "\n",
       "[240 rows x 7 columns]"
      ]
     },
     "execution_count": 3,
     "metadata": {},
     "output_type": "execute_result"
    }
   ],
   "source": [
    "\"\"\"\n",
    "1. Cargamos los resultados obtenidos de múltiples ejecuciones del algoritmo en el simulador\n",
    "\"\"\"\n",
    "sim_res = pd.read_csv(r\"../Output/MLQAE_vFin_results_SIM_QASM_10.csv\").drop([\"Unnamed: 0\"], axis = 1)\n",
    "sim_res"
   ]
  },
  {
   "cell_type": "code",
   "execution_count": 4,
   "id": "2d31353e-bfef-4f24-8931-2ce3c1157e58",
   "metadata": {
    "tags": []
   },
   "outputs": [
    {
     "data": {
      "text/html": [
       "<div>\n",
       "<style scoped>\n",
       "    .dataframe tbody tr th:only-of-type {\n",
       "        vertical-align: middle;\n",
       "    }\n",
       "\n",
       "    .dataframe tbody tr th {\n",
       "        vertical-align: top;\n",
       "    }\n",
       "\n",
       "    .dataframe thead th {\n",
       "        text-align: right;\n",
       "    }\n",
       "</style>\n",
       "<table border=\"1\" class=\"dataframe\">\n",
       "  <thead>\n",
       "    <tr style=\"text-align: right;\">\n",
       "      <th></th>\n",
       "      <th>n_grovers</th>\n",
       "      <th>rel_error</th>\n",
       "    </tr>\n",
       "  </thead>\n",
       "  <tbody>\n",
       "    <tr>\n",
       "      <th>0</th>\n",
       "      <td>0</td>\n",
       "      <td>0.202547</td>\n",
       "    </tr>\n",
       "    <tr>\n",
       "      <th>1</th>\n",
       "      <td>1</td>\n",
       "      <td>0.088200</td>\n",
       "    </tr>\n",
       "    <tr>\n",
       "      <th>2</th>\n",
       "      <td>2</td>\n",
       "      <td>0.036404</td>\n",
       "    </tr>\n",
       "    <tr>\n",
       "      <th>3</th>\n",
       "      <td>4</td>\n",
       "      <td>0.016042</td>\n",
       "    </tr>\n",
       "  </tbody>\n",
       "</table>\n",
       "</div>"
      ],
      "text/plain": [
       "   n_grovers  rel_error\n",
       "0          0   0.202547\n",
       "1          1   0.088200\n",
       "2          2   0.036404\n",
       "3          4   0.016042"
      ]
     },
     "execution_count": 4,
     "metadata": {},
     "output_type": "execute_result"
    }
   ],
   "source": [
    "\"\"\"\n",
    "2. Agrupamos los resultados para que se vea el error relativo de cada uno de los circuitos tras sucesivas ejecuciones. \n",
    "\"\"\"\n",
    "sim_mean_error = pd.DataFrame(sim_res.groupby([\"n_grovers\"])[\"rel_error\"].mean().reset_index())\n",
    "sim_mean_error"
   ]
  },
  {
   "cell_type": "markdown",
   "id": "5dce9a19-c112-4084-ba74-98f2aafd7ab7",
   "metadata": {
    "tags": []
   },
   "source": [
    "# Comentarios sobre el paso 2\n",
    "\n",
    "Se puede ver cómo a medida que va subiendo el número de cirucuitos de grover la precisión del resultado aumenta en términos del error relativo. Esto, según las referencias, no es así \"infinitamente\", a partir de 8 por ejemplo no mejoran los resultados. \n"
   ]
  },
  {
   "cell_type": "code",
   "execution_count": 5,
   "id": "fb4fece5-aff2-4590-8ec2-27abfaeb6852",
   "metadata": {
    "tags": []
   },
   "outputs": [
    {
     "data": {
      "text/plain": [
       "<BarContainer object of 4 artists>"
      ]
     },
     "execution_count": 5,
     "metadata": {},
     "output_type": "execute_result"
    },
    {
     "data": {
      "image/png": "[encoded data removed]",
      "text/plain": [
       "<Figure size 640x480 with 1 Axes>"
      ]
     },
     "metadata": {},
     "output_type": "display_data"
    }
   ],
   "source": [
    "\"\"\"\n",
    "3. Representamos claramente un gráfico de barras para concluir en este paso mostrando la imprecisión del resultado de utilizar 0 grovers\n",
    "\"\"\"\n",
    "plt.bar(sim_mean_error['n_grovers'].astype(str), sim_mean_error['rel_error'])"
   ]
  },
  {
   "cell_type": "markdown",
   "id": "75d97fb2-a25f-43b0-903c-137078eee9f9",
   "metadata": {
    "tags": []
   },
   "source": [
    "# <center> ¿Qué pasa en el mundo real? </center>\n",
    "\n",
    "A continuación: \n",
    "1. Se cargan los datos obtenidos de múltiples ejecuciones del algoritmo en el ordenador IBMQ_MANILA\n",
    "2. Se agrupan para hallar el error relativo medio de cada uno de los circuitos propuestos\n",
    "3. Realizamos la comparación vs el simulador"
   ]
  },
  {
   "cell_type": "code",
   "execution_count": 6,
   "id": "518d304c-eb12-4563-addd-361da3d3ef3c",
   "metadata": {
    "tags": []
   },
   "outputs": [
    {
     "data": {
      "text/html": [
       "<div>\n",
       "<style scoped>\n",
       "    .dataframe tbody tr th:only-of-type {\n",
       "        vertical-align: middle;\n",
       "    }\n",
       "\n",
       "    .dataframe tbody tr th {\n",
       "        vertical-align: top;\n",
       "    }\n",
       "\n",
       "    .dataframe thead th {\n",
       "        text-align: right;\n",
       "    }\n",
       "</style>\n",
       "<table border=\"1\" class=\"dataframe\">\n",
       "  <thead>\n",
       "    <tr style=\"text-align: right;\">\n",
       "      <th></th>\n",
       "      <th>n_grovers</th>\n",
       "      <th>theta_candidate</th>\n",
       "      <th>a_candidate</th>\n",
       "      <th>rel_error</th>\n",
       "      <th>n_shots</th>\n",
       "      <th>execc_index</th>\n",
       "      <th>analytical_result</th>\n",
       "    </tr>\n",
       "  </thead>\n",
       "  <tbody>\n",
       "    <tr>\n",
       "      <th>0</th>\n",
       "      <td>0</td>\n",
       "      <td>0.538663</td>\n",
       "      <td>0.263158</td>\n",
       "      <td>0.464954</td>\n",
       "      <td>32</td>\n",
       "      <td>1</td>\n",
       "      <td>0.179636</td>\n",
       "    </tr>\n",
       "    <tr>\n",
       "      <th>1</th>\n",
       "      <td>1</td>\n",
       "      <td>0.696963</td>\n",
       "      <td>0.412025</td>\n",
       "      <td>1.293674</td>\n",
       "      <td>32</td>\n",
       "      <td>1</td>\n",
       "      <td>0.179636</td>\n",
       "    </tr>\n",
       "    <tr>\n",
       "      <th>2</th>\n",
       "      <td>2</td>\n",
       "      <td>0.777071</td>\n",
       "      <td>0.491674</td>\n",
       "      <td>1.737061</td>\n",
       "      <td>32</td>\n",
       "      <td>1</td>\n",
       "      <td>0.179636</td>\n",
       "    </tr>\n",
       "    <tr>\n",
       "      <th>3</th>\n",
       "      <td>4</td>\n",
       "      <td>0.773139</td>\n",
       "      <td>0.487742</td>\n",
       "      <td>1.715177</td>\n",
       "      <td>32</td>\n",
       "      <td>1</td>\n",
       "      <td>0.179636</td>\n",
       "    </tr>\n",
       "    <tr>\n",
       "      <th>4</th>\n",
       "      <td>0</td>\n",
       "      <td>0.538663</td>\n",
       "      <td>0.263158</td>\n",
       "      <td>0.464954</td>\n",
       "      <td>64</td>\n",
       "      <td>1</td>\n",
       "      <td>0.179636</td>\n",
       "    </tr>\n",
       "    <tr>\n",
       "      <th>...</th>\n",
       "      <td>...</td>\n",
       "      <td>...</td>\n",
       "      <td>...</td>\n",
       "      <td>...</td>\n",
       "      <td>...</td>\n",
       "      <td>...</td>\n",
       "      <td>...</td>\n",
       "    </tr>\n",
       "    <tr>\n",
       "      <th>235</th>\n",
       "      <td>4</td>\n",
       "      <td>0.406400</td>\n",
       "      <td>0.156266</td>\n",
       "      <td>0.130093</td>\n",
       "      <td>512</td>\n",
       "      <td>10</td>\n",
       "      <td>0.179636</td>\n",
       "    </tr>\n",
       "    <tr>\n",
       "      <th>236</th>\n",
       "      <td>0</td>\n",
       "      <td>0.538663</td>\n",
       "      <td>0.263158</td>\n",
       "      <td>0.464954</td>\n",
       "      <td>1024</td>\n",
       "      <td>10</td>\n",
       "      <td>0.179636</td>\n",
       "    </tr>\n",
       "    <tr>\n",
       "      <th>237</th>\n",
       "      <td>1</td>\n",
       "      <td>0.614025</td>\n",
       "      <td>0.331962</td>\n",
       "      <td>0.847976</td>\n",
       "      <td>1024</td>\n",
       "      <td>10</td>\n",
       "      <td>0.179636</td>\n",
       "    </tr>\n",
       "    <tr>\n",
       "      <th>238</th>\n",
       "      <td>2</td>\n",
       "      <td>0.589087</td>\n",
       "      <td>0.308694</td>\n",
       "      <td>0.718445</td>\n",
       "      <td>1024</td>\n",
       "      <td>10</td>\n",
       "      <td>0.179636</td>\n",
       "    </tr>\n",
       "    <tr>\n",
       "      <th>239</th>\n",
       "      <td>4</td>\n",
       "      <td>0.584212</td>\n",
       "      <td>0.304199</td>\n",
       "      <td>0.693422</td>\n",
       "      <td>1024</td>\n",
       "      <td>10</td>\n",
       "      <td>0.179636</td>\n",
       "    </tr>\n",
       "  </tbody>\n",
       "</table>\n",
       "<p>240 rows × 7 columns</p>\n",
       "</div>"
      ],
      "text/plain": [
       "     n_grovers  theta_candidate  a_candidate  rel_error  n_shots  execc_index  \\\n",
       "0            0         0.538663     0.263158   0.464954       32            1   \n",
       "1            1         0.696963     0.412025   1.293674       32            1   \n",
       "2            2         0.777071     0.491674   1.737061       32            1   \n",
       "3            4         0.773139     0.487742   1.715177       32            1   \n",
       "4            0         0.538663     0.263158   0.464954       64            1   \n",
       "..         ...              ...          ...        ...      ...          ...   \n",
       "235          4         0.406400     0.156266   0.130093      512           10   \n",
       "236          0         0.538663     0.263158   0.464954     1024           10   \n",
       "237          1         0.614025     0.331962   0.847976     1024           10   \n",
       "238          2         0.589087     0.308694   0.718445     1024           10   \n",
       "239          4         0.584212     0.304199   0.693422     1024           10   \n",
       "\n",
       "     analytical_result  \n",
       "0             0.179636  \n",
       "1             0.179636  \n",
       "2             0.179636  \n",
       "3             0.179636  \n",
       "4             0.179636  \n",
       "..                 ...  \n",
       "235           0.179636  \n",
       "236           0.179636  \n",
       "237           0.179636  \n",
       "238           0.179636  \n",
       "239           0.179636  \n",
       "\n",
       "[240 rows x 7 columns]"
      ]
     },
     "execution_count": 6,
     "metadata": {},
     "output_type": "execute_result"
    }
   ],
   "source": [
    "\"\"\"\n",
    "1. Se cargan los resultados obtenidos de las ejecuciones en un ordenador real.\n",
    "\"\"\"\n",
    "real_res = pd.read_csv(r\"../Output/MLQAE_vFin_results_REAL_QASM_10.csv\").drop([\"Unnamed: 0\"], axis = 1)\n",
    "real_res"
   ]
  },
  {
   "cell_type": "code",
   "execution_count": 16,
   "id": "0689be03-c4be-421d-ba4b-a9784d6fcfd4",
   "metadata": {
    "tags": []
   },
   "outputs": [
    {
     "name": "stdout",
     "output_type": "stream",
     "text": [
      "Error relativo medio para 1024 shots y número variable de Grovers\n",
      "   n_grovers  rel_error\n",
      "0          0   0.259861\n",
      "1          1   0.382245\n",
      "2          2   0.283437\n",
      "3          4   0.239850\n",
      "\n",
      "\n",
      "Error relativo mínimo para 1024 shots y número variable de Grovers\n",
      "   n_grovers  rel_error\n",
      "0          0   0.171963\n",
      "1          1   0.182646\n",
      "2          2   0.085293\n",
      "3          4   0.030811\n"
     ]
    },
    {
     "data": {
      "text/plain": [
       "<BarContainer object of 4 artists>"
      ]
     },
     "execution_count": 16,
     "metadata": {},
     "output_type": "execute_result"
    },
    {
     "data": {
      "image/png": "[encoded data removed]",
      "text/plain": [
       "<Figure size 640x480 with 1 Axes>"
      ]
     },
     "metadata": {},
     "output_type": "display_data"
    }
   ],
   "source": [
    "\"\"\"\n",
    "2. Agrupamos los resultados para que se vea el error relativo de cada uno de los circuitos tras sucesivas ejecuciones. \n",
    "\"\"\"\n",
    "real_mean_error = pd.DataFrame(real_res[real_res[\"n_shots\"] == 1024].groupby([\"n_grovers\"])[\"rel_error\"].mean().reset_index())\n",
    "real_min_error = pd.DataFrame(real_res[real_res[\"n_shots\"] == 1024].groupby([\"n_grovers\"])[\"rel_error\"].min().reset_index())\n",
    "print(\"Error relativo medio para 1024 shots y número variable de Grovers\")\n",
    "print(real_mean_error)\n",
    "print(\"\\n\")\n",
    "print(\"Error relativo mínimo para 1024 shots y número variable de Grovers\")\n",
    "print(real_min_error)\n",
    "\n",
    "plt.bar(real_mean_error['n_grovers'].astype(str), real_mean_error['rel_error'])\n",
    "plt.bar(real_min_error['n_grovers'].astype(str), real_min_error['rel_error'])"
   ]
  },
  {
   "cell_type": "code",
   "execution_count": 8,
   "id": "6c3fd3cd-291c-4091-8b6e-43c0549f9b57",
   "metadata": {
    "tags": []
   },
   "outputs": [
    {
     "data": {
      "image/png": "[encoded data removed]",
      "text/plain": [
       "<Figure size 640x480 with 1 Axes>"
      ]
     },
     "metadata": {},
     "output_type": "display_data"
    }
   ],
   "source": [
    "\"\"\"\n",
    "Representamos a continuación los resultados obtenidos en el mundo real y los simuladores\n",
    "\"\"\"\n",
    "sim_mean_error_4_grover = pd.DataFrame(sim_res[sim_res[\"n_grovers\"] == 4].groupby([\"n_shots\", \"n_grovers\"])[\"rel_error\"].mean().reset_index())\n",
    "sim_max_error_4_grover = pd.DataFrame(sim_res[sim_res[\"n_grovers\"] == 4].groupby([\"n_shots\", \"n_grovers\"])[\"rel_error\"].max().reset_index())\n",
    "sim_min_error_4_grover = pd.DataFrame(sim_res[sim_res[\"n_grovers\"] == 4].groupby([\"n_shots\", \"n_grovers\"])[\"rel_error\"].min().reset_index())\n",
    "\n",
    "\n",
    "real_mean_error_4_grover = pd.DataFrame(real_res[real_res[\"n_grovers\"] == 4].groupby([\"n_shots\", \"n_grovers\"])[\"rel_error\"].mean().reset_index())\n",
    "real_max_error_4_grover = pd.DataFrame(real_res[real_res[\"n_grovers\"] == 4].groupby([\"n_shots\", \"n_grovers\"])[\"rel_error\"].max().reset_index())\n",
    "real_min_error_4_grover = pd.DataFrame(real_res[real_res[\"n_grovers\"] == 4].groupby([\"n_shots\", \"n_grovers\"])[\"rel_error\"].min().reset_index())\n",
    "\n",
    "\n",
    "# Plot sim\n",
    "plt.plot(sim_mean_error_4_grover[\"n_shots\"], sim_mean_error_4_grover[\"rel_error\"], \"-^\")\n",
    "plt.plot(sim_max_error_4_grover[\"n_shots\"], sim_max_error_4_grover[\"rel_error\"], \"-^\")\n",
    "\n",
    "# Plot real quantum computer\n",
    "plt.plot(real_min_error_4_grover[\"n_shots\"], real_min_error_4_grover[\"rel_error\"], \"-o\")\n",
    "plt.plot(real_mean_error_4_grover[\"n_shots\"], real_mean_error_4_grover[\"rel_error\"], \"-o\")\n",
    "plt.plot(real_max_error_4_grover[\"n_shots\"], real_max_error_4_grover[\"rel_error\"], \"-o\")\n",
    "\n",
    "\n",
    "plt.ylim(0,2)\n",
    "plt.xlabel(\"Number of shots\")\n",
    "plt.ylabel(\"Relative Error\")\n",
    "plt.legend([\"QASM SIM - Relative Error\", \"QASM SIM - Max Error\", \"IBMQ MAnila - Min Rel. Error\",\n",
    "            \"IBMQ MAnila - Relative Error\", \"IBMQ MAnila - Max Rel. Error\"])\n",
    "\n",
    "plt.show()"
   ]
  },
  {
   "cell_type": "markdown",
   "id": "69e1b20d-3f1a-4d04-972f-ac3b7936605f",
   "metadata": {
    "tags": []
   },
   "source": [
    "# Comentarios sobre este paso\n",
    "\n",
    "A continuación: \n",
    "1. Se ha visto como lo que se predecía en el simulador se traslada al mundo real. \n",
    "2. Se ha visto en concreto el caso de los 1024. Viendo el error relativo medio y mínimo para que se vea como \"gana\" al resto de circuitos en precisión\n",
    "3. como se puede observar en el el caso del rimer Q, parece que el error es mayor que sin ningún grover, pero, es que cuando entramos en el mundo real la profundidad del circuito importa "
   ]
  },
  {
   "cell_type": "markdown",
   "id": "6b3cf464-7d56-4545-8254-2bf5af9320dd",
   "metadata": {
    "tags": []
   },
   "source": [
    "# <center> Ahora bien ¿Qué nos dice el protocolo de acreditación? </center>\n",
    "\n",
    "El protocolo de acreditación no funciona sobre los métodos de post procesamiento como el MLQAE. Funciona de forma previa, validando si la ejecución del cicuito es buena o no. Independientemente del resultado dela estimación."
   ]
  },
  {
   "cell_type": "markdown",
   "id": "57148fb2-f2aa-4fbe-9d5f-053fd7267c4c",
   "metadata": {
    "tags": []
   },
   "source": [
    "# Resultados del protocolo de acreditación en un simulador ideal (sin ruido)\n",
    "\n",
    "El protocolo de acreditación en un entorno sin ruido se puede comprobar a continuación como siempre valida positivamente la ejecución del circuito. \n",
    "\n",
    "Para el caso ideal SIEMPRE se acredita positivamente la ejecucion del circuito"
   ]
  },
  {
   "cell_type": "code",
   "execution_count": 7,
   "id": "ec60c3f9-c7aa-4a64-9968-06a735e7ae5d",
   "metadata": {
    "tags": []
   },
   "outputs": [
    {
     "name": "stdout",
     "output_type": "stream",
     "text": [
      "Protocol run number 1 , outputs of the target accepted\n",
      "Protocol run number 2 , outputs of the target accepted\n",
      "Protocol run number 3 , outputs of the target accepted\n",
      "Protocol run number 4 , outputs of the target accepted\n",
      "Protocol run number 5 , outputs of the target accepted\n",
      "Protocol run number 6 , outputs of the target accepted\n",
      "Protocol run number 7 , outputs of the target accepted\n",
      "Protocol run number 8 , outputs of the target accepted\n",
      "Protocol run number 9 , outputs of the target accepted\n",
      "Protocol run number 10 , outputs of the target accepted\n",
      "Protocol run number 11 , outputs of the target accepted\n",
      "Protocol run number 12 , outputs of the target accepted\n",
      "Protocol run number 13 , outputs of the target accepted\n",
      "Protocol run number 14 , outputs of the target accepted\n",
      "Protocol run number 15 , outputs of the target accepted\n",
      "Protocol run number 16 , outputs of the target accepted\n",
      "Protocol run number 17 , outputs of the target accepted\n",
      "Protocol run number 18 , outputs of the target accepted\n",
      "Protocol run number 19 , outputs of the target accepted\n",
      "Protocol run number 20 , outputs of the target accepted\n",
      "\n",
      "AP accepted 20 out of 20 times.\n",
      "\n",
      "With confidence 1.0 AP certifies that VD is upper-bounded by 0.16267942583732053\n"
     ]
    },
    {
     "name": "stderr",
     "output_type": "stream",
     "text": [
      "/tmp/ipykernel_81/3329403082.py:15: DeprecationWarning: single_protocol_run is being deprecated. Use AppendResult or AppendString\n",
      "  test_1.single_protocol_run(result, postp_list, v_zero)\n",
      "/tmp/ipykernel_81/3329403082.py:23: DeprecationWarning: bound_variation_distance is being deprecated. Use FullAccreditation or MeanAccreditation\n",
      "  test_1.bound_variation_distance(theta)\n"
     ]
    }
   ],
   "source": [
    "from qiskit_ibm_runtime import QiskitRuntimeService\n",
    "service = QiskitRuntimeService()\n",
    "\n",
    "test_1 = AccreditationFitter()\n",
    "\n",
    "job = execute(circ_list, backend, shots=1)\n",
    "#job = service.job(\"cj4cjuc3bgbqjl92p200\")\n",
    "result = job.result()\n",
    "\n",
    "counts = job.result().get_counts()\n",
    "\n",
    "# Post-process the outputs and see if the protocol accepts\n",
    "\n",
    "for run in range(20):\n",
    "    test_1.single_protocol_run(result, postp_list, v_zero)\n",
    "    print(\"Protocol run number\",run+1,\", outputs of the target\",test_1.flag)\n",
    "#print(\"Protocol run, outputs of the target\",test_1.flag)\n",
    "\n",
    "print(\"\\nAP accepted\",test_1.N_acc,\"out of\",test_1.num_runs,\"times.\")\n",
    "\n",
    "theta = 0.05\n",
    "\n",
    "test_1.bound_variation_distance(theta)\n",
    "print(\"\\nWith confidence\",test_1.confidence,\"AP certifies that VD is upper-bounded by\",test_1.bound)"
   ]
  },
  {
   "cell_type": "markdown",
   "id": "bd36a505-67d7-423f-a603-6dffff9046c7",
   "metadata": {
    "tags": []
   },
   "source": [
    "# Resultados del protocolo de acreditación en un simulador con nivel de ruido 0.0003\n",
    "\n",
    "Para el caso con ruido NO siempre se acredita positivamente la ejecucion del circuito.\n",
    "Este error ha sido escogido dado que cuando vamos al IMBQ Manila, vemos lo siguiente: \"Median SX Error: 3.364e-4\""
   ]
  },
  {
   "cell_type": "code",
   "execution_count": 10,
   "id": "00bae61e-3735-473e-8c09-2986a269cffa",
   "metadata": {},
   "outputs": [
    {
     "data": {
      "text/html": [
       "<div>\n",
       "<style scoped>\n",
       "    .dataframe tbody tr th:only-of-type {\n",
       "        vertical-align: middle;\n",
       "    }\n",
       "\n",
       "    .dataframe tbody tr th {\n",
       "        vertical-align: top;\n",
       "    }\n",
       "\n",
       "    .dataframe thead th {\n",
       "        text-align: right;\n",
       "    }\n",
       "</style>\n",
       "<table border=\"1\" class=\"dataframe\">\n",
       "  <thead>\n",
       "    <tr style=\"text-align: right;\">\n",
       "      <th></th>\n",
       "      <th>n_acceptance</th>\n",
       "      <th>acc_confidence</th>\n",
       "      <th>acc_variation_distance</th>\n",
       "      <th>acc_num_traps</th>\n",
       "      <th>n_grovers</th>\n",
       "      <th>n_shots</th>\n",
       "    </tr>\n",
       "  </thead>\n",
       "  <tbody>\n",
       "    <tr>\n",
       "      <th>0</th>\n",
       "      <td>21</td>\n",
       "      <td>1</td>\n",
       "      <td>0.357895</td>\n",
       "      <td>4</td>\n",
       "      <td>0</td>\n",
       "      <td>32</td>\n",
       "    </tr>\n",
       "    <tr>\n",
       "      <th>1</th>\n",
       "      <td>21</td>\n",
       "      <td>1</td>\n",
       "      <td>0.298246</td>\n",
       "      <td>5</td>\n",
       "      <td>0</td>\n",
       "      <td>32</td>\n",
       "    </tr>\n",
       "    <tr>\n",
       "      <th>2</th>\n",
       "      <td>21</td>\n",
       "      <td>1</td>\n",
       "      <td>0.255639</td>\n",
       "      <td>6</td>\n",
       "      <td>0</td>\n",
       "      <td>32</td>\n",
       "    </tr>\n",
       "    <tr>\n",
       "      <th>3</th>\n",
       "      <td>21</td>\n",
       "      <td>1</td>\n",
       "      <td>0.223684</td>\n",
       "      <td>7</td>\n",
       "      <td>0</td>\n",
       "      <td>32</td>\n",
       "    </tr>\n",
       "    <tr>\n",
       "      <th>4</th>\n",
       "      <td>21</td>\n",
       "      <td>1</td>\n",
       "      <td>0.198830</td>\n",
       "      <td>8</td>\n",
       "      <td>0</td>\n",
       "      <td>32</td>\n",
       "    </tr>\n",
       "    <tr>\n",
       "      <th>...</th>\n",
       "      <td>...</td>\n",
       "      <td>...</td>\n",
       "      <td>...</td>\n",
       "      <td>...</td>\n",
       "      <td>...</td>\n",
       "      <td>...</td>\n",
       "    </tr>\n",
       "    <tr>\n",
       "      <th>163</th>\n",
       "      <td>15</td>\n",
       "      <td>1</td>\n",
       "      <td>0.365591</td>\n",
       "      <td>6</td>\n",
       "      <td>4</td>\n",
       "      <td>1024</td>\n",
       "    </tr>\n",
       "    <tr>\n",
       "      <th>164</th>\n",
       "      <td>13</td>\n",
       "      <td>1</td>\n",
       "      <td>0.373431</td>\n",
       "      <td>7</td>\n",
       "      <td>4</td>\n",
       "      <td>1024</td>\n",
       "    </tr>\n",
       "    <tr>\n",
       "      <th>165</th>\n",
       "      <td>9</td>\n",
       "      <td>1</td>\n",
       "      <td>0.498952</td>\n",
       "      <td>8</td>\n",
       "      <td>4</td>\n",
       "      <td>1024</td>\n",
       "    </tr>\n",
       "    <tr>\n",
       "      <th>166</th>\n",
       "      <td>10</td>\n",
       "      <td>1</td>\n",
       "      <td>0.398883</td>\n",
       "      <td>9</td>\n",
       "      <td>4</td>\n",
       "      <td>1024</td>\n",
       "    </tr>\n",
       "    <tr>\n",
       "      <th>167</th>\n",
       "      <td>10</td>\n",
       "      <td>1</td>\n",
       "      <td>0.362621</td>\n",
       "      <td>10</td>\n",
       "      <td>4</td>\n",
       "      <td>1024</td>\n",
       "    </tr>\n",
       "  </tbody>\n",
       "</table>\n",
       "<p>168 rows × 6 columns</p>\n",
       "</div>"
      ],
      "text/plain": [
       "     n_acceptance  acc_confidence  acc_variation_distance  acc_num_traps  \\\n",
       "0              21               1                0.357895              4   \n",
       "1              21               1                0.298246              5   \n",
       "2              21               1                0.255639              6   \n",
       "3              21               1                0.223684              7   \n",
       "4              21               1                0.198830              8   \n",
       "..            ...             ...                     ...            ...   \n",
       "163            15               1                0.365591              6   \n",
       "164            13               1                0.373431              7   \n",
       "165             9               1                0.498952              8   \n",
       "166            10               1                0.398883              9   \n",
       "167            10               1                0.362621             10   \n",
       "\n",
       "     n_grovers  n_shots  \n",
       "0            0       32  \n",
       "1            0       32  \n",
       "2            0       32  \n",
       "3            0       32  \n",
       "4            0       32  \n",
       "..         ...      ...  \n",
       "163          4     1024  \n",
       "164          4     1024  \n",
       "165          4     1024  \n",
       "166          4     1024  \n",
       "167          4     1024  \n",
       "\n",
       "[168 rows x 6 columns]"
      ]
     },
     "execution_count": 10,
     "metadata": {},
     "output_type": "execute_result"
    }
   ],
   "source": [
    "\"\"\"\n",
    "1. Cargamos los resultados igual que antes. \n",
    "\"\"\"\n",
    "accsys_result = pd.read_csv(\"../Output/ACC_results_on_MLQAE.csv\", sep=\";\")\n",
    "accsys_result"
   ]
  },
  {
   "cell_type": "code",
   "execution_count": 17,
   "id": "7580d839-6162-4480-b094-846587a16205",
   "metadata": {
    "tags": []
   },
   "outputs": [
    {
     "name": "stdout",
     "output_type": "stream",
     "text": [
      "Número total de veces que se ha ejecutado el protocolo de acreditación sobre el circuito = 21\n",
      "Nivel de ruido equivalente al de un IBMQ Manila (0.0003 en SX)\n"
     ]
    },
    {
     "data": {
      "text/html": [
       "<div>\n",
       "<style scoped>\n",
       "    .dataframe tbody tr th:only-of-type {\n",
       "        vertical-align: middle;\n",
       "    }\n",
       "\n",
       "    .dataframe tbody tr th {\n",
       "        vertical-align: top;\n",
       "    }\n",
       "\n",
       "    .dataframe thead th {\n",
       "        text-align: right;\n",
       "    }\n",
       "</style>\n",
       "<table border=\"1\" class=\"dataframe\">\n",
       "  <thead>\n",
       "    <tr style=\"text-align: right;\">\n",
       "      <th></th>\n",
       "      <th>n_grovers</th>\n",
       "      <th>mean_acc</th>\n",
       "      <th>n_acceptance</th>\n",
       "    </tr>\n",
       "  </thead>\n",
       "  <tbody>\n",
       "    <tr>\n",
       "      <th>0</th>\n",
       "      <td>0</td>\n",
       "      <td>0.248074</td>\n",
       "      <td>20.285714</td>\n",
       "    </tr>\n",
       "    <tr>\n",
       "      <th>1</th>\n",
       "      <td>1</td>\n",
       "      <td>0.291662</td>\n",
       "      <td>17.571429</td>\n",
       "    </tr>\n",
       "    <tr>\n",
       "      <th>2</th>\n",
       "      <td>2</td>\n",
       "      <td>0.361710</td>\n",
       "      <td>14.714286</td>\n",
       "    </tr>\n",
       "    <tr>\n",
       "      <th>3</th>\n",
       "      <td>4</td>\n",
       "      <td>0.431927</td>\n",
       "      <td>12.142857</td>\n",
       "    </tr>\n",
       "  </tbody>\n",
       "</table>\n",
       "</div>"
      ],
      "text/plain": [
       "   n_grovers  mean_acc  n_acceptance\n",
       "0          0  0.248074     20.285714\n",
       "1          1  0.291662     17.571429\n",
       "2          2  0.361710     14.714286\n",
       "3          4  0.431927     12.142857"
      ]
     },
     "execution_count": 17,
     "metadata": {},
     "output_type": "execute_result"
    }
   ],
   "source": [
    "\"\"\"\n",
    "2. se puede ver que, a medida que crece el circuito, el protocolo de acreditación funciona peor en terminos de acreditación y de variation distance.\n",
    "\"\"\"\n",
    "acc_mean_vd = accsys_result[accsys_result[\"n_shots\"] == 1024].groupby([\"n_grovers\"])[[\"acc_variation_distance\", \"n_acceptance\"]].mean().reset_index().rename(columns={\"acc_variation_distance\":\"mean_acc\"})\n",
    "print(\"Número total de veces que se ha ejecutado el protocolo de acreditación sobre el circuito = 21\")\n",
    "print(\"Nivel de ruido equivalente al de un IBMQ Manila (0.0003 en SX)\")\n",
    "acc_mean_vd"
   ]
  },
  {
   "cell_type": "code",
   "execution_count": 15,
   "id": "40e3f16b-3ad2-4e8d-b030-efbb53407d58",
   "metadata": {
    "tags": []
   },
   "outputs": [
    {
     "name": "stdout",
     "output_type": "stream",
     "text": [
      "Resultado de 10 ejecuciones en el simulador para 1024 shots y 4 grovers\n"
     ]
    },
    {
     "data": {
      "text/html": [
       "<div>\n",
       "<style scoped>\n",
       "    .dataframe tbody tr th:only-of-type {\n",
       "        vertical-align: middle;\n",
       "    }\n",
       "\n",
       "    .dataframe tbody tr th {\n",
       "        vertical-align: top;\n",
       "    }\n",
       "\n",
       "    .dataframe thead th {\n",
       "        text-align: right;\n",
       "    }\n",
       "</style>\n",
       "<table border=\"1\" class=\"dataframe\">\n",
       "  <thead>\n",
       "    <tr style=\"text-align: right;\">\n",
       "      <th></th>\n",
       "      <th>n_grovers</th>\n",
       "      <th>theta_candidate</th>\n",
       "      <th>a_candidate</th>\n",
       "      <th>rel_error</th>\n",
       "      <th>n_shots</th>\n",
       "      <th>execc_index</th>\n",
       "      <th>analytical_result</th>\n",
       "    </tr>\n",
       "  </thead>\n",
       "  <tbody>\n",
       "    <tr>\n",
       "      <th>23</th>\n",
       "      <td>4</td>\n",
       "      <td>0.436610</td>\n",
       "      <td>0.178819</td>\n",
       "      <td>0.004544</td>\n",
       "      <td>1024</td>\n",
       "      <td>1</td>\n",
       "      <td>0.179636</td>\n",
       "    </tr>\n",
       "    <tr>\n",
       "      <th>47</th>\n",
       "      <td>4</td>\n",
       "      <td>0.439211</td>\n",
       "      <td>0.180817</td>\n",
       "      <td>0.006575</td>\n",
       "      <td>1024</td>\n",
       "      <td>2</td>\n",
       "      <td>0.179636</td>\n",
       "    </tr>\n",
       "    <tr>\n",
       "      <th>71</th>\n",
       "      <td>4</td>\n",
       "      <td>0.436007</td>\n",
       "      <td>0.178357</td>\n",
       "      <td>0.007117</td>\n",
       "      <td>1024</td>\n",
       "      <td>3</td>\n",
       "      <td>0.179636</td>\n",
       "    </tr>\n",
       "    <tr>\n",
       "      <th>95</th>\n",
       "      <td>4</td>\n",
       "      <td>0.436173</td>\n",
       "      <td>0.178484</td>\n",
       "      <td>0.006409</td>\n",
       "      <td>1024</td>\n",
       "      <td>4</td>\n",
       "      <td>0.179636</td>\n",
       "    </tr>\n",
       "    <tr>\n",
       "      <th>119</th>\n",
       "      <td>4</td>\n",
       "      <td>0.436145</td>\n",
       "      <td>0.178462</td>\n",
       "      <td>0.006531</td>\n",
       "      <td>1024</td>\n",
       "      <td>5</td>\n",
       "      <td>0.179636</td>\n",
       "    </tr>\n",
       "    <tr>\n",
       "      <th>143</th>\n",
       "      <td>4</td>\n",
       "      <td>0.437300</td>\n",
       "      <td>0.179348</td>\n",
       "      <td>0.001598</td>\n",
       "      <td>1024</td>\n",
       "      <td>6</td>\n",
       "      <td>0.179636</td>\n",
       "    </tr>\n",
       "    <tr>\n",
       "      <th>167</th>\n",
       "      <td>4</td>\n",
       "      <td>0.437919</td>\n",
       "      <td>0.179824</td>\n",
       "      <td>0.001047</td>\n",
       "      <td>1024</td>\n",
       "      <td>7</td>\n",
       "      <td>0.179636</td>\n",
       "    </tr>\n",
       "    <tr>\n",
       "      <th>191</th>\n",
       "      <td>4</td>\n",
       "      <td>0.438547</td>\n",
       "      <td>0.180306</td>\n",
       "      <td>0.003731</td>\n",
       "      <td>1024</td>\n",
       "      <td>8</td>\n",
       "      <td>0.179636</td>\n",
       "    </tr>\n",
       "    <tr>\n",
       "      <th>215</th>\n",
       "      <td>4</td>\n",
       "      <td>0.439387</td>\n",
       "      <td>0.180952</td>\n",
       "      <td>0.007331</td>\n",
       "      <td>1024</td>\n",
       "      <td>9</td>\n",
       "      <td>0.179636</td>\n",
       "    </tr>\n",
       "    <tr>\n",
       "      <th>239</th>\n",
       "      <td>4</td>\n",
       "      <td>0.438468</td>\n",
       "      <td>0.180245</td>\n",
       "      <td>0.003392</td>\n",
       "      <td>1024</td>\n",
       "      <td>10</td>\n",
       "      <td>0.179636</td>\n",
       "    </tr>\n",
       "  </tbody>\n",
       "</table>\n",
       "</div>"
      ],
      "text/plain": [
       "     n_grovers  theta_candidate  a_candidate  rel_error  n_shots  execc_index  \\\n",
       "23           4         0.436610     0.178819   0.004544     1024            1   \n",
       "47           4         0.439211     0.180817   0.006575     1024            2   \n",
       "71           4         0.436007     0.178357   0.007117     1024            3   \n",
       "95           4         0.436173     0.178484   0.006409     1024            4   \n",
       "119          4         0.436145     0.178462   0.006531     1024            5   \n",
       "143          4         0.437300     0.179348   0.001598     1024            6   \n",
       "167          4         0.437919     0.179824   0.001047     1024            7   \n",
       "191          4         0.438547     0.180306   0.003731     1024            8   \n",
       "215          4         0.439387     0.180952   0.007331     1024            9   \n",
       "239          4         0.438468     0.180245   0.003392     1024           10   \n",
       "\n",
       "     analytical_result  \n",
       "23            0.179636  \n",
       "47            0.179636  \n",
       "71            0.179636  \n",
       "95            0.179636  \n",
       "119           0.179636  \n",
       "143           0.179636  \n",
       "167           0.179636  \n",
       "191           0.179636  \n",
       "215           0.179636  \n",
       "239           0.179636  "
      ]
     },
     "execution_count": 15,
     "metadata": {},
     "output_type": "execute_result"
    }
   ],
   "source": [
    "resultado_df = sim_res[(sim_res[\"n_shots\"] == 1024) & (sim_res[\"n_grovers\"] == 4)]\n",
    "print(\"Resultado de 10 ejecuciones en el simulador para 1024 shots y 4 grovers\")\n",
    "resultado_df"
   ]
  },
  {
   "cell_type": "markdown",
   "id": "46dc8b46-d0a6-4e9e-9beb-288edf11cdec",
   "metadata": {
    "tags": []
   },
   "source": [
    "# Acredtiación en un ordenador real\n",
    "\n",
    "Para el caso real la acreditación en cambio no es positiva la mayoría de las veces\n",
    "Este error ha sido escogido dado que cuando vamos al IMBQ Manila, vemos lo siguiente: \"Median SX Error: 3.364e-4\""
   ]
  },
  {
   "cell_type": "code",
   "execution_count": 17,
   "id": "d6604094-6eea-48cb-9709-0ad7a723764d",
   "metadata": {
    "tags": []
   },
   "outputs": [
    {
     "name": "stdout",
     "output_type": "stream",
     "text": [
      "Protocol run number 1 , outputs of the target rejected\n",
      "Protocol run number 2 , outputs of the target rejected\n",
      "Protocol run number 3 , outputs of the target rejected\n",
      "Protocol run number 4 , outputs of the target rejected\n",
      "Protocol run number 5 , outputs of the target rejected\n",
      "Protocol run number 6 , outputs of the target rejected\n",
      "Protocol run number 7 , outputs of the target rejected\n",
      "Protocol run number 8 , outputs of the target rejected\n",
      "Protocol run number 9 , outputs of the target rejected\n",
      "Protocol run number 10 , outputs of the target rejected\n",
      "Protocol run number 11 , outputs of the target rejected\n",
      "Protocol run number 12 , outputs of the target rejected\n",
      "Protocol run number 13 , outputs of the target rejected\n",
      "Protocol run number 14 , outputs of the target rejected\n",
      "Protocol run number 15 , outputs of the target rejected\n",
      "Protocol run number 16 , outputs of the target rejected\n",
      "Protocol run number 17 , outputs of the target rejected\n",
      "Protocol run number 18 , outputs of the target rejected\n",
      "Protocol run number 19 , outputs of the target rejected\n",
      "Protocol run number 20 , outputs of the target rejected\n",
      "\n",
      "AP accepted 0 out of 20 times. Variation distance not calculated -> It needs at least 1 accepeted run\n"
     ]
    },
    {
     "name": "stderr",
     "output_type": "stream",
     "text": [
      "/tmp/ipykernel_81/198905227.py:15: DeprecationWarning: single_protocol_run is being deprecated. Use AppendResult or AppendString\n",
      "  test_1.single_protocol_run(result, postp_list, v_zero)\n"
     ]
    }
   ],
   "source": [
    "from qiskit_ibm_runtime import QiskitRuntimeService\n",
    "service = QiskitRuntimeService()\n",
    "\n",
    "test_1 = AccreditationFitter()\n",
    "\n",
    "#job = execute(circ_list, backend, shots=1)\n",
    "job = service.job(\"cj4cjuc3bgbqjl92p200\")\n",
    "result = job.result()\n",
    "\n",
    "counts = job.result().get_counts()\n",
    "\n",
    "# Post-process the outputs and see if the protocol accepts\n",
    "\n",
    "for run in range(20):\n",
    "    test_1.single_protocol_run(result, postp_list, v_zero)\n",
    "    print(\"Protocol run number\",run+1,\", outputs of the target\",test_1.flag)\n",
    "#print(\"Protocol run, outputs of the target\",test_1.flag)\n",
    "\n",
    "print(\"\\nAP accepted\",test_1.N_acc,\"out of\",test_1.num_runs,\"times. Variation distance not calculated -> It needs at least 1 accepeted run\")\n",
    "\n",
    "#theta = 0.05\n",
    "#\n",
    "#test_1.bound_variation_distance(theta)\n",
    "#print(\"\\nWith confidence\",test_1.confidence,\"AP certifies that VD is upper-bounded by\",test_1.bound)"
   ]
  },
  {
   "cell_type": "markdown",
   "id": "0ba8ce40-455d-4b0f-b0e8-68fbd0a2a148",
   "metadata": {
    "tags": []
   },
   "source": [
    "# Probando varias veces con distinto número de circuitos trampa: "
   ]
  },
  {
   "cell_type": "code",
   "execution_count": 26,
   "id": "95febe6d-17d7-4825-a04e-b7071e4ace7b",
   "metadata": {
    "tags": []
   },
   "outputs": [
    {
     "name": "stderr",
     "output_type": "stream",
     "text": [
      "/tmp/ipykernel_81/3124214100.py:33: DeprecationWarning: single_protocol_run is being deprecated. Use AppendResult or AppendString\n",
      "  test_4.single_protocol_run(result, postp_list, v_zero)\n"
     ]
    },
    {
     "name": "stdout",
     "output_type": "stream",
     "text": [
      "\n",
      "With 4 traps, AP accepted 1 out of 20 times.\n",
      "\n",
      "With 5 traps, AP accepted 0 out of 20 times.\n",
      "\n",
      "With 6 traps, AP accepted 0 out of 20 times.\n",
      "\n",
      "With 7 traps, AP accepted 0 out of 20 times.\n",
      "\n",
      "With 8 traps, AP accepted 0 out of 20 times.\n",
      "\n",
      "With 9 traps, AP accepted 0 out of 20 times.\n"
     ]
    }
   ],
   "source": [
    "min_traps = 4\n",
    "max_traps = 10\n",
    "\n",
    "\n",
    "for num_trap_circs in range(min_traps,max_traps):\n",
    "\n",
    "    test_4 = AccreditationFitter()\n",
    "    for run in range(20):\n",
    "\n",
    "        # Create target and trap circuits with different traps before just 10)\n",
    "        circuit_list, postp_list, v_zero = accsys.generate_circuits(num_trap_circs)\n",
    "\n",
    "        #job = execute(circuit_list, backend, noise_model=noise_model, basis_gates=basis_gates, shots=1)\n",
    "        #result = job.result()\n",
    "\n",
    "        job = service.job(\"cj4cjuc3bgbqjl92p200\")\n",
    "        result = job.result()\n",
    "        \n",
    "        # Post-process the outputs and see if the protocol accepts\n",
    "        test_4.single_protocol_run(result, postp_list, v_zero)\n",
    "\n",
    "    print(\"\\nWith\", num_trap_circs,\n",
    "          \"traps, AP accepted\", test_4.N_acc,\n",
    "          \"out of\", test_4.num_runs, \"times.\")\n",
    "   "
   ]
  },
  {
   "cell_type": "markdown",
   "id": "f2078a1c-001e-468a-8d37-29cc72b73211",
   "metadata": {
    "tags": []
   },
   "source": [
    "# <center> Conclusiones </center>\n",
    "\n",
    "- A mayor número de circuitos trama, más \"difícil\" es la acreditación\n",
    "- A mayor número de grovers (4) mejor precisión tendremos del resultado\n",
    "- Hay 2 puntos de vista para comparar las simulaciones con el mundo real:\n",
    "    - Resultado del post procesamiento: el error relativo nos da una medida de lo \"buena\" o \"mala\" que ha sido nuestra ejecución a posteriori\n",
    "    - Resultado del protocolo de acreditación: el ruido actual de los ordenadores cuánticos hace muy complicado acreditar las salidas ANTES de generarlas\n",
    "    - Por lo tanto, tenemos un compromiso de profundidad del circuito vs. calidad de la acreditación. "
   ]
  },
  {
   "cell_type": "markdown",
   "id": "4a65bdb5-7563-4005-879b-cf75465dae4e",
   "metadata": {
    "tags": []
   },
   "source": [
    "# <center> Estimacion sobre la bajada de ruido </center>\n",
    "\n",
    "Ejecución de un circuito con una décima menor de ruido que el IBMQ Manila 3x10e-5 (0.00003)"
   ]
  },
  {
   "cell_type": "code",
   "execution_count": null,
   "id": "4b0212fc-a4b7-4021-bb3c-b396b70365bc",
   "metadata": {},
   "outputs": [],
   "source": []
  }
 ],
 "metadata": {
  "kernelspec": {
   "display_name": "Python 3 (ipykernel)",
   "language": "python",
   "name": "python3"
  },
  "language_info": {
   "codemirror_mode": {
    "name": "ipython",
    "version": 3
   },
   "file_extension": ".py",
   "mimetype": "text/x-python",
   "name": "python",
   "nbconvert_exporter": "python",
   "pygments_lexer": "ipython3",
   "version": "3.10.8"
  },
  "widgets": {
   "application/vnd.jupyter.widget-state+json": {
    "state": {},
    "version_major": 2,
    "version_minor": 0
   }
  }
 },
 "nbformat": 4,
 "nbformat_minor": 5
}
