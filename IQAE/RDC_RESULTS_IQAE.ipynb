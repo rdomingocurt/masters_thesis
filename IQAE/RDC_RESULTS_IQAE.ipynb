{
 "cells": [
  {
   "cell_type": "code",
   "execution_count": 1,
   "id": "d777b0da-a1f0-494c-89b6-f3b46cf77f8a",
   "metadata": {
    "tags": []
   },
   "outputs": [],
   "source": [
    "import pandas as pd\n",
    "import matplotlib.pyplot as plt"
   ]
  },
  {
   "cell_type": "markdown",
   "id": "0800248c-8743-41be-825e-75bd49800313",
   "metadata": {
    "tags": []
   },
   "source": [
    "# <center> Representación de resultados. IQAE </center>\n",
    "\n",
    "A continuación se presentan los resultados de las salidas del IQAE. \n",
    "\n",
    "- Se leen de forma sencilla (con pandas) los ficheros generados con los resultados del IQAE (tanto en un ordenador real como en el simulador)\n",
    "- Se representan los resultados con Matplotlib"
   ]
  },
  {
   "cell_type": "code",
   "execution_count": 2,
   "id": "133da1b1-f16d-4cb7-a047-a7e7380c28a9",
   "metadata": {},
   "outputs": [
    {
     "data": {
      "text/html": [
       "<div>\n",
       "<style scoped>\n",
       "    .dataframe tbody tr th:only-of-type {\n",
       "        vertical-align: middle;\n",
       "    }\n",
       "\n",
       "    .dataframe tbody tr th {\n",
       "        vertical-align: top;\n",
       "    }\n",
       "\n",
       "    .dataframe thead th {\n",
       "        text-align: right;\n",
       "    }\n",
       "</style>\n",
       "<table border=\"1\" class=\"dataframe\">\n",
       "  <thead>\n",
       "    <tr style=\"text-align: right;\">\n",
       "      <th></th>\n",
       "      <th>a_candidate</th>\n",
       "      <th>rel_error</th>\n",
       "      <th>n_grovers</th>\n",
       "      <th>n_shots</th>\n",
       "      <th>iterations</th>\n",
       "      <th>analytical_result</th>\n",
       "    </tr>\n",
       "  </thead>\n",
       "  <tbody>\n",
       "    <tr>\n",
       "      <th>0</th>\n",
       "      <td>0.184300</td>\n",
       "      <td>0.025968</td>\n",
       "      <td>9</td>\n",
       "      <td>32</td>\n",
       "      <td>5</td>\n",
       "      <td>0.179636</td>\n",
       "    </tr>\n",
       "    <tr>\n",
       "      <th>1</th>\n",
       "      <td>0.183601</td>\n",
       "      <td>0.022078</td>\n",
       "      <td>8</td>\n",
       "      <td>64</td>\n",
       "      <td>5</td>\n",
       "      <td>0.179636</td>\n",
       "    </tr>\n",
       "    <tr>\n",
       "      <th>2</th>\n",
       "      <td>0.177997</td>\n",
       "      <td>0.009124</td>\n",
       "      <td>4</td>\n",
       "      <td>128</td>\n",
       "      <td>3</td>\n",
       "      <td>0.179636</td>\n",
       "    </tr>\n",
       "    <tr>\n",
       "      <th>3</th>\n",
       "      <td>0.176382</td>\n",
       "      <td>0.018113</td>\n",
       "      <td>2</td>\n",
       "      <td>256</td>\n",
       "      <td>2</td>\n",
       "      <td>0.179636</td>\n",
       "    </tr>\n",
       "    <tr>\n",
       "      <th>4</th>\n",
       "      <td>0.178122</td>\n",
       "      <td>0.008425</td>\n",
       "      <td>4</td>\n",
       "      <td>512</td>\n",
       "      <td>2</td>\n",
       "      <td>0.179636</td>\n",
       "    </tr>\n",
       "    <tr>\n",
       "      <th>5</th>\n",
       "      <td>0.180057</td>\n",
       "      <td>0.002349</td>\n",
       "      <td>6</td>\n",
       "      <td>1024</td>\n",
       "      <td>2</td>\n",
       "      <td>0.179636</td>\n",
       "    </tr>\n",
       "  </tbody>\n",
       "</table>\n",
       "</div>"
      ],
      "text/plain": [
       "   a_candidate  rel_error  n_grovers  n_shots  iterations  analytical_result\n",
       "0     0.184300   0.025968          9       32           5           0.179636\n",
       "1     0.183601   0.022078          8       64           5           0.179636\n",
       "2     0.177997   0.009124          4      128           3           0.179636\n",
       "3     0.176382   0.018113          2      256           2           0.179636\n",
       "4     0.178122   0.008425          4      512           2           0.179636\n",
       "5     0.180057   0.002349          6     1024           2           0.179636"
      ]
     },
     "execution_count": 2,
     "metadata": {},
     "output_type": "execute_result"
    }
   ],
   "source": [
    "sim_res = pd.read_csv(r\"../../Output/IQAE_vFin_results_SIM_QASM.csv\").drop([\"Unnamed: 0\"], axis = 1)\n",
    "sim_res"
   ]
  },
  {
   "cell_type": "code",
   "execution_count": 3,
   "id": "518d304c-eb12-4563-addd-361da3d3ef3c",
   "metadata": {
    "tags": []
   },
   "outputs": [
    {
     "data": {
      "text/html": [
       "<div>\n",
       "<style scoped>\n",
       "    .dataframe tbody tr th:only-of-type {\n",
       "        vertical-align: middle;\n",
       "    }\n",
       "\n",
       "    .dataframe tbody tr th {\n",
       "        vertical-align: top;\n",
       "    }\n",
       "\n",
       "    .dataframe thead th {\n",
       "        text-align: right;\n",
       "    }\n",
       "</style>\n",
       "<table border=\"1\" class=\"dataframe\">\n",
       "  <thead>\n",
       "    <tr style=\"text-align: right;\">\n",
       "      <th></th>\n",
       "      <th>a_candidate</th>\n",
       "      <th>rel_error</th>\n",
       "      <th>n_grovers</th>\n",
       "      <th>n_shots</th>\n",
       "      <th>iterations</th>\n",
       "      <th>analytical_result</th>\n",
       "    </tr>\n",
       "  </thead>\n",
       "  <tbody>\n",
       "    <tr>\n",
       "      <th>0</th>\n",
       "      <td>0.063672</td>\n",
       "      <td>0.645549</td>\n",
       "      <td>4</td>\n",
       "      <td>32</td>\n",
       "      <td>4</td>\n",
       "      <td>0.179636</td>\n",
       "    </tr>\n",
       "    <tr>\n",
       "      <th>1</th>\n",
       "      <td>0.192922</td>\n",
       "      <td>0.073965</td>\n",
       "      <td>9</td>\n",
       "      <td>64</td>\n",
       "      <td>4</td>\n",
       "      <td>0.179636</td>\n",
       "    </tr>\n",
       "    <tr>\n",
       "      <th>2</th>\n",
       "      <td>0.176862</td>\n",
       "      <td>0.015439</td>\n",
       "      <td>2</td>\n",
       "      <td>128</td>\n",
       "      <td>3</td>\n",
       "      <td>0.179636</td>\n",
       "    </tr>\n",
       "    <tr>\n",
       "      <th>3</th>\n",
       "      <td>0.171807</td>\n",
       "      <td>0.043582</td>\n",
       "      <td>2</td>\n",
       "      <td>256</td>\n",
       "      <td>2</td>\n",
       "      <td>0.179636</td>\n",
       "    </tr>\n",
       "    <tr>\n",
       "      <th>4</th>\n",
       "      <td>0.174794</td>\n",
       "      <td>0.026950</td>\n",
       "      <td>4</td>\n",
       "      <td>512</td>\n",
       "      <td>2</td>\n",
       "      <td>0.179636</td>\n",
       "    </tr>\n",
       "    <tr>\n",
       "      <th>5</th>\n",
       "      <td>0.176785</td>\n",
       "      <td>0.015868</td>\n",
       "      <td>4</td>\n",
       "      <td>1024</td>\n",
       "      <td>2</td>\n",
       "      <td>0.179636</td>\n",
       "    </tr>\n",
       "  </tbody>\n",
       "</table>\n",
       "</div>"
      ],
      "text/plain": [
       "   a_candidate  rel_error  n_grovers  n_shots  iterations  analytical_result\n",
       "0     0.063672   0.645549          4       32           4           0.179636\n",
       "1     0.192922   0.073965          9       64           4           0.179636\n",
       "2     0.176862   0.015439          2      128           3           0.179636\n",
       "3     0.171807   0.043582          2      256           2           0.179636\n",
       "4     0.174794   0.026950          4      512           2           0.179636\n",
       "5     0.176785   0.015868          4     1024           2           0.179636"
      ]
     },
     "execution_count": 3,
     "metadata": {},
     "output_type": "execute_result"
    }
   ],
   "source": [
    "real_res = pd.read_csv(r\"../../Output/IQAE_vFin_results_REAL_Manila.csv\").drop([\"Unnamed: 0\"], axis = 1)\n",
    "real_res"
   ]
  },
  {
   "cell_type": "code",
   "execution_count": 4,
   "id": "6c3fd3cd-291c-4091-8b6e-43c0549f9b57",
   "metadata": {
    "tags": []
   },
   "outputs": [
    {
     "data": {
      "image/png": "[encoded data removed]",
      "text/plain": [
       "<Figure size 640x480 with 1 Axes>"
      ]
     },
     "metadata": {},
     "output_type": "display_data"
    }
   ],
   "source": [
    "\n",
    "# Plot sim\n",
    "plt.plot(sim_res[\"n_shots\"], sim_res[\"rel_error\"], \"-^\")\n",
    "# Plot real quantum computer\n",
    "plt.plot(real_res[\"n_shots\"], real_res[\"rel_error\"], \"-o\")\n",
    "\n",
    "\n",
    "plt.xlabel(\"Number of shots\")\n",
    "plt.ylabel(\"Relative Error\")\n",
    "plt.legend([\"QASM SIM - Relative Error\", \"IBMQ MAnila - Rel. Error\"])\n",
    "\n",
    "plt.show()"
   ]
  },
  {
   "cell_type": "markdown",
   "id": "57148fb2-f2aa-4fbe-9d5f-053fd7267c4c",
   "metadata": {
    "tags": []
   },
   "source": [
    "## A continuación se presenta uno de los resultados de la gráfica superior: \n",
    "\n",
    "### <b> Error relativo mínimo obtenido con $Q^4$ a lo largo de varias ejecuciones con varios $N_shots$ </b> en un ordenador real (IBMQ_MANILA)\n"
   ]
  },
  {
   "cell_type": "code",
   "execution_count": 6,
   "id": "51f1396c-8efc-4e90-9046-08e3145b7f58",
   "metadata": {},
   "outputs": [
    {
     "data": {
      "text/html": [
       "<div>\n",
       "<style scoped>\n",
       "    .dataframe tbody tr th:only-of-type {\n",
       "        vertical-align: middle;\n",
       "    }\n",
       "\n",
       "    .dataframe tbody tr th {\n",
       "        vertical-align: top;\n",
       "    }\n",
       "\n",
       "    .dataframe thead th {\n",
       "        text-align: right;\n",
       "    }\n",
       "</style>\n",
       "<table border=\"1\" class=\"dataframe\">\n",
       "  <thead>\n",
       "    <tr style=\"text-align: right;\">\n",
       "      <th></th>\n",
       "      <th>a_candidate</th>\n",
       "      <th>rel_error</th>\n",
       "      <th>n_grovers</th>\n",
       "      <th>n_shots</th>\n",
       "      <th>iterations</th>\n",
       "      <th>analytical_result</th>\n",
       "    </tr>\n",
       "  </thead>\n",
       "  <tbody>\n",
       "    <tr>\n",
       "      <th>0</th>\n",
       "      <td>0.063672</td>\n",
       "      <td>0.645549</td>\n",
       "      <td>4</td>\n",
       "      <td>32</td>\n",
       "      <td>4</td>\n",
       "      <td>0.179636</td>\n",
       "    </tr>\n",
       "    <tr>\n",
       "      <th>1</th>\n",
       "      <td>0.192922</td>\n",
       "      <td>0.073965</td>\n",
       "      <td>9</td>\n",
       "      <td>64</td>\n",
       "      <td>4</td>\n",
       "      <td>0.179636</td>\n",
       "    </tr>\n",
       "    <tr>\n",
       "      <th>2</th>\n",
       "      <td>0.176862</td>\n",
       "      <td>0.015439</td>\n",
       "      <td>2</td>\n",
       "      <td>128</td>\n",
       "      <td>3</td>\n",
       "      <td>0.179636</td>\n",
       "    </tr>\n",
       "    <tr>\n",
       "      <th>3</th>\n",
       "      <td>0.171807</td>\n",
       "      <td>0.043582</td>\n",
       "      <td>2</td>\n",
       "      <td>256</td>\n",
       "      <td>2</td>\n",
       "      <td>0.179636</td>\n",
       "    </tr>\n",
       "    <tr>\n",
       "      <th>4</th>\n",
       "      <td>0.174794</td>\n",
       "      <td>0.026950</td>\n",
       "      <td>4</td>\n",
       "      <td>512</td>\n",
       "      <td>2</td>\n",
       "      <td>0.179636</td>\n",
       "    </tr>\n",
       "    <tr>\n",
       "      <th>5</th>\n",
       "      <td>0.176785</td>\n",
       "      <td>0.015868</td>\n",
       "      <td>4</td>\n",
       "      <td>1024</td>\n",
       "      <td>2</td>\n",
       "      <td>0.179636</td>\n",
       "    </tr>\n",
       "  </tbody>\n",
       "</table>\n",
       "</div>"
      ],
      "text/plain": [
       "   a_candidate  rel_error  n_grovers  n_shots  iterations  analytical_result\n",
       "0     0.063672   0.645549          4       32           4           0.179636\n",
       "1     0.192922   0.073965          9       64           4           0.179636\n",
       "2     0.176862   0.015439          2      128           3           0.179636\n",
       "3     0.171807   0.043582          2      256           2           0.179636\n",
       "4     0.174794   0.026950          4      512           2           0.179636\n",
       "5     0.176785   0.015868          4     1024           2           0.179636"
      ]
     },
     "execution_count": 6,
     "metadata": {},
     "output_type": "execute_result"
    }
   ],
   "source": [
    "real_res"
   ]
  },
  {
   "cell_type": "code",
   "execution_count": null,
   "id": "00bae61e-3735-473e-8c09-2986a269cffa",
   "metadata": {},
   "outputs": [],
   "source": []
  }
 ],
 "metadata": {
  "kernelspec": {
   "display_name": "Python 3 (ipykernel)",
   "language": "python",
   "name": "python3"
  },
  "language_info": {
   "codemirror_mode": {
    "name": "ipython",
    "version": 3
   },
   "file_extension": ".py",
   "mimetype": "text/x-python",
   "name": "python",
   "nbconvert_exporter": "python",
   "pygments_lexer": "ipython3",
   "version": "3.10.8"
  },
  "widgets": {
   "application/vnd.jupyter.widget-state+json": {
    "state": {},
    "version_major": 2,
    "version_minor": 0
   }
  }
 },
 "nbformat": 4,
 "nbformat_minor": 5
}
