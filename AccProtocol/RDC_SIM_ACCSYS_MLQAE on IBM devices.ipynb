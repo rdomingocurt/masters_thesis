{
 "cells": [
  {
   "cell_type": "markdown",
   "id": "1c832cde-e6b9-4297-b3c6-224cdb1df335",
   "metadata": {},
   "source": [
    "# <center> Maximum Likelihood Quantum Amplitude Estimation & Accreditation Protocols </center>\n",
    "\n",
    "    Código basado en el paper \"Amplitude Estimation without Phase Estimation\" de: Yohichi Suzuki, Shumpei Uno, Rudy Raymond, Tomoki Tanaka, Tamiya Onodera y Naoki Yamamoto, https://doi.org/10.1007/s11128-019-2565-2 y en el protocolo de acreditación descrito en https://arxiv.org/pdf/2103.06603v2.pdf.\n",
    "    \n",
    "\n",
    "El enfoque convencional para la estimación de amplitud consiste en utilizar el algoritmo de estimación de fase, el cual conlleva muchas operaciones de amplificación controladas seguidas de una transformada de Fourier en el mundo cuántico. Este procedimiento es difícil de implementar en el escenario actual en el que los recursos cuánticos (procesamiento, qubits...) son límitados.\n",
    "\n",
    "Próximamente se realizarán dispositivos cuánticos reales con varias centenas de qubits, aunque estos son conocidos como dispositivos cuánticos de escala intermedia ruidosos (NISQ, *Noisy Intermidiate-Scale Quantum*, por sus siglas en inglés) y presentan varias limitaciones prácticas, tanto en el número de operaciones, como en el número de qubits disponibles.\n",
    "\n",
    "La idea principal es utilizar la estimación de máxima verosimilitud (Maximum Likelihood Estimation) basada en datos de medición producidos por circuitos cuánticos con diferentes números de operaciones. De ahí el nombre del Algoritmo - **MLQAE**"
   ]
  },
  {
   "cell_type": "markdown",
   "id": "51be8e3b-7f5d-4b1a-af08-66ab4110e047",
   "metadata": {
    "tags": []
   },
   "source": [
    "#### En primer lugar, realizaremos un experimento analítico\n",
    "Un ejemplo simple para encontrar un resultado de forma \"tradicional\". La integral en un intervalo del $sin(x)$ al cuadrado\n",
    "\n",
    "$I = \\frac{1}{b_{\\text{max}}} \\int_{0}^{b_{\\text{max}}} \\sin(x)^2 \\, dx$. Que, en el mundo discreto se aproxima como: \n",
    "\n",
    "$S = \\sum_{x=0}^{2^n-1} p(x) \\sin^2\\left(\\frac{(x + \\frac{1}{2}) \\cdot b_{\\text{max}}}{2^n}\\right)$\n",
    "\n",
    "en donde $p(x) = \\frac{1}{2^n}$ es una distribución discreta uniforme de probabilidad."
   ]
  },
  {
   "cell_type": "code",
   "execution_count": 1,
   "id": "267aefcc-0d20-410f-a524-4e931f6b7534",
   "metadata": {
    "tags": []
   },
   "outputs": [
    {
     "name": "stdout",
     "output_type": "stream",
     "text": [
      "El resultado en el mundo continuo es: 0.1816901138162093\n",
      "El resultado en el mundo discreto es: 0.1796355690323117\n"
     ]
    }
   ],
   "source": [
    "import numpy as np #este import es el único que necesitamos para \"explicar\" esta parte\n",
    "\n",
    "# definimos la función para realizar la integral del seno^2 \n",
    "def sin_integral(upper_lim: float) -> float:\n",
    "    res_continuo = (upper_lim / 2.0 - np.sin(2 * upper_lim) / 4.0)\n",
    "    \n",
    "    return res_continuo/upper_lim\n",
    "\n",
    "#definimos la función para realizar la suma discretizada del seno^2.\n",
    "def sin_discrete_sum(upper_lim: float, bits_number: int) -> float:\n",
    "    n_dis = 2**bits_number\n",
    "    res_discreto = 0.0\n",
    "    \n",
    "    for ii in range(n_dis):\n",
    "        res_discreto += np.sin(upper_lim / n_dis * (ii + (1/2)))**2\n",
    "        \n",
    "    res_discreto = res_discreto / n_dis\n",
    "    return res_discreto\n",
    "\n",
    "b_max = np.pi / 4\n",
    "n_bits = 2 #q-bits\n",
    "\n",
    "mundo_continuo = sin_integral(b_max)\n",
    "print(\"El resultado en el mundo continuo es: \" + str(mundo_continuo))\n",
    "\n",
    "\n",
    "mundo_discreto = sin_discrete_sum(b_max, n_bits)\n",
    "print(\"El resultado en el mundo discreto es: \" + str(mundo_discreto))"
   ]
  },
  {
   "cell_type": "markdown",
   "id": "aa5901fd-c72f-4332-a66a-164a6b313c36",
   "metadata": {},
   "source": [
    "## Inicialización del entorno cuántico"
   ]
  },
  {
   "cell_type": "code",
   "execution_count": 2,
   "id": "4ec19001-a492-4b15-abd9-4feb2efecbe4",
   "metadata": {
    "tags": []
   },
   "outputs": [
    {
     "name": "stdout",
     "output_type": "stream",
     "text": [
      "Collecting qiskit.ignis\n",
      "  Using cached qiskit_ignis-0.7.1-py3-none-any.whl (198 kB)\n",
      "Requirement already satisfied: scipy!=0.19.1,>=0.19 in /opt/conda/lib/python3.10/site-packages (from qiskit.ignis) (1.9.3)\n",
      "Requirement already satisfied: numpy>=1.13 in /opt/conda/lib/python3.10/site-packages (from qiskit.ignis) (1.23.5)\n",
      "Requirement already satisfied: setuptools>=40.1.0 in /opt/conda/lib/python3.10/site-packages (from qiskit.ignis) (67.7.2)\n",
      "Requirement already satisfied: retworkx>=0.8.0 in /opt/conda/lib/python3.10/site-packages (from qiskit.ignis) (0.12.1)\n",
      "Requirement already satisfied: qiskit-terra>=0.15.1 in /opt/conda/lib/python3.10/site-packages (from qiskit.ignis) (0.24.1)\n",
      "Requirement already satisfied: python-dateutil>=2.8.0 in /opt/conda/lib/python3.10/site-packages (from qiskit-terra>=0.15.1->qiskit.ignis) (2.8.2)\n",
      "Requirement already satisfied: psutil>=5 in /opt/conda/lib/python3.10/site-packages (from qiskit-terra>=0.15.1->qiskit.ignis) (5.9.4)\n",
      "Requirement already satisfied: sympy>=1.3 in /opt/conda/lib/python3.10/site-packages (from qiskit-terra>=0.15.1->qiskit.ignis) (1.11.1)\n",
      "Requirement already satisfied: symengine<0.10,>=0.9 in /opt/conda/lib/python3.10/site-packages (from qiskit-terra>=0.15.1->qiskit.ignis) (0.9.2)\n",
      "Requirement already satisfied: stevedore>=3.0.0 in /opt/conda/lib/python3.10/site-packages (from qiskit-terra>=0.15.1->qiskit.ignis) (4.1.1)\n",
      "Requirement already satisfied: dill>=0.3 in /opt/conda/lib/python3.10/site-packages (from qiskit-terra>=0.15.1->qiskit.ignis) (0.3.6)\n",
      "Requirement already satisfied: rustworkx>=0.12.0 in /opt/conda/lib/python3.10/site-packages (from qiskit-terra>=0.15.1->qiskit.ignis) (0.12.1)\n",
      "Requirement already satisfied: ply>=3.10 in /opt/conda/lib/python3.10/site-packages (from qiskit-terra>=0.15.1->qiskit.ignis) (3.11)\n",
      "Requirement already satisfied: six>=1.5 in /opt/conda/lib/python3.10/site-packages (from python-dateutil>=2.8.0->qiskit-terra>=0.15.1->qiskit.ignis) (1.16.0)\n",
      "Requirement already satisfied: pbr!=2.1.0,>=2.0.0 in /opt/conda/lib/python3.10/site-packages (from stevedore>=3.0.0->qiskit-terra>=0.15.1->qiskit.ignis) (5.11.1)\n",
      "Requirement already satisfied: mpmath>=0.19 in /opt/conda/lib/python3.10/site-packages (from sympy>=1.3->qiskit-terra>=0.15.1->qiskit.ignis) (1.2.1)\n",
      "Installing collected packages: qiskit.ignis\n",
      "Successfully installed qiskit.ignis-0.7.1\n",
      "\n",
      "\u001b[1m[\u001b[0m\u001b[34;49mnotice\u001b[0m\u001b[1;39;49m]\u001b[0m\u001b[39;49m A new release of pip available: \u001b[0m\u001b[31;49m23.1.1\u001b[0m\u001b[39;49m -> \u001b[0m\u001b[32;49m23.2.1\u001b[0m\n",
      "\u001b[1m[\u001b[0m\u001b[34;49mnotice\u001b[0m\u001b[1;39;49m]\u001b[0m\u001b[39;49m To update, run: \u001b[0m\u001b[32;49mpip install --upgrade pip\u001b[0m\n"
     ]
    }
   ],
   "source": [
    "!pip install qiskit.ignis"
   ]
  },
  {
   "cell_type": "code",
   "execution_count": 3,
   "id": "716977ca-720a-47cc-9446-1b4c52ddc735",
   "metadata": {},
   "outputs": [
    {
     "name": "stderr",
     "output_type": "stream",
     "text": [
      "/tmp/ipykernel_60/1108157381.py:12: DeprecationWarning: The qiskit.ignis package is deprecated and has been supersceded by the qiskit-experiments project. Refer to the migration guide: https://github.com/Qiskit/qiskit-ignis#migration-guide on how to migrate to the new project.\n",
      "  from qiskit.ignis.verification.accreditation import AccreditationFitter, AccreditationCircuits\n"
     ]
    },
    {
     "name": "stdout",
     "output_type": "stream",
     "text": [
      "Realizar simulación en ordenador real o en simulador?\n",
      "Acceso seleccionado: EXTERNO\n"
     ]
    }
   ],
   "source": [
    "# Importamos las librearías: \n",
    "\n",
    "from qiskit import ClassicalRegister, QuantumRegister, QuantumCircuit #necesaria para crear bits, qubits y circuitos\n",
    "from qiskit import execute #necesaria para dar la orden de ejecución\n",
    "from qiskit import IBMQ #necesaria para llamar a la plataforma IBM Quantum\n",
    "from qiskit import Aer #necesaria para importar simuladores cuánticos o lanzar ejecuciones en ordenadores reales\n",
    "from qiskit.providers.ibmq import least_busy\n",
    "from qiskit.providers.aer.noise import NoiseModel\n",
    "from scipy import optimize #optimización matmática --> encontrar el valor = 0 (utilizo opmtimize.brute)\n",
    "from qiskit_ibm_provider import IBMProvider\n",
    "from qiskit.providers.aer.noise.errors.standard_errors import depolarizing_error\n",
    "from qiskit.ignis.verification.accreditation import AccreditationFitter, AccreditationCircuits\n",
    "from qiskit.circuit.library import U1Gate, U2Gate, U3Gate\n",
    "\n",
    "\n",
    "import sys, time\n",
    "import pandas as pd\n",
    "import numpy as np\n",
    "import matplotlib.pyplot as plt\n",
    "\n",
    "IBMProvider.save_account(token=\"d83e53dfa62683e4eb3ed49770c00c03322d6c921625a94e55cb84c76414b00d915b95732b9e00f1f7502809a7575326ab91316d0eac89acebfd88cc52e483aa\", overwrite=True)\n",
    "\n",
    "print(\"Realizar simulación en ordenador real o en simulador?\")\n",
    "#job_type = str(input())\n",
    "job_type = \"REAL\"\n",
    "\n",
    "\n",
    "while job_type.upper() not in {\"REAL\", \"SIMULADOR\"}:\n",
    "    print(\"Por favor, introduce un parámetro válido -> real / simulador\")\n",
    "    job_type = str(input())\n",
    "\n",
    "\n",
    "if job_type.upper() == \"REAL\":\n",
    "    #en caso de querer realizar una ejecución en un ordenador cuántico tenemos dos posibilidades, EXTERNO o CSIC (cátedra UAM / IBM)\n",
    "    acceso = \"EXTERNO\"\n",
    "    Backend_qubits = 20\n",
    "    print(\"Acceso seleccionado: \"+acceso)\n",
    "else:\n",
    "    None\n",
    "\n",
    "\n",
    "if job_type.upper() == \"SIMULADOR\":\n",
    "    provider = IBMProvider()\n",
    "    backend = Aer.get_backend('qasm_simulator')\n",
    "    print(\"Simulador configurado correctamente: \"+str(backend))\n",
    "else:\n",
    "    if acceso == 'CSIC' :\n",
    "        # number of qubits to represent the uncertainty ***********************************************************************************************************\n",
    "        numero_de_qbits_de_incertidumbre = 3\n",
    "        #**********************************************************************************************************************************************************\n",
    "        provider = IBMProvider(hub='ibm-q-csic')\n",
    "        provider.backends()\n",
    "        backend = least_busy(provider.backends(filters=lambda b: b.configuration().n_qubits >= Backend_qubits and\n",
    "        not b.configuration().simulator and b.status().operational==True))\n",
    "        print (backend)\n",
    "        sistema_cuantico = str(backend)\n",
    "        print(\"El programa se ejecutará en: \"+str(sistema_cuantico))\n",
    "        print (sistema_cuantico)\n",
    "    \n",
    "    else :\n",
    "        # number of qubits to represent the uncertainty ***********************************************************************************************************\n",
    "        numero_de_qbits_de_incertidumbre = 3\n",
    "        #**********************************************************************************************************************************************************\n",
    "        # Loading your IBM Quantum account(s)\n",
    "        provider = IBMProvider()\n",
    "        \"\"\"\n",
    "        Dejo comentado el código a continuación por si quiero volver a realizar TODAS las ejecuciones en un mismo ordenador\n",
    "        \"\"\"\n",
    "        #sistema_cuantico = 'ibmq_manila'\n",
    "        #backend = provider.get_backend(sistema_cuantico)\n",
    "        #print(\"El programa se ejecutará en: \"+str(sistema_cuantico))\n",
    "        #provider.backends()\n",
    "        #print(\"The available backends are: \"+str(provider.backends()))\n",
    "        #backend = least_busy(provider.backends(filters=lambda x: x.configuration().simulator == False and x.status().operational == True))\n",
    "        #print(\"Por como están de ocupados los ordenadores cuánticos, el programa se ejecutará en: \"+str(backend))\n",
    "        sistema_cuantico = 'ibmq_manila'\n",
    "        backend = provider.get_backend(sistema_cuantico)\n"
   ]
  },
  {
   "cell_type": "markdown",
   "id": "34ebba45-ec71-42ae-9b2a-af9d4cf91ca8",
   "metadata": {
    "tags": []
   },
   "source": [
    "## Creación de operadores del algoritmo de Grover y circuito de Amplificación de Amplitud (QAA).\n",
    "\n",
    "Comenzamos por la inicialización del circuito, un estado \"uniforme\" sencillo de preparar ${P}$. Representado en el circuito por puertas Hadamard para crear una distribución de probablidad uniforme. \n",
    "\n",
    "### Introducción al algoritmo de Grover\n",
    "\n",
    "El algoritmo de Grover utiliza el operador de Grover $\\mathcal{Q}$ para amplificar las amplitudes de los estados buenos:\n",
    "\n",
    "$$\n",
    "\\mathcal{Q} = \\mathcal{A}\\mathcal{S_0}\\mathcal{A}^\\dagger \\mathcal{S_f}\n",
    "$$\n",
    "\n",
    "Aquí,\n",
    "- $\\mathcal{A}$ es el estado de búsqueda inicial para el algoritmo, que consiste en Hadamards, $H^{\\otimes n}$ para la búsqueda de Grover clásica, pero puede ser más elaborado para la amplificación de amplitud.\n",
    "- $\\mathcal{S_0}$ es la reflexión sobre el estado todo 0:\n",
    "\n",
    "$$\n",
    "|x\\rangle \\mapsto \\begin{cases} -|x\\rangle, &x \\neq 0 \\\\ |x\\rangle, &x = 0\\end{cases}\n",
    "$$\n",
    "\n",
    "- $\\mathcal{S_f}$ es el oráculo que aplica:\n",
    "\n",
    "$$\n",
    "|x\\rangle \\mapsto (-1)^{f(x)}|x\\rangle\n",
    "$$\n",
    "\n",
    "   donde $f(x)$ es 1 si $x$ es un estado bueno y 0 en caso contrario.\n",
    "\n",
    "En resumen, el algoritmo de Grover aplica diferentes potencias de $\\mathcal{Q}$ y después de cada ejecución verifica si se ha encontrado una solución buena.\n",
    "\n",
    "### Ejecutando el algoritmo de Grover\n",
    "\n",
    "Para ejecutar el algoritmo de Grover, qiskit tiene su propia clase, en este código definimos una función más abajo que nos permite ganar independencia frente a las actualizaciones que vayan surgiendo. "
   ]
  },
  {
   "cell_type": "code",
   "execution_count": 4,
   "id": "78d81579-d8bf-4a07-bc59-baeb12ce277f",
   "metadata": {
    "tags": []
   },
   "outputs": [],
   "source": [
    "def P(qc, qx):\n",
    "    \"\"\"\n",
    "        Generación de ua distribución de probablidad uniforme\n",
    "            qc: quantum circuit\n",
    "            qx: quantum register\n",
    "            nbit: number of qubits\n",
    "    \"\"\"\n",
    "    qc.h(qx[:-1])\n",
    "\n",
    "def A(qc, qx, qx_measure, nbit, b_max):\n",
    "    \"\"\"\n",
    "        Preparación del estado, integral de f()\n",
    "            qc: quantum circuit\n",
    "            qx: quantum register\n",
    "            qx:measure: quantum register for measurement\n",
    "            nbit: number of qubits\n",
    "            b_max: upper limit of integral            \n",
    "    \"\"\"\n",
    "    qc.ry(b_max / 2**nbit * 2 * 0.5, qx_measure[-1])\n",
    "    \n",
    "    for i in range(nbit):\n",
    "        qc.cry(2**i * b_max / 2**nbit * 2, qx[nbit-1-i], qx_measure[-1])\n",
    "               \n",
    "        \n",
    "def Ainv(qc, qx, qx_measure, nbit, b_max):\n",
    "    \"\"\"\n",
    "        Puerta inversa de A\n",
    "            qc: quantum circuit\n",
    "            qx: quantum register\n",
    "            qx_measure : quantum register for measurement\n",
    "            nbit: number of qubits\n",
    "            b_max: upper limit of integral\n",
    "    \"\"\"\n",
    "    for i in range(nbit)[::-1]:\n",
    "        qc.cry(-2**i * b_max / 2**nbit * 2, qx[nbit-1-i], qx_measure[-1])\n",
    "     \n",
    "    qc.ry(-b_max / 2**nbit * 2 * 0.5, qx_measure[-1])\n",
    "\n",
    "def multi_control_NOT(qc, qx, qx_measure, qx_ancilla, nbit):    \n",
    "    \"\"\"\n",
    "        Creación de la puerta cuántica multi control NOT. \n",
    "            qc: circuito cuántico\n",
    "            qx: registro\n",
    "            qx_measure: registro sobre el que realizaremos la medida\n",
    "            qx_ancilla: bit ancilla de control. \n",
    "            nbit: number of qubits\n",
    "    \"\"\"\n",
    "\n",
    "    if nbit == 1:\n",
    "        qc.cz(qx[0], qx_measure[-1])\n",
    "        \n",
    "    elif nbit == 2:\n",
    "        qc.h(qx_measure[-1])\n",
    "        qc.ccx(qx[0], qx[1], qx_measure[-1])\n",
    "        qc.h(qx_measure[-1])\n",
    "        \n",
    "    elif nbit > 2.0:\n",
    "        qc.ccx(qx[0], qx[1], qx_ancilla[0])\n",
    "        \n",
    "        for i in range(nbit - 3):\n",
    "            qc.ccx(qx[i + 2], qx_ancilla[i], qx_ancilla[i + 1])\n",
    "            \n",
    "        qc.h(qx_measure[-1])\n",
    "        qc.ccx(qx[nbit - 1], qx_ancilla[nbit - 3], qx_measure[-1])\n",
    "        qc.h(qx_measure[-1])\n",
    "        \n",
    "        for i in range(nbit - 3)[::-1]:\n",
    "            qc.ccx(qx[i + 2], qx_ancilla[i], qx_ancilla[i + 1])\n",
    "            \n",
    "        qc.ccx(qx[0], qx[1], qx_ancilla[0])\n",
    "\n",
    "\n",
    "#def reflect(qc, qx, qx_measure, qx_ancilla, nbit, b_max):        \n",
    "def S_0(qc, qx, qx_measure, qx_ancilla, nbit):\n",
    "    \"\"\"\n",
    "        Operador de reflexion (I - 2|0><0|). Hacemos la reflexión sobre el eje del vector complejo\n",
    "            qc: quantum circuit\n",
    "            qx: quantum register\n",
    "            qx_measure: quantum register for measurement\n",
    "            qx_ancilla: temporal quantum register for decomposing multi controlled NOT gate\n",
    "            nbit: number of qubits\n",
    "            b_max: upper limit of integral\n",
    "    \"\"\"\n",
    "    qc.barrier()\n",
    "    for i in range(nbit):\n",
    "        qc.x(qx[i])\n",
    "    \n",
    "    qc.x(qx_measure[-1])\n",
    "    #multi_control_NOT(qc, qx, qx_measure, qx_ancilla, nbit, b_max)\n",
    "    multi_control_NOT(qc, qx, qx_measure, qx_ancilla, nbit)\n",
    "    qc.x(qx_measure[-1])\n",
    "    \n",
    "    for i in range(nbit):\n",
    "        qc.x(qx[i])\n",
    "    \n",
    "    qc.barrier()\n",
    "\n",
    "# This is to implement Grover Operator Q\n",
    "def Q(qc, qx, qx_measure, qx_ancilla, nbit, b_max):\n",
    "    \"\"\"\n",
    "        El operador de Grover\n",
    "            qc: quantum circuit\n",
    "            qx: quantum register\n",
    "            qx_measure: quantum register for measurement\n",
    "            qx_ancilla: temporal quantum register for decomposing multi controlled NOT gate\n",
    "            nbit: number of qubits\n",
    "            b_max: upper limit of integral\n",
    "    \"\"\"\n",
    "    qc.z(qx_measure[-1])\n",
    "    qc.barrier()\n",
    "    \n",
    "    Ainv(qc, qx, qx_measure, nbit, b_max)\n",
    "    qc.barrier()\n",
    "    P(qc, qx)\n",
    "\n",
    "    S_0(qc, qx, qx_measure, qx_ancilla, nbit)\n",
    "    P(qc, qx)\n",
    "    qc.barrier()\n",
    "    A(qc, qx, qx_measure, nbit, b_max)    "
   ]
  },
  {
   "cell_type": "markdown",
   "id": "85b8cb4e-cf87-4401-83f1-e42ead849f0b",
   "metadata": {},
   "source": [
    "### Creación del circuito de grover"
   ]
  },
  {
   "cell_type": "code",
   "execution_count": 5,
   "id": "ca33d1d6-68bc-4280-af87-f1c364a9a597",
   "metadata": {},
   "outputs": [],
   "source": [
    "def create_grover_circuit(number_grover_list, nbit, b_max):\n",
    "    \"\"\"\n",
    "        To generate quantum circuits running Grover operators with number of iterations in number_grover_list\n",
    "            numebr_grover_list: list of number of Grover operators\n",
    "            nbit: number of qubits (2**nbit = ndiv is the number of discretization in the Monte Carlo integration)\n",
    "            b_max: upper limit of integral\n",
    "        Return:\n",
    "            qc_list: quantum circuits with Grover operators as in number_grover_list\n",
    "    \"\"\"\n",
    "    qc_list = []\n",
    "    \n",
    "    for igrover in range(len(number_grover_list)):\n",
    "        \n",
    "        qx = QuantumRegister(nbit+1, \"q\")\n",
    "        #qx_measure = QuantumRegister(1)\n",
    "        cr = ClassicalRegister(1)\n",
    "        if (nbit > 2):\n",
    "            qx_ancilla = QuantumRegister(nbit - 2, \"ancilla\")\n",
    "            qc = QuantumCircuit(qx, qx_ancilla, cr)\n",
    "        else:\n",
    "            qx_ancilla = 0\n",
    "            qc = QuantumCircuit(qx, cr)\n",
    "            \n",
    "        P(qc, qx)\n",
    "        qc.barrier()\n",
    "        A(qc, qx, qx, nbit, b_max)\n",
    "        qc.barrier()\n",
    "        \n",
    "        for ii in range(number_grover_list[igrover]):\n",
    "            Q(qc, qx, qx, qx_ancilla, nbit, b_max)\n",
    "        \n",
    "        qc.measure(qx[-1], cr[0])\n",
    "        \n",
    "        qc_list.append(qc)\n",
    "        \n",
    "        \n",
    "    return qc_list"
   ]
  },
  {
   "cell_type": "markdown",
   "id": "2254b619-005b-41f7-bc83-51ff3d6881fe",
   "metadata": {},
   "source": [
    "## Mostramos el circuito"
   ]
  },
  {
   "cell_type": "code",
   "execution_count": 6,
   "id": "145f4417-dd1b-4b7d-a012-7bcec3167a7b",
   "metadata": {},
   "outputs": [],
   "source": [
    "qc_list = create_grover_circuit([1], n_bits, b_max)"
   ]
  },
  {
   "cell_type": "code",
   "execution_count": 7,
   "id": "6cdfed5b-eb08-4b8f-97dc-f57e040139b2",
   "metadata": {},
   "outputs": [
    {
     "data": {
      "image/png": "[encoded data removed]",
      "text/plain": [
       "<Figure size 2210.55x785.944 with 1 Axes>"
      ]
     },
     "execution_count": 7,
     "metadata": {},
     "output_type": "execute_result"
    }
   ],
   "source": [
    "qc_list[0].draw(\"mpl\", style=\"iqx\")"
   ]
  },
  {
   "cell_type": "markdown",
   "id": "ebc8c44e-6808-42e9-97f0-139ebfa9cf54",
   "metadata": {},
   "source": [
    "## Y ahora creamos una función auxiliar para poder ejecutar \"listas\" de circuitos cuánticos\n",
    "- Esta funcion nos da flexibilidad a la hora de incrementar la potencia de $Q$ (meter varios operadores Grover)### Necesitamos una función para ejecutar los circuitos que nos devuelve la función anterior."
   ]
  },
  {
   "cell_type": "code",
   "execution_count": 8,
   "id": "271ea8fb-5682-4b44-8729-853a2ffa1c5c",
   "metadata": {},
   "outputs": [],
   "source": [
    "def run_accreditation_protocol(qc): \n",
    "    \n",
    "    #print(\"---- x ---- Accreditation Protocol Initialised ---- x ----\")\n",
    "    \n",
    "    accsys = AccreditationCircuits(qc)\n",
    "    num_traps = 10\n",
    "    acc_num = 20\n",
    "    vd_theta = 0.05\n",
    "    \n",
    "    #noise_model = NoiseModel()\n",
    "#\n",
    "    #p1q = 0.0003\n",
    "    #noise_model.add_all_qubit_quantum_error(depolarizing_error(p1q, 1), 'u1')\n",
    "    #noise_model.add_all_qubit_quantum_error(depolarizing_error(p1q, 1), 'u2')\n",
    "    #noise_model.add_all_qubit_quantum_error(depolarizing_error(p1q, 1), 'u3')\n",
    "    #p2q = 0.003\n",
    "    #noise_model.add_all_qubit_quantum_error(depolarizing_error(p2q, 2), 'cx')\n",
    "\n",
    "    basis_gates = [U1Gate, U2Gate, U3Gate, \"cx\", \"id\", \"x\", \"y\", \"z\", \"h\", \"s\", \"sdg\", \"t\", \"tdg\", \"rx\", \"ry\", \"rz\"]\n",
    "    \n",
    "    acc_list = []\n",
    "    acc_conf_list = []\n",
    "    acc_vd_list = []\n",
    "    num_traps_list = []\n",
    "    \n",
    "    #fijamos un mínimo de 4 dado que el protocolo de acreditaónci no funciona con menos de 3 circuitos trampa\n",
    "    for trap in range(4, num_traps+1):\n",
    "        \n",
    "        fit = AccreditationFitter()\n",
    "        \n",
    "        for run in range(acc_num+1):\n",
    "            circuit_list, postp_list, v_zero = accsys.generate_circuits(trap)\n",
    "            #job = execute(circuit_list, backend, noise_model=noise_model, basis_gates=basis_gates, shots=1)\n",
    "            job = execute(circuit_list, backend, basis_gates=basis_gates, shots=1)\n",
    "            result = job.result()\n",
    "            \n",
    "            fit.single_protocol_run(result, postp_list, v_zero)\n",
    "        \n",
    "        #print(\"\\nWith\", trap,\n",
    "        #      \"traps, AP accepted\", fit.N_acc,\n",
    "        #      \"out of\", fit.num_runs, \"times.\")\n",
    "        \n",
    "        acc_list.append(fit.N_acc)\n",
    "        \n",
    "        fit.bound_variation_distance(vd_theta)\n",
    "        \n",
    "        #print(\"With confidence\", fit.confidence,\n",
    "        #      \"AP with\", trap,\n",
    "        #      \"traps certifies that VD is upper-bounded by\", fit.bound)\n",
    "        \n",
    "        acc_conf_list.append(fit.confidence)\n",
    "        acc_vd_list.append(fit.bound)\n",
    "        num_traps_list.append(trap)\n",
    "        \n",
    "    #print(\"---- x ---- Accreditation Protocol Finished ---- x ----\")\n",
    "    \n",
    "    return acc_list, acc_conf_list, acc_vd_list, num_traps_list\n",
    "    \n",
    "    \n",
    "\n",
    "def run_grover(qc_list, number_grover_list, shots_list, backend):\n",
    "    \"\"\"\n",
    "        Run the quantum circuits returned by create_grover_circuit()\n",
    "            qc_list: list of quantum circuits\n",
    "            numebr_grover_list: list of number of Grover operators\n",
    "            shots_list:  list of number of shots\n",
    "            backend: name of backends\n",
    "        \n",
    "        Return:\n",
    "            hit_list: list of count of obserbving \"1\" for qc_list\n",
    "    \"\"\"\n",
    "    \n",
    "    hit_list = []\n",
    "    acc_result_df = pd.DataFrame()\n",
    "    for k in range(len(number_grover_list)):\n",
    "        job = execute(qc_list[k], backend=backend, shots=shots_list[k])\n",
    "        \n",
    "        lapse = 0\n",
    "        interval = 0.00001\n",
    "        \n",
    "        time.sleep(interval)\n",
    "        \n",
    "        while job.status().name != 'DONE':\n",
    "            time.sleep(interval)\n",
    "            lapse += 1\n",
    "        \n",
    "        counts = job.result().get_counts(qc_list[k]).get(\"1\", 0)\n",
    "        \n",
    "        hit_list.append(counts)\n",
    "        \n",
    "        acc_list, acc_conf_list, acc_vd_list, num_traps_list = run_accreditation_protocol(qc_list[k])\n",
    "        \n",
    "        acc_df = pd.DataFrame({\"n_acceptance\":acc_list,\n",
    "                            \"acc_confidence\":acc_conf_list, \"acc_variation_distance\":acc_vd_list,\n",
    "                            \"acc_num_traps\":num_traps_list})\n",
    "    \n",
    "        acc_df[\"n_grovers\"] = number_grover_list[k]\n",
    "\n",
    "        acc_result_df = pd.concat((acc_result_df, acc_df), axis=0)\n",
    "\n",
    "    return hit_list, acc_result_df\n"
   ]
  },
  {
   "cell_type": "markdown",
   "id": "86222af7-4464-4e92-b8c7-504375784fad",
   "metadata": {
    "tags": []
   },
   "source": [
    "### Etapa de post procesado\n",
    "#### En esta etapa consegimos obtener nuestro propio $theta$\n",
    "\n",
    "La función de postprocesamiento combina los resultados de ejecutar circuitos de Grover con varias  iteraciones aplicando MLE. Supongamos que ejecutamos los operadores de Grover ($Q$) ${m_0, m_1,...,m_M}$ veces y, para cada ejecución, lo repetimos $N_k$ veces, de las cuales observamos $h_k$ veces estados \"buenos\". Dado que la probabilidad de observar estados \"buenos\" es $\\sin^2((2m_k+1)\\theta_a)$, la verosimilitud (*likelihood*) de observar $h_k$ veces estados \"buenos\" es: $L(h, \\theta)$\n",
    "\n",
    "Utilizamos el límite inferior de cramer.rao (ver referencia en: [paper QAE del Google Drive]).\n"
   ]
  },
  {
   "cell_type": "code",
   "execution_count": 9,
   "id": "f1af41d3-dec1-4fe3-ab5e-bf5363580e10",
   "metadata": {},
   "outputs": [],
   "source": [
    "def CalcErrorCramerRao(M, shot_list, p0, number_grover_list):\n",
    "    \"\"\"\n",
    "        calculate Cramér-Rao lower bound\n",
    "            M: upper limit of the sum in Fisher information \n",
    "            shots_list:  list of number of shots\n",
    "            p0: the true parameter value to be estimated\n",
    "            numebr_grover_list: list of number of Grover operators        \n",
    "\n",
    "        Return:\n",
    "            square root of Cramér-Rao lower bound:  lower bound on the standard deviation of unbiased estimators\n",
    "    \"\"\"\n",
    "    FisherInfo = 0\n",
    "    for k in range(M + 1):\n",
    "        Nk = shot_list[k]\n",
    "        mk = number_grover_list[k]\n",
    "        FisherInfo += Nk / (p0 * (1 - p0)) * (2 * mk + 1)**2\n",
    "    return np.sqrt(1 / FisherInfo)\n",
    "\n",
    "\n",
    "\n",
    "def calculate_theta(hit_list, number_grover_list, shots_list):\n",
    "    \"\"\"\n",
    "        calculate optimal theta values\n",
    "            hit_list: list of count of obserbving \"1\" for qc_list\n",
    "            numebr_grover_list: list of number of Grover operators        \n",
    "            shots_list: list of number of shots\n",
    "\n",
    "        Return:\n",
    "            thetaCandidate_list: list of optimal theta\n",
    "    \"\"\"\n",
    "\n",
    "    small = 1.e-15  # small valued parameter to avoid zero division\n",
    "    confidenceLevel = 5  # confidence level to determine the search range\n",
    "\n",
    "    thetaCandidate_list = []\n",
    "    a_candidate_list = []\n",
    "    grover_list = []\n",
    "    rangeMin = 0.0 + small\n",
    "    rangeMax = 1.0 - small\n",
    "    for igrover in range(len(number_grover_list)): #entramos en este bucle utilizando la potencia de grover, no el número (i,e,. 0,1,2,3....)\n",
    "\n",
    "        def loglikelihood(p):\n",
    "            ret = 0.0\n",
    "            theta = np.arcsin(np.sqrt(p))\n",
    "            \n",
    "            for n in range(igrover + 1):\n",
    "                ihit = hit_list[n]\n",
    "                arg = (2 * number_grover_list[n] + 1) * theta\n",
    "                ret = ret + 2 * ihit * np.log(np.abs(np.sin(arg))) + 2 * (\n",
    "                    shots_list[n] - ihit) * np.log(np.abs(np.cos(arg)))\n",
    "            return -ret\n",
    "\n",
    "        searchRange = [rangeMin, rangeMax]\n",
    "        searchResult = optimize.brute(loglikelihood, ranges=[searchRange], finish=None)\n",
    "        a_candidate = searchResult\n",
    "        a_candidate_list.append(a_candidate)\n",
    "        thetaCandidate_list.append(np.arcsin(np.sqrt(a_candidate)))\n",
    "        grover_list.append(number_grover_list[igrover])\n",
    "        perror = CalcErrorCramerRao(igrover, shots_list, a_candidate, number_grover_list)\n",
    "        rangeMax = min(a_candidate+confidenceLevel*perror,1.0-small)\n",
    "        rangeMin = max(a_candidate-confidenceLevel*perror,0.0+small)\n",
    "\n",
    "        \n",
    "        \n",
    "    return thetaCandidate_list, grover_list, a_candidate_list"
   ]
  },
  {
   "cell_type": "code",
   "execution_count": 10,
   "id": "77bf63d6-7037-4819-80ca-be5e47624e8d",
   "metadata": {},
   "outputs": [],
   "source": [
    "def CalcNumberOracleCalls(M, shot_list, number_grover_list):\n",
    "    \"\"\"\n",
    "        calculate the total number of oracle calls\n",
    "            M: numero de grovers \n",
    "            shots_list:  list of number of shots\n",
    "            numebr_grover_list: list of number of Grover operators        \n",
    "\n",
    "        Return:\n",
    "            Norac: the total number of oracle calls\n",
    "    \"\"\"\n",
    "    \n",
    "    Norac = 0\n",
    "    for k in range(M + 1):\n",
    "        Nk = shots_list[k]\n",
    "        mk = number_grover_list[k]\n",
    "        Norac += Nk * (2 * mk + 1)\n",
    "            \n",
    "    return Norac"
   ]
  },
  {
   "cell_type": "code",
   "execution_count": 11,
   "id": "d1f3357f-e672-4d37-9ade-204b630bb394",
   "metadata": {
    "tags": []
   },
   "outputs": [],
   "source": [
    "def define_shots_list(shot_run, number_grover_list):\n",
    "    shots_list = []\n",
    "    for grover in number_grover_list:\n",
    "        shots_list.append(shot_run)\n",
    "        \n",
    "    return shots_list"
   ]
  },
  {
   "cell_type": "markdown",
   "id": "1f164ffa-81a9-450b-8867-a7473fa6c8fb",
   "metadata": {},
   "source": [
    "## Ejecución de nuestro algoritmo en simuladores. "
   ]
  },
  {
   "cell_type": "code",
   "execution_count": 12,
   "id": "767fa0f5-1049-44bc-8da2-35647f3af0ee",
   "metadata": {
    "scrolled": true,
    "tags": []
   },
   "outputs": [
    {
     "name": "stdout",
     "output_type": "stream",
     "text": [
      "Traceback \u001b[1;36m(most recent call last)\u001b[0m:\n",
      "\u001b[0m  Cell \u001b[0;32mIn[12], line 16\u001b[0m\n",
      "    hit_list, acc_result_df = run_grover(qc_list, number_grover_list, shots_list, backend)  # list of number of grover operators\u001b[0m\n",
      "\u001b[0m  Cell \u001b[0;32mIn[8], line 91\u001b[0m in \u001b[0;35mrun_grover\u001b[0m\n",
      "    acc_list, acc_conf_list, acc_vd_list, num_traps_list = run_accreditation_protocol(qc_list[k])\u001b[0m\n",
      "\u001b[0m  Cell \u001b[0;32mIn[8], line 35\u001b[0m in \u001b[0;35mrun_accreditation_protocol\u001b[0m\n",
      "    result = job.result()\u001b[0m\n",
      "\u001b[1;36m  File \u001b[1;32m/opt/conda/lib/python3.10/site-packages/qiskit_ibm_provider/job/ibm_circuit_job.py:250\u001b[1;36m in \u001b[1;35mresult\u001b[1;36m\n",
      "\u001b[1;33m    raise IBMJobFailureError(f\"Job failed: \" f\"{error_message}\")\u001b[1;36m\n",
      "\u001b[1;31mIBMJobFailureError\u001b[0m\u001b[1;31m:\u001b[0m 'Job failed: Instruction rx is not supported'\n",
      "\n",
      "Use %tb to get the full traceback.\n"
     ]
    },
    {
     "data": {
      "text/html": [
       "\n",
       "<style>\n",
       ".button {\n",
       "  border: none;\n",
       "  color: white;\n",
       "  padding: 4px 8px;\n",
       "  text-align: center;\n",
       "  text-decoration: none;\n",
       "  display: inline-block;\n",
       "  font-size: 12px;\n",
       "  margin: 4px 2px;\n",
       "  transition-duration: 0.2s;\n",
       "  cursor: pointer;\n",
       "}\n",
       ".iqx-button {\n",
       "  background-color: #0f62fe; \n",
       "  color: white; \n",
       "}\n",
       ".iqx-button:hover {\n",
       "  background-color: #0043ce;\n",
       "  color: white;\n",
       "}\n",
       "</style>\n",
       "<a href=\"https://stackoverflow.com/search?q=IBMJobFailureError: Job failed: Instruction rx is not supported\" target='_blank'><button class='button iqx-button'>Search for solution online</button></a>\n"
      ],
      "text/plain": [
       "<IPython.core.display.HTML object>"
      ]
     },
     "metadata": {},
     "output_type": "display_data"
    }
   ],
   "source": [
    "final_result_df = pd.DataFrame()\n",
    "result_df = pd.DataFrame()\n",
    "acc_final_df = pd.DataFrame()\n",
    "results_list = []\n",
    "\n",
    "error_list = []\n",
    "shots_list = []  # list of number of shots\n",
    "#number_grover_list = [0, 1, 2, 4]  # list of number of Grover operators\n",
    "#shots_run = [32, 64, 128, 256, 512, 1024]\n",
    "number_grover_list = [4]  # list of number of Grover operators\n",
    "shots_run = [1024]\n",
    "\n",
    "for shot in shots_run:\n",
    "    shots_list = define_shots_list(shot, number_grover_list)\n",
    "    qc_list = create_grover_circuit(number_grover_list, n_bits, b_max)  # list of Grover circuits\n",
    "    hit_list, acc_result_df = run_grover(qc_list, number_grover_list, shots_list, backend)  # list of number of grover operators\n",
    "    theta_candidate_list, grover_number_list, a_candidate_list = calculate_theta(hit_list, number_grover_list, shots_list)  # list of estimated theta values\n",
    "    error_list = list(np.abs(mundo_discreto - np.sin(theta_candidate_list)**2)/mundo_discreto)\n",
    "    \n",
    "    result_df = pd.DataFrame({\"n_grovers\":grover_number_list, \"theta_candidate\":theta_candidate_list,\n",
    "                            \"a_candidate\":a_candidate_list, \"rel_error\":error_list})\n",
    "    \n",
    "    result_df[\"n_shots\"] = shot\n",
    "    \n",
    "    acc_final_df = pd.concat((acc_final_df, acc_result_df), axis=0)\n",
    "    final_result_df = pd.concat((final_result_df, result_df), axis=0)\n",
    "\n",
    "final_result_df.reset_index(drop = True)"
   ]
  },
  {
   "cell_type": "code",
   "execution_count": null,
   "id": "bf4e7373-2787-4d47-95a2-e027c9906b0f",
   "metadata": {
    "tags": []
   },
   "outputs": [],
   "source": [
    "acc_final_df.to_csv(r\"../../Output/MLQAE_ACCREDITED_vFin_results_REAL_QASM.csv\")\n",
    "final_result_df.to_csv(r\"../../Output/MLQAE_ACCREDITED_vFin_results_REAL_QASM_1.csv\")"
   ]
  },
  {
   "cell_type": "code",
   "execution_count": null,
   "id": "13482f61-f355-47af-b2c0-2e7d420e787d",
   "metadata": {
    "tags": []
   },
   "outputs": [],
   "source": [
    "error_0_grover = final_result_df[final_result_df[\"n_grovers\"] == 0]\n",
    "error_1_grover = final_result_df[final_result_df[\"n_grovers\"] == 1]\n",
    "error_2_grover = final_result_df[final_result_df[\"n_grovers\"] == 2]\n",
    "error_4_grover = final_result_df[final_result_df[\"n_grovers\"] == 4]\n",
    "\n",
    "\n",
    "figure_1 = plt.figure()\n",
    "\n",
    "#plt.plot(error_0_grover[\"n_shots\"], error_0_grover[\"rel_error\"], \"-^\")\n",
    "#plt.plot(error_1_grover[\"n_shots\"], error_1_grover[\"rel_error\"], \"-^\")\n",
    "#plt.plot(error_2_grover[\"n_shots\"], error_2_grover[\"rel_error\"], \"-^\")\n",
    "plt.plot(error_4_grover[\"n_shots\"], error_4_grover[\"rel_error\"], \"-^\")\n",
    "\n",
    "plt.ylim(0, 2)\n",
    "plt.xlabel(\"Number of shots\")\n",
    "plt.ylabel(\"Relative Error\")\n",
    "#plt.legend([\"Q = 1\", \"Q = 2\", \"Q = 3\", \"Q = 4\"])\n",
    "\n",
    "plt.show()\n",
    "\n",
    "\n"
   ]
  },
  {
   "cell_type": "code",
   "execution_count": 17,
   "id": "3a9643e7-65a5-4cdb-a4a1-7b5a7c451ed8",
   "metadata": {
    "collapsed": true,
    "jupyter": {
     "outputs_hidden": true
    },
    "scrolled": true,
    "tags": []
   },
   "outputs": [
    {
     "name": "stdout",
     "output_type": "stream",
     "text": [
      "n_trial=(1/10)\r"
     ]
    },
    {
     "name": "stderr",
     "output_type": "stream",
     "text": [
      "/tmp/ipykernel_62/465714373.py:36: DeprecationWarning: single_protocol_run is being deprecated. Use AppendResult or AppendString\n",
      "  fit.single_protocol_run(result, postp_list, v_zero)\n",
      "/tmp/ipykernel_62/465714373.py:44: DeprecationWarning: bound_variation_distance is being deprecated. Use FullAccreditation or MeanAccreditation\n",
      "  fit.bound_variation_distance(vd_theta)\n",
      "/tmp/ipykernel_62/465714373.py:36: DeprecationWarning: single_protocol_run is being deprecated. Use AppendResult or AppendString\n",
      "  fit.single_protocol_run(result, postp_list, v_zero)\n",
      "/tmp/ipykernel_62/465714373.py:44: DeprecationWarning: bound_variation_distance is being deprecated. Use FullAccreditation or MeanAccreditation\n",
      "  fit.bound_variation_distance(vd_theta)\n",
      "/tmp/ipykernel_62/465714373.py:36: DeprecationWarning: single_protocol_run is being deprecated. Use AppendResult or AppendString\n",
      "  fit.single_protocol_run(result, postp_list, v_zero)\n",
      "/tmp/ipykernel_62/465714373.py:44: DeprecationWarning: bound_variation_distance is being deprecated. Use FullAccreditation or MeanAccreditation\n",
      "  fit.bound_variation_distance(vd_theta)\n",
      "/tmp/ipykernel_62/465714373.py:36: DeprecationWarning: single_protocol_run is being deprecated. Use AppendResult or AppendString\n",
      "  fit.single_protocol_run(result, postp_list, v_zero)\n",
      "/tmp/ipykernel_62/465714373.py:44: DeprecationWarning: bound_variation_distance is being deprecated. Use FullAccreditation or MeanAccreditation\n",
      "  fit.bound_variation_distance(vd_theta)\n"
     ]
    },
    {
     "name": "stdout",
     "output_type": "stream",
     "text": [
      "n_trial=(1/10)\r"
     ]
    },
    {
     "name": "stderr",
     "output_type": "stream",
     "text": [
      "/tmp/ipykernel_62/465714373.py:36: DeprecationWarning: single_protocol_run is being deprecated. Use AppendResult or AppendString\n",
      "  fit.single_protocol_run(result, postp_list, v_zero)\n",
      "/tmp/ipykernel_62/465714373.py:44: DeprecationWarning: bound_variation_distance is being deprecated. Use FullAccreditation or MeanAccreditation\n",
      "  fit.bound_variation_distance(vd_theta)\n",
      "/tmp/ipykernel_62/465714373.py:36: DeprecationWarning: single_protocol_run is being deprecated. Use AppendResult or AppendString\n",
      "  fit.single_protocol_run(result, postp_list, v_zero)\n",
      "/tmp/ipykernel_62/465714373.py:44: DeprecationWarning: bound_variation_distance is being deprecated. Use FullAccreditation or MeanAccreditation\n",
      "  fit.bound_variation_distance(vd_theta)\n",
      "/tmp/ipykernel_62/465714373.py:36: DeprecationWarning: single_protocol_run is being deprecated. Use AppendResult or AppendString\n",
      "  fit.single_protocol_run(result, postp_list, v_zero)\n",
      "/tmp/ipykernel_62/465714373.py:44: DeprecationWarning: bound_variation_distance is being deprecated. Use FullAccreditation or MeanAccreditation\n",
      "  fit.bound_variation_distance(vd_theta)\n",
      "/tmp/ipykernel_62/465714373.py:36: DeprecationWarning: single_protocol_run is being deprecated. Use AppendResult or AppendString\n",
      "  fit.single_protocol_run(result, postp_list, v_zero)\n",
      "/tmp/ipykernel_62/465714373.py:44: DeprecationWarning: bound_variation_distance is being deprecated. Use FullAccreditation or MeanAccreditation\n",
      "  fit.bound_variation_distance(vd_theta)\n"
     ]
    },
    {
     "name": "stdout",
     "output_type": "stream",
     "text": [
      "n_trial=(1/10)\r"
     ]
    },
    {
     "name": "stderr",
     "output_type": "stream",
     "text": [
      "/tmp/ipykernel_62/465714373.py:36: DeprecationWarning: single_protocol_run is being deprecated. Use AppendResult or AppendString\n",
      "  fit.single_protocol_run(result, postp_list, v_zero)\n",
      "/tmp/ipykernel_62/465714373.py:44: DeprecationWarning: bound_variation_distance is being deprecated. Use FullAccreditation or MeanAccreditation\n",
      "  fit.bound_variation_distance(vd_theta)\n",
      "/tmp/ipykernel_62/465714373.py:36: DeprecationWarning: single_protocol_run is being deprecated. Use AppendResult or AppendString\n",
      "  fit.single_protocol_run(result, postp_list, v_zero)\n",
      "/tmp/ipykernel_62/465714373.py:44: DeprecationWarning: bound_variation_distance is being deprecated. Use FullAccreditation or MeanAccreditation\n",
      "  fit.bound_variation_distance(vd_theta)\n",
      "/tmp/ipykernel_62/465714373.py:36: DeprecationWarning: single_protocol_run is being deprecated. Use AppendResult or AppendString\n",
      "  fit.single_protocol_run(result, postp_list, v_zero)\n",
      "/tmp/ipykernel_62/465714373.py:44: DeprecationWarning: bound_variation_distance is being deprecated. Use FullAccreditation or MeanAccreditation\n",
      "  fit.bound_variation_distance(vd_theta)\n",
      "/tmp/ipykernel_62/465714373.py:36: DeprecationWarning: single_protocol_run is being deprecated. Use AppendResult or AppendString\n",
      "  fit.single_protocol_run(result, postp_list, v_zero)\n",
      "/tmp/ipykernel_62/465714373.py:44: DeprecationWarning: bound_variation_distance is being deprecated. Use FullAccreditation or MeanAccreditation\n",
      "  fit.bound_variation_distance(vd_theta)\n"
     ]
    },
    {
     "name": "stdout",
     "output_type": "stream",
     "text": [
      "n_trial=(1/10)\r"
     ]
    },
    {
     "name": "stderr",
     "output_type": "stream",
     "text": [
      "/tmp/ipykernel_62/465714373.py:36: DeprecationWarning: single_protocol_run is being deprecated. Use AppendResult or AppendString\n",
      "  fit.single_protocol_run(result, postp_list, v_zero)\n",
      "/tmp/ipykernel_62/465714373.py:44: DeprecationWarning: bound_variation_distance is being deprecated. Use FullAccreditation or MeanAccreditation\n",
      "  fit.bound_variation_distance(vd_theta)\n",
      "/tmp/ipykernel_62/465714373.py:36: DeprecationWarning: single_protocol_run is being deprecated. Use AppendResult or AppendString\n",
      "  fit.single_protocol_run(result, postp_list, v_zero)\n",
      "/tmp/ipykernel_62/465714373.py:44: DeprecationWarning: bound_variation_distance is being deprecated. Use FullAccreditation or MeanAccreditation\n",
      "  fit.bound_variation_distance(vd_theta)\n",
      "/tmp/ipykernel_62/465714373.py:36: DeprecationWarning: single_protocol_run is being deprecated. Use AppendResult or AppendString\n",
      "  fit.single_protocol_run(result, postp_list, v_zero)\n",
      "/tmp/ipykernel_62/465714373.py:44: DeprecationWarning: bound_variation_distance is being deprecated. Use FullAccreditation or MeanAccreditation\n",
      "  fit.bound_variation_distance(vd_theta)\n",
      "/tmp/ipykernel_62/465714373.py:36: DeprecationWarning: single_protocol_run is being deprecated. Use AppendResult or AppendString\n",
      "  fit.single_protocol_run(result, postp_list, v_zero)\n",
      "/tmp/ipykernel_62/465714373.py:44: DeprecationWarning: bound_variation_distance is being deprecated. Use FullAccreditation or MeanAccreditation\n",
      "  fit.bound_variation_distance(vd_theta)\n"
     ]
    },
    {
     "name": "stdout",
     "output_type": "stream",
     "text": [
      "n_trial=(1/10)\r"
     ]
    },
    {
     "name": "stderr",
     "output_type": "stream",
     "text": [
      "/tmp/ipykernel_62/465714373.py:36: DeprecationWarning: single_protocol_run is being deprecated. Use AppendResult or AppendString\n",
      "  fit.single_protocol_run(result, postp_list, v_zero)\n",
      "/tmp/ipykernel_62/465714373.py:44: DeprecationWarning: bound_variation_distance is being deprecated. Use FullAccreditation or MeanAccreditation\n",
      "  fit.bound_variation_distance(vd_theta)\n",
      "/tmp/ipykernel_62/465714373.py:36: DeprecationWarning: single_protocol_run is being deprecated. Use AppendResult or AppendString\n",
      "  fit.single_protocol_run(result, postp_list, v_zero)\n",
      "/tmp/ipykernel_62/465714373.py:44: DeprecationWarning: bound_variation_distance is being deprecated. Use FullAccreditation or MeanAccreditation\n",
      "  fit.bound_variation_distance(vd_theta)\n",
      "/tmp/ipykernel_62/465714373.py:36: DeprecationWarning: single_protocol_run is being deprecated. Use AppendResult or AppendString\n",
      "  fit.single_protocol_run(result, postp_list, v_zero)\n",
      "/tmp/ipykernel_62/465714373.py:44: DeprecationWarning: bound_variation_distance is being deprecated. Use FullAccreditation or MeanAccreditation\n",
      "  fit.bound_variation_distance(vd_theta)\n",
      "/tmp/ipykernel_62/465714373.py:36: DeprecationWarning: single_protocol_run is being deprecated. Use AppendResult or AppendString\n",
      "  fit.single_protocol_run(result, postp_list, v_zero)\n",
      "/tmp/ipykernel_62/465714373.py:44: DeprecationWarning: bound_variation_distance is being deprecated. Use FullAccreditation or MeanAccreditation\n",
      "  fit.bound_variation_distance(vd_theta)\n"
     ]
    },
    {
     "name": "stdout",
     "output_type": "stream",
     "text": [
      "n_trial=(1/10)\r"
     ]
    },
    {
     "name": "stderr",
     "output_type": "stream",
     "text": [
      "/tmp/ipykernel_62/465714373.py:36: DeprecationWarning: single_protocol_run is being deprecated. Use AppendResult or AppendString\n",
      "  fit.single_protocol_run(result, postp_list, v_zero)\n",
      "/tmp/ipykernel_62/465714373.py:44: DeprecationWarning: bound_variation_distance is being deprecated. Use FullAccreditation or MeanAccreditation\n",
      "  fit.bound_variation_distance(vd_theta)\n",
      "/tmp/ipykernel_62/465714373.py:36: DeprecationWarning: single_protocol_run is being deprecated. Use AppendResult or AppendString\n",
      "  fit.single_protocol_run(result, postp_list, v_zero)\n",
      "/tmp/ipykernel_62/465714373.py:44: DeprecationWarning: bound_variation_distance is being deprecated. Use FullAccreditation or MeanAccreditation\n",
      "  fit.bound_variation_distance(vd_theta)\n",
      "/tmp/ipykernel_62/465714373.py:36: DeprecationWarning: single_protocol_run is being deprecated. Use AppendResult or AppendString\n",
      "  fit.single_protocol_run(result, postp_list, v_zero)\n",
      "/tmp/ipykernel_62/465714373.py:44: DeprecationWarning: bound_variation_distance is being deprecated. Use FullAccreditation or MeanAccreditation\n",
      "  fit.bound_variation_distance(vd_theta)\n",
      "/tmp/ipykernel_62/465714373.py:36: DeprecationWarning: single_protocol_run is being deprecated. Use AppendResult or AppendString\n",
      "  fit.single_protocol_run(result, postp_list, v_zero)\n",
      "/tmp/ipykernel_62/465714373.py:44: DeprecationWarning: bound_variation_distance is being deprecated. Use FullAccreditation or MeanAccreditation\n",
      "  fit.bound_variation_distance(vd_theta)\n"
     ]
    },
    {
     "name": "stdout",
     "output_type": "stream",
     "text": [
      "n_trial=(2/10)\r"
     ]
    },
    {
     "name": "stderr",
     "output_type": "stream",
     "text": [
      "/tmp/ipykernel_62/465714373.py:36: DeprecationWarning: single_protocol_run is being deprecated. Use AppendResult or AppendString\n",
      "  fit.single_protocol_run(result, postp_list, v_zero)\n",
      "/tmp/ipykernel_62/465714373.py:44: DeprecationWarning: bound_variation_distance is being deprecated. Use FullAccreditation or MeanAccreditation\n",
      "  fit.bound_variation_distance(vd_theta)\n",
      "/tmp/ipykernel_62/465714373.py:36: DeprecationWarning: single_protocol_run is being deprecated. Use AppendResult or AppendString\n",
      "  fit.single_protocol_run(result, postp_list, v_zero)\n",
      "/tmp/ipykernel_62/465714373.py:44: DeprecationWarning: bound_variation_distance is being deprecated. Use FullAccreditation or MeanAccreditation\n",
      "  fit.bound_variation_distance(vd_theta)\n",
      "/tmp/ipykernel_62/465714373.py:36: DeprecationWarning: single_protocol_run is being deprecated. Use AppendResult or AppendString\n",
      "  fit.single_protocol_run(result, postp_list, v_zero)\n",
      "/tmp/ipykernel_62/465714373.py:44: DeprecationWarning: bound_variation_distance is being deprecated. Use FullAccreditation or MeanAccreditation\n",
      "  fit.bound_variation_distance(vd_theta)\n",
      "/tmp/ipykernel_62/465714373.py:36: DeprecationWarning: single_protocol_run is being deprecated. Use AppendResult or AppendString\n",
      "  fit.single_protocol_run(result, postp_list, v_zero)\n",
      "/tmp/ipykernel_62/465714373.py:44: DeprecationWarning: bound_variation_distance is being deprecated. Use FullAccreditation or MeanAccreditation\n",
      "  fit.bound_variation_distance(vd_theta)\n"
     ]
    },
    {
     "name": "stdout",
     "output_type": "stream",
     "text": [
      "n_trial=(2/10)\r"
     ]
    },
    {
     "name": "stderr",
     "output_type": "stream",
     "text": [
      "/tmp/ipykernel_62/465714373.py:36: DeprecationWarning: single_protocol_run is being deprecated. Use AppendResult or AppendString\n",
      "  fit.single_protocol_run(result, postp_list, v_zero)\n",
      "/tmp/ipykernel_62/465714373.py:44: DeprecationWarning: bound_variation_distance is being deprecated. Use FullAccreditation or MeanAccreditation\n",
      "  fit.bound_variation_distance(vd_theta)\n",
      "/tmp/ipykernel_62/465714373.py:36: DeprecationWarning: single_protocol_run is being deprecated. Use AppendResult or AppendString\n",
      "  fit.single_protocol_run(result, postp_list, v_zero)\n",
      "/tmp/ipykernel_62/465714373.py:44: DeprecationWarning: bound_variation_distance is being deprecated. Use FullAccreditation or MeanAccreditation\n",
      "  fit.bound_variation_distance(vd_theta)\n",
      "/tmp/ipykernel_62/465714373.py:36: DeprecationWarning: single_protocol_run is being deprecated. Use AppendResult or AppendString\n",
      "  fit.single_protocol_run(result, postp_list, v_zero)\n",
      "/tmp/ipykernel_62/465714373.py:44: DeprecationWarning: bound_variation_distance is being deprecated. Use FullAccreditation or MeanAccreditation\n",
      "  fit.bound_variation_distance(vd_theta)\n",
      "/tmp/ipykernel_62/465714373.py:36: DeprecationWarning: single_protocol_run is being deprecated. Use AppendResult or AppendString\n",
      "  fit.single_protocol_run(result, postp_list, v_zero)\n",
      "/tmp/ipykernel_62/465714373.py:44: DeprecationWarning: bound_variation_distance is being deprecated. Use FullAccreditation or MeanAccreditation\n",
      "  fit.bound_variation_distance(vd_theta)\n"
     ]
    },
    {
     "name": "stdout",
     "output_type": "stream",
     "text": [
      "n_trial=(2/10)\r"
     ]
    },
    {
     "name": "stderr",
     "output_type": "stream",
     "text": [
      "/tmp/ipykernel_62/465714373.py:36: DeprecationWarning: single_protocol_run is being deprecated. Use AppendResult or AppendString\n",
      "  fit.single_protocol_run(result, postp_list, v_zero)\n",
      "/tmp/ipykernel_62/465714373.py:44: DeprecationWarning: bound_variation_distance is being deprecated. Use FullAccreditation or MeanAccreditation\n",
      "  fit.bound_variation_distance(vd_theta)\n",
      "/tmp/ipykernel_62/465714373.py:36: DeprecationWarning: single_protocol_run is being deprecated. Use AppendResult or AppendString\n",
      "  fit.single_protocol_run(result, postp_list, v_zero)\n",
      "/tmp/ipykernel_62/465714373.py:44: DeprecationWarning: bound_variation_distance is being deprecated. Use FullAccreditation or MeanAccreditation\n",
      "  fit.bound_variation_distance(vd_theta)\n",
      "/tmp/ipykernel_62/465714373.py:36: DeprecationWarning: single_protocol_run is being deprecated. Use AppendResult or AppendString\n",
      "  fit.single_protocol_run(result, postp_list, v_zero)\n",
      "/tmp/ipykernel_62/465714373.py:44: DeprecationWarning: bound_variation_distance is being deprecated. Use FullAccreditation or MeanAccreditation\n",
      "  fit.bound_variation_distance(vd_theta)\n",
      "/tmp/ipykernel_62/465714373.py:36: DeprecationWarning: single_protocol_run is being deprecated. Use AppendResult or AppendString\n",
      "  fit.single_protocol_run(result, postp_list, v_zero)\n",
      "/tmp/ipykernel_62/465714373.py:44: DeprecationWarning: bound_variation_distance is being deprecated. Use FullAccreditation or MeanAccreditation\n",
      "  fit.bound_variation_distance(vd_theta)\n"
     ]
    },
    {
     "name": "stdout",
     "output_type": "stream",
     "text": [
      "n_trial=(2/10)\r"
     ]
    },
    {
     "name": "stderr",
     "output_type": "stream",
     "text": [
      "/tmp/ipykernel_62/465714373.py:36: DeprecationWarning: single_protocol_run is being deprecated. Use AppendResult or AppendString\n",
      "  fit.single_protocol_run(result, postp_list, v_zero)\n",
      "/tmp/ipykernel_62/465714373.py:44: DeprecationWarning: bound_variation_distance is being deprecated. Use FullAccreditation or MeanAccreditation\n",
      "  fit.bound_variation_distance(vd_theta)\n",
      "/tmp/ipykernel_62/465714373.py:36: DeprecationWarning: single_protocol_run is being deprecated. Use AppendResult or AppendString\n",
      "  fit.single_protocol_run(result, postp_list, v_zero)\n",
      "/tmp/ipykernel_62/465714373.py:44: DeprecationWarning: bound_variation_distance is being deprecated. Use FullAccreditation or MeanAccreditation\n",
      "  fit.bound_variation_distance(vd_theta)\n",
      "/tmp/ipykernel_62/465714373.py:36: DeprecationWarning: single_protocol_run is being deprecated. Use AppendResult or AppendString\n",
      "  fit.single_protocol_run(result, postp_list, v_zero)\n",
      "/tmp/ipykernel_62/465714373.py:44: DeprecationWarning: bound_variation_distance is being deprecated. Use FullAccreditation or MeanAccreditation\n",
      "  fit.bound_variation_distance(vd_theta)\n",
      "/tmp/ipykernel_62/465714373.py:36: DeprecationWarning: single_protocol_run is being deprecated. Use AppendResult or AppendString\n",
      "  fit.single_protocol_run(result, postp_list, v_zero)\n",
      "/tmp/ipykernel_62/465714373.py:44: DeprecationWarning: bound_variation_distance is being deprecated. Use FullAccreditation or MeanAccreditation\n",
      "  fit.bound_variation_distance(vd_theta)\n"
     ]
    },
    {
     "name": "stdout",
     "output_type": "stream",
     "text": [
      "n_trial=(2/10)\r"
     ]
    },
    {
     "name": "stderr",
     "output_type": "stream",
     "text": [
      "/tmp/ipykernel_62/465714373.py:36: DeprecationWarning: single_protocol_run is being deprecated. Use AppendResult or AppendString\n",
      "  fit.single_protocol_run(result, postp_list, v_zero)\n",
      "/tmp/ipykernel_62/465714373.py:44: DeprecationWarning: bound_variation_distance is being deprecated. Use FullAccreditation or MeanAccreditation\n",
      "  fit.bound_variation_distance(vd_theta)\n",
      "/tmp/ipykernel_62/465714373.py:36: DeprecationWarning: single_protocol_run is being deprecated. Use AppendResult or AppendString\n",
      "  fit.single_protocol_run(result, postp_list, v_zero)\n",
      "/tmp/ipykernel_62/465714373.py:44: DeprecationWarning: bound_variation_distance is being deprecated. Use FullAccreditation or MeanAccreditation\n",
      "  fit.bound_variation_distance(vd_theta)\n",
      "/tmp/ipykernel_62/465714373.py:36: DeprecationWarning: single_protocol_run is being deprecated. Use AppendResult or AppendString\n",
      "  fit.single_protocol_run(result, postp_list, v_zero)\n",
      "/tmp/ipykernel_62/465714373.py:44: DeprecationWarning: bound_variation_distance is being deprecated. Use FullAccreditation or MeanAccreditation\n",
      "  fit.bound_variation_distance(vd_theta)\n",
      "/tmp/ipykernel_62/465714373.py:36: DeprecationWarning: single_protocol_run is being deprecated. Use AppendResult or AppendString\n",
      "  fit.single_protocol_run(result, postp_list, v_zero)\n",
      "/tmp/ipykernel_62/465714373.py:44: DeprecationWarning: bound_variation_distance is being deprecated. Use FullAccreditation or MeanAccreditation\n",
      "  fit.bound_variation_distance(vd_theta)\n"
     ]
    },
    {
     "name": "stdout",
     "output_type": "stream",
     "text": [
      "n_trial=(2/10)\r"
     ]
    },
    {
     "name": "stderr",
     "output_type": "stream",
     "text": [
      "/tmp/ipykernel_62/465714373.py:36: DeprecationWarning: single_protocol_run is being deprecated. Use AppendResult or AppendString\n",
      "  fit.single_protocol_run(result, postp_list, v_zero)\n",
      "/tmp/ipykernel_62/465714373.py:44: DeprecationWarning: bound_variation_distance is being deprecated. Use FullAccreditation or MeanAccreditation\n",
      "  fit.bound_variation_distance(vd_theta)\n",
      "/tmp/ipykernel_62/465714373.py:36: DeprecationWarning: single_protocol_run is being deprecated. Use AppendResult or AppendString\n",
      "  fit.single_protocol_run(result, postp_list, v_zero)\n",
      "/tmp/ipykernel_62/465714373.py:44: DeprecationWarning: bound_variation_distance is being deprecated. Use FullAccreditation or MeanAccreditation\n",
      "  fit.bound_variation_distance(vd_theta)\n",
      "/tmp/ipykernel_62/465714373.py:36: DeprecationWarning: single_protocol_run is being deprecated. Use AppendResult or AppendString\n",
      "  fit.single_protocol_run(result, postp_list, v_zero)\n",
      "/tmp/ipykernel_62/465714373.py:44: DeprecationWarning: bound_variation_distance is being deprecated. Use FullAccreditation or MeanAccreditation\n",
      "  fit.bound_variation_distance(vd_theta)\n",
      "/tmp/ipykernel_62/465714373.py:36: DeprecationWarning: single_protocol_run is being deprecated. Use AppendResult or AppendString\n",
      "  fit.single_protocol_run(result, postp_list, v_zero)\n",
      "/tmp/ipykernel_62/465714373.py:44: DeprecationWarning: bound_variation_distance is being deprecated. Use FullAccreditation or MeanAccreditation\n",
      "  fit.bound_variation_distance(vd_theta)\n"
     ]
    },
    {
     "name": "stdout",
     "output_type": "stream",
     "text": [
      "n_trial=(3/10)\r"
     ]
    },
    {
     "name": "stderr",
     "output_type": "stream",
     "text": [
      "/tmp/ipykernel_62/465714373.py:36: DeprecationWarning: single_protocol_run is being deprecated. Use AppendResult or AppendString\n",
      "  fit.single_protocol_run(result, postp_list, v_zero)\n",
      "/tmp/ipykernel_62/465714373.py:44: DeprecationWarning: bound_variation_distance is being deprecated. Use FullAccreditation or MeanAccreditation\n",
      "  fit.bound_variation_distance(vd_theta)\n",
      "/tmp/ipykernel_62/465714373.py:36: DeprecationWarning: single_protocol_run is being deprecated. Use AppendResult or AppendString\n",
      "  fit.single_protocol_run(result, postp_list, v_zero)\n",
      "/tmp/ipykernel_62/465714373.py:44: DeprecationWarning: bound_variation_distance is being deprecated. Use FullAccreditation or MeanAccreditation\n",
      "  fit.bound_variation_distance(vd_theta)\n",
      "/tmp/ipykernel_62/465714373.py:36: DeprecationWarning: single_protocol_run is being deprecated. Use AppendResult or AppendString\n",
      "  fit.single_protocol_run(result, postp_list, v_zero)\n",
      "/tmp/ipykernel_62/465714373.py:44: DeprecationWarning: bound_variation_distance is being deprecated. Use FullAccreditation or MeanAccreditation\n",
      "  fit.bound_variation_distance(vd_theta)\n",
      "/tmp/ipykernel_62/465714373.py:36: DeprecationWarning: single_protocol_run is being deprecated. Use AppendResult or AppendString\n",
      "  fit.single_protocol_run(result, postp_list, v_zero)\n",
      "/tmp/ipykernel_62/465714373.py:44: DeprecationWarning: bound_variation_distance is being deprecated. Use FullAccreditation or MeanAccreditation\n",
      "  fit.bound_variation_distance(vd_theta)\n"
     ]
    },
    {
     "name": "stdout",
     "output_type": "stream",
     "text": [
      "n_trial=(3/10)\r"
     ]
    },
    {
     "name": "stderr",
     "output_type": "stream",
     "text": [
      "/tmp/ipykernel_62/465714373.py:36: DeprecationWarning: single_protocol_run is being deprecated. Use AppendResult or AppendString\n",
      "  fit.single_protocol_run(result, postp_list, v_zero)\n",
      "/tmp/ipykernel_62/465714373.py:44: DeprecationWarning: bound_variation_distance is being deprecated. Use FullAccreditation or MeanAccreditation\n",
      "  fit.bound_variation_distance(vd_theta)\n",
      "/tmp/ipykernel_62/465714373.py:36: DeprecationWarning: single_protocol_run is being deprecated. Use AppendResult or AppendString\n",
      "  fit.single_protocol_run(result, postp_list, v_zero)\n",
      "/tmp/ipykernel_62/465714373.py:44: DeprecationWarning: bound_variation_distance is being deprecated. Use FullAccreditation or MeanAccreditation\n",
      "  fit.bound_variation_distance(vd_theta)\n",
      "/tmp/ipykernel_62/465714373.py:36: DeprecationWarning: single_protocol_run is being deprecated. Use AppendResult or AppendString\n",
      "  fit.single_protocol_run(result, postp_list, v_zero)\n",
      "/tmp/ipykernel_62/465714373.py:44: DeprecationWarning: bound_variation_distance is being deprecated. Use FullAccreditation or MeanAccreditation\n",
      "  fit.bound_variation_distance(vd_theta)\n",
      "/tmp/ipykernel_62/465714373.py:36: DeprecationWarning: single_protocol_run is being deprecated. Use AppendResult or AppendString\n",
      "  fit.single_protocol_run(result, postp_list, v_zero)\n",
      "/tmp/ipykernel_62/465714373.py:44: DeprecationWarning: bound_variation_distance is being deprecated. Use FullAccreditation or MeanAccreditation\n",
      "  fit.bound_variation_distance(vd_theta)\n"
     ]
    },
    {
     "name": "stdout",
     "output_type": "stream",
     "text": [
      "n_trial=(3/10)\r"
     ]
    },
    {
     "name": "stderr",
     "output_type": "stream",
     "text": [
      "/tmp/ipykernel_62/465714373.py:36: DeprecationWarning: single_protocol_run is being deprecated. Use AppendResult or AppendString\n",
      "  fit.single_protocol_run(result, postp_list, v_zero)\n",
      "/tmp/ipykernel_62/465714373.py:44: DeprecationWarning: bound_variation_distance is being deprecated. Use FullAccreditation or MeanAccreditation\n",
      "  fit.bound_variation_distance(vd_theta)\n",
      "/tmp/ipykernel_62/465714373.py:36: DeprecationWarning: single_protocol_run is being deprecated. Use AppendResult or AppendString\n",
      "  fit.single_protocol_run(result, postp_list, v_zero)\n",
      "/tmp/ipykernel_62/465714373.py:44: DeprecationWarning: bound_variation_distance is being deprecated. Use FullAccreditation or MeanAccreditation\n",
      "  fit.bound_variation_distance(vd_theta)\n",
      "/tmp/ipykernel_62/465714373.py:36: DeprecationWarning: single_protocol_run is being deprecated. Use AppendResult or AppendString\n",
      "  fit.single_protocol_run(result, postp_list, v_zero)\n",
      "/tmp/ipykernel_62/465714373.py:44: DeprecationWarning: bound_variation_distance is being deprecated. Use FullAccreditation or MeanAccreditation\n",
      "  fit.bound_variation_distance(vd_theta)\n",
      "/tmp/ipykernel_62/465714373.py:36: DeprecationWarning: single_protocol_run is being deprecated. Use AppendResult or AppendString\n",
      "  fit.single_protocol_run(result, postp_list, v_zero)\n",
      "/tmp/ipykernel_62/465714373.py:44: DeprecationWarning: bound_variation_distance is being deprecated. Use FullAccreditation or MeanAccreditation\n",
      "  fit.bound_variation_distance(vd_theta)\n"
     ]
    },
    {
     "name": "stdout",
     "output_type": "stream",
     "text": [
      "n_trial=(3/10)\r"
     ]
    },
    {
     "name": "stderr",
     "output_type": "stream",
     "text": [
      "/tmp/ipykernel_62/465714373.py:36: DeprecationWarning: single_protocol_run is being deprecated. Use AppendResult or AppendString\n",
      "  fit.single_protocol_run(result, postp_list, v_zero)\n",
      "/tmp/ipykernel_62/465714373.py:44: DeprecationWarning: bound_variation_distance is being deprecated. Use FullAccreditation or MeanAccreditation\n",
      "  fit.bound_variation_distance(vd_theta)\n",
      "/tmp/ipykernel_62/465714373.py:36: DeprecationWarning: single_protocol_run is being deprecated. Use AppendResult or AppendString\n",
      "  fit.single_protocol_run(result, postp_list, v_zero)\n",
      "/tmp/ipykernel_62/465714373.py:44: DeprecationWarning: bound_variation_distance is being deprecated. Use FullAccreditation or MeanAccreditation\n",
      "  fit.bound_variation_distance(vd_theta)\n",
      "/tmp/ipykernel_62/465714373.py:36: DeprecationWarning: single_protocol_run is being deprecated. Use AppendResult or AppendString\n",
      "  fit.single_protocol_run(result, postp_list, v_zero)\n",
      "/tmp/ipykernel_62/465714373.py:44: DeprecationWarning: bound_variation_distance is being deprecated. Use FullAccreditation or MeanAccreditation\n",
      "  fit.bound_variation_distance(vd_theta)\n",
      "/tmp/ipykernel_62/465714373.py:36: DeprecationWarning: single_protocol_run is being deprecated. Use AppendResult or AppendString\n",
      "  fit.single_protocol_run(result, postp_list, v_zero)\n",
      "/tmp/ipykernel_62/465714373.py:44: DeprecationWarning: bound_variation_distance is being deprecated. Use FullAccreditation or MeanAccreditation\n",
      "  fit.bound_variation_distance(vd_theta)\n"
     ]
    },
    {
     "name": "stdout",
     "output_type": "stream",
     "text": [
      "n_trial=(3/10)\r"
     ]
    },
    {
     "name": "stderr",
     "output_type": "stream",
     "text": [
      "/tmp/ipykernel_62/465714373.py:36: DeprecationWarning: single_protocol_run is being deprecated. Use AppendResult or AppendString\n",
      "  fit.single_protocol_run(result, postp_list, v_zero)\n",
      "/tmp/ipykernel_62/465714373.py:44: DeprecationWarning: bound_variation_distance is being deprecated. Use FullAccreditation or MeanAccreditation\n",
      "  fit.bound_variation_distance(vd_theta)\n",
      "/tmp/ipykernel_62/465714373.py:36: DeprecationWarning: single_protocol_run is being deprecated. Use AppendResult or AppendString\n",
      "  fit.single_protocol_run(result, postp_list, v_zero)\n",
      "/tmp/ipykernel_62/465714373.py:44: DeprecationWarning: bound_variation_distance is being deprecated. Use FullAccreditation or MeanAccreditation\n",
      "  fit.bound_variation_distance(vd_theta)\n",
      "/tmp/ipykernel_62/465714373.py:36: DeprecationWarning: single_protocol_run is being deprecated. Use AppendResult or AppendString\n",
      "  fit.single_protocol_run(result, postp_list, v_zero)\n",
      "/tmp/ipykernel_62/465714373.py:44: DeprecationWarning: bound_variation_distance is being deprecated. Use FullAccreditation or MeanAccreditation\n",
      "  fit.bound_variation_distance(vd_theta)\n",
      "/tmp/ipykernel_62/465714373.py:36: DeprecationWarning: single_protocol_run is being deprecated. Use AppendResult or AppendString\n",
      "  fit.single_protocol_run(result, postp_list, v_zero)\n",
      "/tmp/ipykernel_62/465714373.py:44: DeprecationWarning: bound_variation_distance is being deprecated. Use FullAccreditation or MeanAccreditation\n",
      "  fit.bound_variation_distance(vd_theta)\n"
     ]
    },
    {
     "name": "stdout",
     "output_type": "stream",
     "text": [
      "n_trial=(3/10)\r"
     ]
    },
    {
     "name": "stderr",
     "output_type": "stream",
     "text": [
      "/tmp/ipykernel_62/465714373.py:36: DeprecationWarning: single_protocol_run is being deprecated. Use AppendResult or AppendString\n",
      "  fit.single_protocol_run(result, postp_list, v_zero)\n",
      "/tmp/ipykernel_62/465714373.py:44: DeprecationWarning: bound_variation_distance is being deprecated. Use FullAccreditation or MeanAccreditation\n",
      "  fit.bound_variation_distance(vd_theta)\n",
      "/tmp/ipykernel_62/465714373.py:36: DeprecationWarning: single_protocol_run is being deprecated. Use AppendResult or AppendString\n",
      "  fit.single_protocol_run(result, postp_list, v_zero)\n",
      "/tmp/ipykernel_62/465714373.py:44: DeprecationWarning: bound_variation_distance is being deprecated. Use FullAccreditation or MeanAccreditation\n",
      "  fit.bound_variation_distance(vd_theta)\n",
      "/tmp/ipykernel_62/465714373.py:36: DeprecationWarning: single_protocol_run is being deprecated. Use AppendResult or AppendString\n",
      "  fit.single_protocol_run(result, postp_list, v_zero)\n",
      "/tmp/ipykernel_62/465714373.py:44: DeprecationWarning: bound_variation_distance is being deprecated. Use FullAccreditation or MeanAccreditation\n",
      "  fit.bound_variation_distance(vd_theta)\n",
      "/tmp/ipykernel_62/465714373.py:36: DeprecationWarning: single_protocol_run is being deprecated. Use AppendResult or AppendString\n",
      "  fit.single_protocol_run(result, postp_list, v_zero)\n",
      "/tmp/ipykernel_62/465714373.py:44: DeprecationWarning: bound_variation_distance is being deprecated. Use FullAccreditation or MeanAccreditation\n",
      "  fit.bound_variation_distance(vd_theta)\n"
     ]
    },
    {
     "name": "stdout",
     "output_type": "stream",
     "text": [
      "n_trial=(4/10)\r"
     ]
    },
    {
     "name": "stderr",
     "output_type": "stream",
     "text": [
      "/tmp/ipykernel_62/465714373.py:36: DeprecationWarning: single_protocol_run is being deprecated. Use AppendResult or AppendString\n",
      "  fit.single_protocol_run(result, postp_list, v_zero)\n",
      "/tmp/ipykernel_62/465714373.py:44: DeprecationWarning: bound_variation_distance is being deprecated. Use FullAccreditation or MeanAccreditation\n",
      "  fit.bound_variation_distance(vd_theta)\n",
      "/tmp/ipykernel_62/465714373.py:36: DeprecationWarning: single_protocol_run is being deprecated. Use AppendResult or AppendString\n",
      "  fit.single_protocol_run(result, postp_list, v_zero)\n",
      "/tmp/ipykernel_62/465714373.py:44: DeprecationWarning: bound_variation_distance is being deprecated. Use FullAccreditation or MeanAccreditation\n",
      "  fit.bound_variation_distance(vd_theta)\n",
      "/tmp/ipykernel_62/465714373.py:36: DeprecationWarning: single_protocol_run is being deprecated. Use AppendResult or AppendString\n",
      "  fit.single_protocol_run(result, postp_list, v_zero)\n",
      "/tmp/ipykernel_62/465714373.py:44: DeprecationWarning: bound_variation_distance is being deprecated. Use FullAccreditation or MeanAccreditation\n",
      "  fit.bound_variation_distance(vd_theta)\n",
      "/tmp/ipykernel_62/465714373.py:36: DeprecationWarning: single_protocol_run is being deprecated. Use AppendResult or AppendString\n",
      "  fit.single_protocol_run(result, postp_list, v_zero)\n",
      "/tmp/ipykernel_62/465714373.py:44: DeprecationWarning: bound_variation_distance is being deprecated. Use FullAccreditation or MeanAccreditation\n",
      "  fit.bound_variation_distance(vd_theta)\n"
     ]
    },
    {
     "name": "stdout",
     "output_type": "stream",
     "text": [
      "n_trial=(4/10)\r"
     ]
    },
    {
     "name": "stderr",
     "output_type": "stream",
     "text": [
      "/tmp/ipykernel_62/465714373.py:36: DeprecationWarning: single_protocol_run is being deprecated. Use AppendResult or AppendString\n",
      "  fit.single_protocol_run(result, postp_list, v_zero)\n",
      "/tmp/ipykernel_62/465714373.py:44: DeprecationWarning: bound_variation_distance is being deprecated. Use FullAccreditation or MeanAccreditation\n",
      "  fit.bound_variation_distance(vd_theta)\n",
      "/tmp/ipykernel_62/465714373.py:36: DeprecationWarning: single_protocol_run is being deprecated. Use AppendResult or AppendString\n",
      "  fit.single_protocol_run(result, postp_list, v_zero)\n",
      "/tmp/ipykernel_62/465714373.py:44: DeprecationWarning: bound_variation_distance is being deprecated. Use FullAccreditation or MeanAccreditation\n",
      "  fit.bound_variation_distance(vd_theta)\n",
      "/tmp/ipykernel_62/465714373.py:36: DeprecationWarning: single_protocol_run is being deprecated. Use AppendResult or AppendString\n",
      "  fit.single_protocol_run(result, postp_list, v_zero)\n",
      "/tmp/ipykernel_62/465714373.py:44: DeprecationWarning: bound_variation_distance is being deprecated. Use FullAccreditation or MeanAccreditation\n",
      "  fit.bound_variation_distance(vd_theta)\n",
      "/tmp/ipykernel_62/465714373.py:36: DeprecationWarning: single_protocol_run is being deprecated. Use AppendResult or AppendString\n",
      "  fit.single_protocol_run(result, postp_list, v_zero)\n",
      "/tmp/ipykernel_62/465714373.py:44: DeprecationWarning: bound_variation_distance is being deprecated. Use FullAccreditation or MeanAccreditation\n",
      "  fit.bound_variation_distance(vd_theta)\n"
     ]
    },
    {
     "name": "stdout",
     "output_type": "stream",
     "text": [
      "n_trial=(4/10)\r"
     ]
    },
    {
     "name": "stderr",
     "output_type": "stream",
     "text": [
      "/tmp/ipykernel_62/465714373.py:36: DeprecationWarning: single_protocol_run is being deprecated. Use AppendResult or AppendString\n",
      "  fit.single_protocol_run(result, postp_list, v_zero)\n",
      "/tmp/ipykernel_62/465714373.py:44: DeprecationWarning: bound_variation_distance is being deprecated. Use FullAccreditation or MeanAccreditation\n",
      "  fit.bound_variation_distance(vd_theta)\n",
      "/tmp/ipykernel_62/465714373.py:36: DeprecationWarning: single_protocol_run is being deprecated. Use AppendResult or AppendString\n",
      "  fit.single_protocol_run(result, postp_list, v_zero)\n",
      "/tmp/ipykernel_62/465714373.py:44: DeprecationWarning: bound_variation_distance is being deprecated. Use FullAccreditation or MeanAccreditation\n",
      "  fit.bound_variation_distance(vd_theta)\n",
      "/tmp/ipykernel_62/465714373.py:36: DeprecationWarning: single_protocol_run is being deprecated. Use AppendResult or AppendString\n",
      "  fit.single_protocol_run(result, postp_list, v_zero)\n",
      "/tmp/ipykernel_62/465714373.py:44: DeprecationWarning: bound_variation_distance is being deprecated. Use FullAccreditation or MeanAccreditation\n",
      "  fit.bound_variation_distance(vd_theta)\n",
      "/tmp/ipykernel_62/465714373.py:36: DeprecationWarning: single_protocol_run is being deprecated. Use AppendResult or AppendString\n",
      "  fit.single_protocol_run(result, postp_list, v_zero)\n",
      "/tmp/ipykernel_62/465714373.py:44: DeprecationWarning: bound_variation_distance is being deprecated. Use FullAccreditation or MeanAccreditation\n",
      "  fit.bound_variation_distance(vd_theta)\n"
     ]
    },
    {
     "name": "stdout",
     "output_type": "stream",
     "text": [
      "n_trial=(4/10)\r"
     ]
    },
    {
     "name": "stderr",
     "output_type": "stream",
     "text": [
      "/tmp/ipykernel_62/465714373.py:36: DeprecationWarning: single_protocol_run is being deprecated. Use AppendResult or AppendString\n",
      "  fit.single_protocol_run(result, postp_list, v_zero)\n",
      "/tmp/ipykernel_62/465714373.py:44: DeprecationWarning: bound_variation_distance is being deprecated. Use FullAccreditation or MeanAccreditation\n",
      "  fit.bound_variation_distance(vd_theta)\n",
      "/tmp/ipykernel_62/465714373.py:36: DeprecationWarning: single_protocol_run is being deprecated. Use AppendResult or AppendString\n",
      "  fit.single_protocol_run(result, postp_list, v_zero)\n",
      "/tmp/ipykernel_62/465714373.py:44: DeprecationWarning: bound_variation_distance is being deprecated. Use FullAccreditation or MeanAccreditation\n",
      "  fit.bound_variation_distance(vd_theta)\n",
      "/tmp/ipykernel_62/465714373.py:36: DeprecationWarning: single_protocol_run is being deprecated. Use AppendResult or AppendString\n",
      "  fit.single_protocol_run(result, postp_list, v_zero)\n",
      "/tmp/ipykernel_62/465714373.py:44: DeprecationWarning: bound_variation_distance is being deprecated. Use FullAccreditation or MeanAccreditation\n",
      "  fit.bound_variation_distance(vd_theta)\n",
      "/tmp/ipykernel_62/465714373.py:36: DeprecationWarning: single_protocol_run is being deprecated. Use AppendResult or AppendString\n",
      "  fit.single_protocol_run(result, postp_list, v_zero)\n",
      "/tmp/ipykernel_62/465714373.py:44: DeprecationWarning: bound_variation_distance is being deprecated. Use FullAccreditation or MeanAccreditation\n",
      "  fit.bound_variation_distance(vd_theta)\n"
     ]
    },
    {
     "name": "stdout",
     "output_type": "stream",
     "text": [
      "n_trial=(4/10)\r"
     ]
    },
    {
     "name": "stderr",
     "output_type": "stream",
     "text": [
      "/tmp/ipykernel_62/465714373.py:36: DeprecationWarning: single_protocol_run is being deprecated. Use AppendResult or AppendString\n",
      "  fit.single_protocol_run(result, postp_list, v_zero)\n",
      "/tmp/ipykernel_62/465714373.py:44: DeprecationWarning: bound_variation_distance is being deprecated. Use FullAccreditation or MeanAccreditation\n",
      "  fit.bound_variation_distance(vd_theta)\n",
      "/tmp/ipykernel_62/465714373.py:36: DeprecationWarning: single_protocol_run is being deprecated. Use AppendResult or AppendString\n",
      "  fit.single_protocol_run(result, postp_list, v_zero)\n",
      "/tmp/ipykernel_62/465714373.py:44: DeprecationWarning: bound_variation_distance is being deprecated. Use FullAccreditation or MeanAccreditation\n",
      "  fit.bound_variation_distance(vd_theta)\n",
      "/tmp/ipykernel_62/465714373.py:36: DeprecationWarning: single_protocol_run is being deprecated. Use AppendResult or AppendString\n",
      "  fit.single_protocol_run(result, postp_list, v_zero)\n",
      "/tmp/ipykernel_62/465714373.py:44: DeprecationWarning: bound_variation_distance is being deprecated. Use FullAccreditation or MeanAccreditation\n",
      "  fit.bound_variation_distance(vd_theta)\n",
      "/tmp/ipykernel_62/465714373.py:36: DeprecationWarning: single_protocol_run is being deprecated. Use AppendResult or AppendString\n",
      "  fit.single_protocol_run(result, postp_list, v_zero)\n",
      "/tmp/ipykernel_62/465714373.py:44: DeprecationWarning: bound_variation_distance is being deprecated. Use FullAccreditation or MeanAccreditation\n",
      "  fit.bound_variation_distance(vd_theta)\n"
     ]
    },
    {
     "name": "stdout",
     "output_type": "stream",
     "text": [
      "n_trial=(4/10)\r"
     ]
    },
    {
     "name": "stderr",
     "output_type": "stream",
     "text": [
      "/tmp/ipykernel_62/465714373.py:36: DeprecationWarning: single_protocol_run is being deprecated. Use AppendResult or AppendString\n",
      "  fit.single_protocol_run(result, postp_list, v_zero)\n",
      "/tmp/ipykernel_62/465714373.py:44: DeprecationWarning: bound_variation_distance is being deprecated. Use FullAccreditation or MeanAccreditation\n",
      "  fit.bound_variation_distance(vd_theta)\n",
      "/tmp/ipykernel_62/465714373.py:36: DeprecationWarning: single_protocol_run is being deprecated. Use AppendResult or AppendString\n",
      "  fit.single_protocol_run(result, postp_list, v_zero)\n",
      "/tmp/ipykernel_62/465714373.py:44: DeprecationWarning: bound_variation_distance is being deprecated. Use FullAccreditation or MeanAccreditation\n",
      "  fit.bound_variation_distance(vd_theta)\n",
      "/tmp/ipykernel_62/465714373.py:36: DeprecationWarning: single_protocol_run is being deprecated. Use AppendResult or AppendString\n",
      "  fit.single_protocol_run(result, postp_list, v_zero)\n",
      "/tmp/ipykernel_62/465714373.py:44: DeprecationWarning: bound_variation_distance is being deprecated. Use FullAccreditation or MeanAccreditation\n",
      "  fit.bound_variation_distance(vd_theta)\n",
      "/tmp/ipykernel_62/465714373.py:36: DeprecationWarning: single_protocol_run is being deprecated. Use AppendResult or AppendString\n",
      "  fit.single_protocol_run(result, postp_list, v_zero)\n",
      "/tmp/ipykernel_62/465714373.py:44: DeprecationWarning: bound_variation_distance is being deprecated. Use FullAccreditation or MeanAccreditation\n",
      "  fit.bound_variation_distance(vd_theta)\n"
     ]
    },
    {
     "name": "stdout",
     "output_type": "stream",
     "text": [
      "n_trial=(5/10)\r"
     ]
    },
    {
     "name": "stderr",
     "output_type": "stream",
     "text": [
      "/tmp/ipykernel_62/465714373.py:36: DeprecationWarning: single_protocol_run is being deprecated. Use AppendResult or AppendString\n",
      "  fit.single_protocol_run(result, postp_list, v_zero)\n",
      "/tmp/ipykernel_62/465714373.py:44: DeprecationWarning: bound_variation_distance is being deprecated. Use FullAccreditation or MeanAccreditation\n",
      "  fit.bound_variation_distance(vd_theta)\n",
      "/tmp/ipykernel_62/465714373.py:36: DeprecationWarning: single_protocol_run is being deprecated. Use AppendResult or AppendString\n",
      "  fit.single_protocol_run(result, postp_list, v_zero)\n",
      "/tmp/ipykernel_62/465714373.py:44: DeprecationWarning: bound_variation_distance is being deprecated. Use FullAccreditation or MeanAccreditation\n",
      "  fit.bound_variation_distance(vd_theta)\n",
      "/tmp/ipykernel_62/465714373.py:36: DeprecationWarning: single_protocol_run is being deprecated. Use AppendResult or AppendString\n",
      "  fit.single_protocol_run(result, postp_list, v_zero)\n",
      "/tmp/ipykernel_62/465714373.py:44: DeprecationWarning: bound_variation_distance is being deprecated. Use FullAccreditation or MeanAccreditation\n",
      "  fit.bound_variation_distance(vd_theta)\n",
      "/tmp/ipykernel_62/465714373.py:36: DeprecationWarning: single_protocol_run is being deprecated. Use AppendResult or AppendString\n",
      "  fit.single_protocol_run(result, postp_list, v_zero)\n",
      "/tmp/ipykernel_62/465714373.py:44: DeprecationWarning: bound_variation_distance is being deprecated. Use FullAccreditation or MeanAccreditation\n",
      "  fit.bound_variation_distance(vd_theta)\n"
     ]
    },
    {
     "name": "stdout",
     "output_type": "stream",
     "text": [
      "n_trial=(5/10)\r"
     ]
    },
    {
     "name": "stderr",
     "output_type": "stream",
     "text": [
      "/tmp/ipykernel_62/465714373.py:36: DeprecationWarning: single_protocol_run is being deprecated. Use AppendResult or AppendString\n",
      "  fit.single_protocol_run(result, postp_list, v_zero)\n",
      "/tmp/ipykernel_62/465714373.py:44: DeprecationWarning: bound_variation_distance is being deprecated. Use FullAccreditation or MeanAccreditation\n",
      "  fit.bound_variation_distance(vd_theta)\n",
      "/tmp/ipykernel_62/465714373.py:36: DeprecationWarning: single_protocol_run is being deprecated. Use AppendResult or AppendString\n",
      "  fit.single_protocol_run(result, postp_list, v_zero)\n",
      "/tmp/ipykernel_62/465714373.py:44: DeprecationWarning: bound_variation_distance is being deprecated. Use FullAccreditation or MeanAccreditation\n",
      "  fit.bound_variation_distance(vd_theta)\n",
      "/tmp/ipykernel_62/465714373.py:36: DeprecationWarning: single_protocol_run is being deprecated. Use AppendResult or AppendString\n",
      "  fit.single_protocol_run(result, postp_list, v_zero)\n",
      "/tmp/ipykernel_62/465714373.py:44: DeprecationWarning: bound_variation_distance is being deprecated. Use FullAccreditation or MeanAccreditation\n",
      "  fit.bound_variation_distance(vd_theta)\n",
      "/tmp/ipykernel_62/465714373.py:36: DeprecationWarning: single_protocol_run is being deprecated. Use AppendResult or AppendString\n",
      "  fit.single_protocol_run(result, postp_list, v_zero)\n",
      "/tmp/ipykernel_62/465714373.py:44: DeprecationWarning: bound_variation_distance is being deprecated. Use FullAccreditation or MeanAccreditation\n",
      "  fit.bound_variation_distance(vd_theta)\n"
     ]
    },
    {
     "name": "stdout",
     "output_type": "stream",
     "text": [
      "n_trial=(5/10)\r"
     ]
    },
    {
     "name": "stderr",
     "output_type": "stream",
     "text": [
      "/tmp/ipykernel_62/465714373.py:36: DeprecationWarning: single_protocol_run is being deprecated. Use AppendResult or AppendString\n",
      "  fit.single_protocol_run(result, postp_list, v_zero)\n",
      "/tmp/ipykernel_62/465714373.py:44: DeprecationWarning: bound_variation_distance is being deprecated. Use FullAccreditation or MeanAccreditation\n",
      "  fit.bound_variation_distance(vd_theta)\n",
      "/tmp/ipykernel_62/465714373.py:36: DeprecationWarning: single_protocol_run is being deprecated. Use AppendResult or AppendString\n",
      "  fit.single_protocol_run(result, postp_list, v_zero)\n",
      "/tmp/ipykernel_62/465714373.py:44: DeprecationWarning: bound_variation_distance is being deprecated. Use FullAccreditation or MeanAccreditation\n",
      "  fit.bound_variation_distance(vd_theta)\n",
      "/tmp/ipykernel_62/465714373.py:36: DeprecationWarning: single_protocol_run is being deprecated. Use AppendResult or AppendString\n",
      "  fit.single_protocol_run(result, postp_list, v_zero)\n",
      "/tmp/ipykernel_62/465714373.py:44: DeprecationWarning: bound_variation_distance is being deprecated. Use FullAccreditation or MeanAccreditation\n",
      "  fit.bound_variation_distance(vd_theta)\n",
      "/tmp/ipykernel_62/465714373.py:36: DeprecationWarning: single_protocol_run is being deprecated. Use AppendResult or AppendString\n",
      "  fit.single_protocol_run(result, postp_list, v_zero)\n",
      "/tmp/ipykernel_62/465714373.py:44: DeprecationWarning: bound_variation_distance is being deprecated. Use FullAccreditation or MeanAccreditation\n",
      "  fit.bound_variation_distance(vd_theta)\n"
     ]
    },
    {
     "name": "stdout",
     "output_type": "stream",
     "text": [
      "n_trial=(5/10)\r"
     ]
    },
    {
     "name": "stderr",
     "output_type": "stream",
     "text": [
      "/tmp/ipykernel_62/465714373.py:36: DeprecationWarning: single_protocol_run is being deprecated. Use AppendResult or AppendString\n",
      "  fit.single_protocol_run(result, postp_list, v_zero)\n",
      "/tmp/ipykernel_62/465714373.py:44: DeprecationWarning: bound_variation_distance is being deprecated. Use FullAccreditation or MeanAccreditation\n",
      "  fit.bound_variation_distance(vd_theta)\n",
      "/tmp/ipykernel_62/465714373.py:36: DeprecationWarning: single_protocol_run is being deprecated. Use AppendResult or AppendString\n",
      "  fit.single_protocol_run(result, postp_list, v_zero)\n",
      "/tmp/ipykernel_62/465714373.py:44: DeprecationWarning: bound_variation_distance is being deprecated. Use FullAccreditation or MeanAccreditation\n",
      "  fit.bound_variation_distance(vd_theta)\n",
      "/tmp/ipykernel_62/465714373.py:36: DeprecationWarning: single_protocol_run is being deprecated. Use AppendResult or AppendString\n",
      "  fit.single_protocol_run(result, postp_list, v_zero)\n",
      "/tmp/ipykernel_62/465714373.py:44: DeprecationWarning: bound_variation_distance is being deprecated. Use FullAccreditation or MeanAccreditation\n",
      "  fit.bound_variation_distance(vd_theta)\n",
      "/tmp/ipykernel_62/465714373.py:36: DeprecationWarning: single_protocol_run is being deprecated. Use AppendResult or AppendString\n",
      "  fit.single_protocol_run(result, postp_list, v_zero)\n",
      "/tmp/ipykernel_62/465714373.py:44: DeprecationWarning: bound_variation_distance is being deprecated. Use FullAccreditation or MeanAccreditation\n",
      "  fit.bound_variation_distance(vd_theta)\n"
     ]
    },
    {
     "name": "stdout",
     "output_type": "stream",
     "text": [
      "n_trial=(5/10)\r"
     ]
    },
    {
     "name": "stderr",
     "output_type": "stream",
     "text": [
      "/tmp/ipykernel_62/465714373.py:36: DeprecationWarning: single_protocol_run is being deprecated. Use AppendResult or AppendString\n",
      "  fit.single_protocol_run(result, postp_list, v_zero)\n",
      "/tmp/ipykernel_62/465714373.py:44: DeprecationWarning: bound_variation_distance is being deprecated. Use FullAccreditation or MeanAccreditation\n",
      "  fit.bound_variation_distance(vd_theta)\n",
      "/tmp/ipykernel_62/465714373.py:36: DeprecationWarning: single_protocol_run is being deprecated. Use AppendResult or AppendString\n",
      "  fit.single_protocol_run(result, postp_list, v_zero)\n",
      "/tmp/ipykernel_62/465714373.py:44: DeprecationWarning: bound_variation_distance is being deprecated. Use FullAccreditation or MeanAccreditation\n",
      "  fit.bound_variation_distance(vd_theta)\n",
      "/tmp/ipykernel_62/465714373.py:36: DeprecationWarning: single_protocol_run is being deprecated. Use AppendResult or AppendString\n",
      "  fit.single_protocol_run(result, postp_list, v_zero)\n",
      "/tmp/ipykernel_62/465714373.py:44: DeprecationWarning: bound_variation_distance is being deprecated. Use FullAccreditation or MeanAccreditation\n",
      "  fit.bound_variation_distance(vd_theta)\n",
      "/tmp/ipykernel_62/465714373.py:36: DeprecationWarning: single_protocol_run is being deprecated. Use AppendResult or AppendString\n",
      "  fit.single_protocol_run(result, postp_list, v_zero)\n",
      "/tmp/ipykernel_62/465714373.py:44: DeprecationWarning: bound_variation_distance is being deprecated. Use FullAccreditation or MeanAccreditation\n",
      "  fit.bound_variation_distance(vd_theta)\n"
     ]
    },
    {
     "name": "stdout",
     "output_type": "stream",
     "text": [
      "n_trial=(5/10)\r"
     ]
    },
    {
     "name": "stderr",
     "output_type": "stream",
     "text": [
      "/tmp/ipykernel_62/465714373.py:36: DeprecationWarning: single_protocol_run is being deprecated. Use AppendResult or AppendString\n",
      "  fit.single_protocol_run(result, postp_list, v_zero)\n",
      "/tmp/ipykernel_62/465714373.py:44: DeprecationWarning: bound_variation_distance is being deprecated. Use FullAccreditation or MeanAccreditation\n",
      "  fit.bound_variation_distance(vd_theta)\n",
      "/tmp/ipykernel_62/465714373.py:36: DeprecationWarning: single_protocol_run is being deprecated. Use AppendResult or AppendString\n",
      "  fit.single_protocol_run(result, postp_list, v_zero)\n",
      "/tmp/ipykernel_62/465714373.py:44: DeprecationWarning: bound_variation_distance is being deprecated. Use FullAccreditation or MeanAccreditation\n",
      "  fit.bound_variation_distance(vd_theta)\n",
      "/tmp/ipykernel_62/465714373.py:36: DeprecationWarning: single_protocol_run is being deprecated. Use AppendResult or AppendString\n",
      "  fit.single_protocol_run(result, postp_list, v_zero)\n",
      "/tmp/ipykernel_62/465714373.py:44: DeprecationWarning: bound_variation_distance is being deprecated. Use FullAccreditation or MeanAccreditation\n",
      "  fit.bound_variation_distance(vd_theta)\n",
      "/tmp/ipykernel_62/465714373.py:36: DeprecationWarning: single_protocol_run is being deprecated. Use AppendResult or AppendString\n",
      "  fit.single_protocol_run(result, postp_list, v_zero)\n",
      "/tmp/ipykernel_62/465714373.py:44: DeprecationWarning: bound_variation_distance is being deprecated. Use FullAccreditation or MeanAccreditation\n",
      "  fit.bound_variation_distance(vd_theta)\n"
     ]
    },
    {
     "name": "stdout",
     "output_type": "stream",
     "text": [
      "n_trial=(6/10)\r"
     ]
    },
    {
     "name": "stderr",
     "output_type": "stream",
     "text": [
      "/tmp/ipykernel_62/465714373.py:36: DeprecationWarning: single_protocol_run is being deprecated. Use AppendResult or AppendString\n",
      "  fit.single_protocol_run(result, postp_list, v_zero)\n",
      "/tmp/ipykernel_62/465714373.py:44: DeprecationWarning: bound_variation_distance is being deprecated. Use FullAccreditation or MeanAccreditation\n",
      "  fit.bound_variation_distance(vd_theta)\n",
      "/tmp/ipykernel_62/465714373.py:36: DeprecationWarning: single_protocol_run is being deprecated. Use AppendResult or AppendString\n",
      "  fit.single_protocol_run(result, postp_list, v_zero)\n",
      "/tmp/ipykernel_62/465714373.py:44: DeprecationWarning: bound_variation_distance is being deprecated. Use FullAccreditation or MeanAccreditation\n",
      "  fit.bound_variation_distance(vd_theta)\n",
      "/tmp/ipykernel_62/465714373.py:36: DeprecationWarning: single_protocol_run is being deprecated. Use AppendResult or AppendString\n",
      "  fit.single_protocol_run(result, postp_list, v_zero)\n",
      "/tmp/ipykernel_62/465714373.py:44: DeprecationWarning: bound_variation_distance is being deprecated. Use FullAccreditation or MeanAccreditation\n",
      "  fit.bound_variation_distance(vd_theta)\n",
      "/tmp/ipykernel_62/465714373.py:36: DeprecationWarning: single_protocol_run is being deprecated. Use AppendResult or AppendString\n",
      "  fit.single_protocol_run(result, postp_list, v_zero)\n",
      "/tmp/ipykernel_62/465714373.py:44: DeprecationWarning: bound_variation_distance is being deprecated. Use FullAccreditation or MeanAccreditation\n",
      "  fit.bound_variation_distance(vd_theta)\n"
     ]
    },
    {
     "name": "stdout",
     "output_type": "stream",
     "text": [
      "n_trial=(6/10)\r"
     ]
    },
    {
     "name": "stderr",
     "output_type": "stream",
     "text": [
      "/tmp/ipykernel_62/465714373.py:36: DeprecationWarning: single_protocol_run is being deprecated. Use AppendResult or AppendString\n",
      "  fit.single_protocol_run(result, postp_list, v_zero)\n",
      "/tmp/ipykernel_62/465714373.py:44: DeprecationWarning: bound_variation_distance is being deprecated. Use FullAccreditation or MeanAccreditation\n",
      "  fit.bound_variation_distance(vd_theta)\n",
      "/tmp/ipykernel_62/465714373.py:36: DeprecationWarning: single_protocol_run is being deprecated. Use AppendResult or AppendString\n",
      "  fit.single_protocol_run(result, postp_list, v_zero)\n",
      "/tmp/ipykernel_62/465714373.py:44: DeprecationWarning: bound_variation_distance is being deprecated. Use FullAccreditation or MeanAccreditation\n",
      "  fit.bound_variation_distance(vd_theta)\n",
      "/tmp/ipykernel_62/465714373.py:36: DeprecationWarning: single_protocol_run is being deprecated. Use AppendResult or AppendString\n",
      "  fit.single_protocol_run(result, postp_list, v_zero)\n",
      "/tmp/ipykernel_62/465714373.py:44: DeprecationWarning: bound_variation_distance is being deprecated. Use FullAccreditation or MeanAccreditation\n",
      "  fit.bound_variation_distance(vd_theta)\n",
      "/tmp/ipykernel_62/465714373.py:36: DeprecationWarning: single_protocol_run is being deprecated. Use AppendResult or AppendString\n",
      "  fit.single_protocol_run(result, postp_list, v_zero)\n",
      "/tmp/ipykernel_62/465714373.py:44: DeprecationWarning: bound_variation_distance is being deprecated. Use FullAccreditation or MeanAccreditation\n",
      "  fit.bound_variation_distance(vd_theta)\n"
     ]
    },
    {
     "name": "stdout",
     "output_type": "stream",
     "text": [
      "n_trial=(6/10)\r"
     ]
    },
    {
     "name": "stderr",
     "output_type": "stream",
     "text": [
      "/tmp/ipykernel_62/465714373.py:36: DeprecationWarning: single_protocol_run is being deprecated. Use AppendResult or AppendString\n",
      "  fit.single_protocol_run(result, postp_list, v_zero)\n",
      "/tmp/ipykernel_62/465714373.py:44: DeprecationWarning: bound_variation_distance is being deprecated. Use FullAccreditation or MeanAccreditation\n",
      "  fit.bound_variation_distance(vd_theta)\n",
      "/tmp/ipykernel_62/465714373.py:36: DeprecationWarning: single_protocol_run is being deprecated. Use AppendResult or AppendString\n",
      "  fit.single_protocol_run(result, postp_list, v_zero)\n",
      "/tmp/ipykernel_62/465714373.py:44: DeprecationWarning: bound_variation_distance is being deprecated. Use FullAccreditation or MeanAccreditation\n",
      "  fit.bound_variation_distance(vd_theta)\n",
      "/tmp/ipykernel_62/465714373.py:36: DeprecationWarning: single_protocol_run is being deprecated. Use AppendResult or AppendString\n",
      "  fit.single_protocol_run(result, postp_list, v_zero)\n",
      "/tmp/ipykernel_62/465714373.py:44: DeprecationWarning: bound_variation_distance is being deprecated. Use FullAccreditation or MeanAccreditation\n",
      "  fit.bound_variation_distance(vd_theta)\n",
      "/tmp/ipykernel_62/465714373.py:36: DeprecationWarning: single_protocol_run is being deprecated. Use AppendResult or AppendString\n",
      "  fit.single_protocol_run(result, postp_list, v_zero)\n",
      "/tmp/ipykernel_62/465714373.py:44: DeprecationWarning: bound_variation_distance is being deprecated. Use FullAccreditation or MeanAccreditation\n",
      "  fit.bound_variation_distance(vd_theta)\n"
     ]
    },
    {
     "name": "stdout",
     "output_type": "stream",
     "text": [
      "n_trial=(6/10)\r"
     ]
    },
    {
     "name": "stderr",
     "output_type": "stream",
     "text": [
      "/tmp/ipykernel_62/465714373.py:36: DeprecationWarning: single_protocol_run is being deprecated. Use AppendResult or AppendString\n",
      "  fit.single_protocol_run(result, postp_list, v_zero)\n",
      "/tmp/ipykernel_62/465714373.py:44: DeprecationWarning: bound_variation_distance is being deprecated. Use FullAccreditation or MeanAccreditation\n",
      "  fit.bound_variation_distance(vd_theta)\n",
      "/tmp/ipykernel_62/465714373.py:36: DeprecationWarning: single_protocol_run is being deprecated. Use AppendResult or AppendString\n",
      "  fit.single_protocol_run(result, postp_list, v_zero)\n",
      "/tmp/ipykernel_62/465714373.py:44: DeprecationWarning: bound_variation_distance is being deprecated. Use FullAccreditation or MeanAccreditation\n",
      "  fit.bound_variation_distance(vd_theta)\n",
      "/tmp/ipykernel_62/465714373.py:36: DeprecationWarning: single_protocol_run is being deprecated. Use AppendResult or AppendString\n",
      "  fit.single_protocol_run(result, postp_list, v_zero)\n",
      "/tmp/ipykernel_62/465714373.py:44: DeprecationWarning: bound_variation_distance is being deprecated. Use FullAccreditation or MeanAccreditation\n",
      "  fit.bound_variation_distance(vd_theta)\n",
      "/tmp/ipykernel_62/465714373.py:36: DeprecationWarning: single_protocol_run is being deprecated. Use AppendResult or AppendString\n",
      "  fit.single_protocol_run(result, postp_list, v_zero)\n",
      "/tmp/ipykernel_62/465714373.py:44: DeprecationWarning: bound_variation_distance is being deprecated. Use FullAccreditation or MeanAccreditation\n",
      "  fit.bound_variation_distance(vd_theta)\n"
     ]
    },
    {
     "name": "stdout",
     "output_type": "stream",
     "text": [
      "n_trial=(6/10)\r"
     ]
    },
    {
     "name": "stderr",
     "output_type": "stream",
     "text": [
      "/tmp/ipykernel_62/465714373.py:36: DeprecationWarning: single_protocol_run is being deprecated. Use AppendResult or AppendString\n",
      "  fit.single_protocol_run(result, postp_list, v_zero)\n",
      "/tmp/ipykernel_62/465714373.py:44: DeprecationWarning: bound_variation_distance is being deprecated. Use FullAccreditation or MeanAccreditation\n",
      "  fit.bound_variation_distance(vd_theta)\n",
      "/tmp/ipykernel_62/465714373.py:36: DeprecationWarning: single_protocol_run is being deprecated. Use AppendResult or AppendString\n",
      "  fit.single_protocol_run(result, postp_list, v_zero)\n",
      "/tmp/ipykernel_62/465714373.py:44: DeprecationWarning: bound_variation_distance is being deprecated. Use FullAccreditation or MeanAccreditation\n",
      "  fit.bound_variation_distance(vd_theta)\n",
      "/tmp/ipykernel_62/465714373.py:36: DeprecationWarning: single_protocol_run is being deprecated. Use AppendResult or AppendString\n",
      "  fit.single_protocol_run(result, postp_list, v_zero)\n",
      "/tmp/ipykernel_62/465714373.py:44: DeprecationWarning: bound_variation_distance is being deprecated. Use FullAccreditation or MeanAccreditation\n",
      "  fit.bound_variation_distance(vd_theta)\n",
      "/tmp/ipykernel_62/465714373.py:36: DeprecationWarning: single_protocol_run is being deprecated. Use AppendResult or AppendString\n",
      "  fit.single_protocol_run(result, postp_list, v_zero)\n",
      "/tmp/ipykernel_62/465714373.py:44: DeprecationWarning: bound_variation_distance is being deprecated. Use FullAccreditation or MeanAccreditation\n",
      "  fit.bound_variation_distance(vd_theta)\n"
     ]
    },
    {
     "name": "stdout",
     "output_type": "stream",
     "text": [
      "n_trial=(6/10)\r"
     ]
    },
    {
     "name": "stderr",
     "output_type": "stream",
     "text": [
      "/tmp/ipykernel_62/465714373.py:36: DeprecationWarning: single_protocol_run is being deprecated. Use AppendResult or AppendString\n",
      "  fit.single_protocol_run(result, postp_list, v_zero)\n",
      "/tmp/ipykernel_62/465714373.py:44: DeprecationWarning: bound_variation_distance is being deprecated. Use FullAccreditation or MeanAccreditation\n",
      "  fit.bound_variation_distance(vd_theta)\n",
      "/tmp/ipykernel_62/465714373.py:36: DeprecationWarning: single_protocol_run is being deprecated. Use AppendResult or AppendString\n",
      "  fit.single_protocol_run(result, postp_list, v_zero)\n",
      "/tmp/ipykernel_62/465714373.py:44: DeprecationWarning: bound_variation_distance is being deprecated. Use FullAccreditation or MeanAccreditation\n",
      "  fit.bound_variation_distance(vd_theta)\n",
      "/tmp/ipykernel_62/465714373.py:36: DeprecationWarning: single_protocol_run is being deprecated. Use AppendResult or AppendString\n",
      "  fit.single_protocol_run(result, postp_list, v_zero)\n",
      "/tmp/ipykernel_62/465714373.py:44: DeprecationWarning: bound_variation_distance is being deprecated. Use FullAccreditation or MeanAccreditation\n",
      "  fit.bound_variation_distance(vd_theta)\n",
      "/tmp/ipykernel_62/465714373.py:36: DeprecationWarning: single_protocol_run is being deprecated. Use AppendResult or AppendString\n",
      "  fit.single_protocol_run(result, postp_list, v_zero)\n",
      "/tmp/ipykernel_62/465714373.py:44: DeprecationWarning: bound_variation_distance is being deprecated. Use FullAccreditation or MeanAccreditation\n",
      "  fit.bound_variation_distance(vd_theta)\n"
     ]
    },
    {
     "name": "stdout",
     "output_type": "stream",
     "text": [
      "n_trial=(7/10)\r"
     ]
    },
    {
     "name": "stderr",
     "output_type": "stream",
     "text": [
      "/tmp/ipykernel_62/465714373.py:36: DeprecationWarning: single_protocol_run is being deprecated. Use AppendResult or AppendString\n",
      "  fit.single_protocol_run(result, postp_list, v_zero)\n",
      "/tmp/ipykernel_62/465714373.py:44: DeprecationWarning: bound_variation_distance is being deprecated. Use FullAccreditation or MeanAccreditation\n",
      "  fit.bound_variation_distance(vd_theta)\n",
      "/tmp/ipykernel_62/465714373.py:36: DeprecationWarning: single_protocol_run is being deprecated. Use AppendResult or AppendString\n",
      "  fit.single_protocol_run(result, postp_list, v_zero)\n",
      "/tmp/ipykernel_62/465714373.py:44: DeprecationWarning: bound_variation_distance is being deprecated. Use FullAccreditation or MeanAccreditation\n",
      "  fit.bound_variation_distance(vd_theta)\n",
      "/tmp/ipykernel_62/465714373.py:36: DeprecationWarning: single_protocol_run is being deprecated. Use AppendResult or AppendString\n",
      "  fit.single_protocol_run(result, postp_list, v_zero)\n",
      "/tmp/ipykernel_62/465714373.py:44: DeprecationWarning: bound_variation_distance is being deprecated. Use FullAccreditation or MeanAccreditation\n",
      "  fit.bound_variation_distance(vd_theta)\n",
      "/tmp/ipykernel_62/465714373.py:36: DeprecationWarning: single_protocol_run is being deprecated. Use AppendResult or AppendString\n",
      "  fit.single_protocol_run(result, postp_list, v_zero)\n",
      "/tmp/ipykernel_62/465714373.py:44: DeprecationWarning: bound_variation_distance is being deprecated. Use FullAccreditation or MeanAccreditation\n",
      "  fit.bound_variation_distance(vd_theta)\n"
     ]
    },
    {
     "name": "stdout",
     "output_type": "stream",
     "text": [
      "n_trial=(7/10)\r"
     ]
    },
    {
     "name": "stderr",
     "output_type": "stream",
     "text": [
      "/tmp/ipykernel_62/465714373.py:36: DeprecationWarning: single_protocol_run is being deprecated. Use AppendResult or AppendString\n",
      "  fit.single_protocol_run(result, postp_list, v_zero)\n",
      "/tmp/ipykernel_62/465714373.py:44: DeprecationWarning: bound_variation_distance is being deprecated. Use FullAccreditation or MeanAccreditation\n",
      "  fit.bound_variation_distance(vd_theta)\n",
      "/tmp/ipykernel_62/465714373.py:36: DeprecationWarning: single_protocol_run is being deprecated. Use AppendResult or AppendString\n",
      "  fit.single_protocol_run(result, postp_list, v_zero)\n",
      "/tmp/ipykernel_62/465714373.py:44: DeprecationWarning: bound_variation_distance is being deprecated. Use FullAccreditation or MeanAccreditation\n",
      "  fit.bound_variation_distance(vd_theta)\n",
      "/tmp/ipykernel_62/465714373.py:36: DeprecationWarning: single_protocol_run is being deprecated. Use AppendResult or AppendString\n",
      "  fit.single_protocol_run(result, postp_list, v_zero)\n",
      "/tmp/ipykernel_62/465714373.py:44: DeprecationWarning: bound_variation_distance is being deprecated. Use FullAccreditation or MeanAccreditation\n",
      "  fit.bound_variation_distance(vd_theta)\n",
      "/tmp/ipykernel_62/465714373.py:36: DeprecationWarning: single_protocol_run is being deprecated. Use AppendResult or AppendString\n",
      "  fit.single_protocol_run(result, postp_list, v_zero)\n",
      "/tmp/ipykernel_62/465714373.py:44: DeprecationWarning: bound_variation_distance is being deprecated. Use FullAccreditation or MeanAccreditation\n",
      "  fit.bound_variation_distance(vd_theta)\n"
     ]
    },
    {
     "name": "stdout",
     "output_type": "stream",
     "text": [
      "n_trial=(7/10)\r"
     ]
    },
    {
     "name": "stderr",
     "output_type": "stream",
     "text": [
      "/tmp/ipykernel_62/465714373.py:36: DeprecationWarning: single_protocol_run is being deprecated. Use AppendResult or AppendString\n",
      "  fit.single_protocol_run(result, postp_list, v_zero)\n",
      "/tmp/ipykernel_62/465714373.py:44: DeprecationWarning: bound_variation_distance is being deprecated. Use FullAccreditation or MeanAccreditation\n",
      "  fit.bound_variation_distance(vd_theta)\n",
      "/tmp/ipykernel_62/465714373.py:36: DeprecationWarning: single_protocol_run is being deprecated. Use AppendResult or AppendString\n",
      "  fit.single_protocol_run(result, postp_list, v_zero)\n",
      "/tmp/ipykernel_62/465714373.py:44: DeprecationWarning: bound_variation_distance is being deprecated. Use FullAccreditation or MeanAccreditation\n",
      "  fit.bound_variation_distance(vd_theta)\n",
      "/tmp/ipykernel_62/465714373.py:36: DeprecationWarning: single_protocol_run is being deprecated. Use AppendResult or AppendString\n",
      "  fit.single_protocol_run(result, postp_list, v_zero)\n",
      "/tmp/ipykernel_62/465714373.py:44: DeprecationWarning: bound_variation_distance is being deprecated. Use FullAccreditation or MeanAccreditation\n",
      "  fit.bound_variation_distance(vd_theta)\n",
      "/tmp/ipykernel_62/465714373.py:36: DeprecationWarning: single_protocol_run is being deprecated. Use AppendResult or AppendString\n",
      "  fit.single_protocol_run(result, postp_list, v_zero)\n",
      "/tmp/ipykernel_62/465714373.py:44: DeprecationWarning: bound_variation_distance is being deprecated. Use FullAccreditation or MeanAccreditation\n",
      "  fit.bound_variation_distance(vd_theta)\n"
     ]
    },
    {
     "name": "stdout",
     "output_type": "stream",
     "text": [
      "n_trial=(7/10)\r"
     ]
    },
    {
     "name": "stderr",
     "output_type": "stream",
     "text": [
      "/tmp/ipykernel_62/465714373.py:36: DeprecationWarning: single_protocol_run is being deprecated. Use AppendResult or AppendString\n",
      "  fit.single_protocol_run(result, postp_list, v_zero)\n",
      "/tmp/ipykernel_62/465714373.py:44: DeprecationWarning: bound_variation_distance is being deprecated. Use FullAccreditation or MeanAccreditation\n",
      "  fit.bound_variation_distance(vd_theta)\n",
      "/tmp/ipykernel_62/465714373.py:36: DeprecationWarning: single_protocol_run is being deprecated. Use AppendResult or AppendString\n",
      "  fit.single_protocol_run(result, postp_list, v_zero)\n",
      "/tmp/ipykernel_62/465714373.py:44: DeprecationWarning: bound_variation_distance is being deprecated. Use FullAccreditation or MeanAccreditation\n",
      "  fit.bound_variation_distance(vd_theta)\n",
      "/tmp/ipykernel_62/465714373.py:36: DeprecationWarning: single_protocol_run is being deprecated. Use AppendResult or AppendString\n",
      "  fit.single_protocol_run(result, postp_list, v_zero)\n",
      "/tmp/ipykernel_62/465714373.py:44: DeprecationWarning: bound_variation_distance is being deprecated. Use FullAccreditation or MeanAccreditation\n",
      "  fit.bound_variation_distance(vd_theta)\n",
      "/tmp/ipykernel_62/465714373.py:36: DeprecationWarning: single_protocol_run is being deprecated. Use AppendResult or AppendString\n",
      "  fit.single_protocol_run(result, postp_list, v_zero)\n",
      "/tmp/ipykernel_62/465714373.py:44: DeprecationWarning: bound_variation_distance is being deprecated. Use FullAccreditation or MeanAccreditation\n",
      "  fit.bound_variation_distance(vd_theta)\n"
     ]
    },
    {
     "name": "stdout",
     "output_type": "stream",
     "text": [
      "n_trial=(7/10)\r"
     ]
    },
    {
     "name": "stderr",
     "output_type": "stream",
     "text": [
      "/tmp/ipykernel_62/465714373.py:36: DeprecationWarning: single_protocol_run is being deprecated. Use AppendResult or AppendString\n",
      "  fit.single_protocol_run(result, postp_list, v_zero)\n",
      "/tmp/ipykernel_62/465714373.py:44: DeprecationWarning: bound_variation_distance is being deprecated. Use FullAccreditation or MeanAccreditation\n",
      "  fit.bound_variation_distance(vd_theta)\n",
      "/tmp/ipykernel_62/465714373.py:36: DeprecationWarning: single_protocol_run is being deprecated. Use AppendResult or AppendString\n",
      "  fit.single_protocol_run(result, postp_list, v_zero)\n",
      "/tmp/ipykernel_62/465714373.py:44: DeprecationWarning: bound_variation_distance is being deprecated. Use FullAccreditation or MeanAccreditation\n",
      "  fit.bound_variation_distance(vd_theta)\n",
      "/tmp/ipykernel_62/465714373.py:36: DeprecationWarning: single_protocol_run is being deprecated. Use AppendResult or AppendString\n",
      "  fit.single_protocol_run(result, postp_list, v_zero)\n",
      "/tmp/ipykernel_62/465714373.py:44: DeprecationWarning: bound_variation_distance is being deprecated. Use FullAccreditation or MeanAccreditation\n",
      "  fit.bound_variation_distance(vd_theta)\n",
      "/tmp/ipykernel_62/465714373.py:36: DeprecationWarning: single_protocol_run is being deprecated. Use AppendResult or AppendString\n",
      "  fit.single_protocol_run(result, postp_list, v_zero)\n",
      "/tmp/ipykernel_62/465714373.py:44: DeprecationWarning: bound_variation_distance is being deprecated. Use FullAccreditation or MeanAccreditation\n",
      "  fit.bound_variation_distance(vd_theta)\n"
     ]
    },
    {
     "name": "stdout",
     "output_type": "stream",
     "text": [
      "n_trial=(7/10)\r"
     ]
    },
    {
     "name": "stderr",
     "output_type": "stream",
     "text": [
      "/tmp/ipykernel_62/465714373.py:36: DeprecationWarning: single_protocol_run is being deprecated. Use AppendResult or AppendString\n",
      "  fit.single_protocol_run(result, postp_list, v_zero)\n",
      "/tmp/ipykernel_62/465714373.py:44: DeprecationWarning: bound_variation_distance is being deprecated. Use FullAccreditation or MeanAccreditation\n",
      "  fit.bound_variation_distance(vd_theta)\n",
      "/tmp/ipykernel_62/465714373.py:36: DeprecationWarning: single_protocol_run is being deprecated. Use AppendResult or AppendString\n",
      "  fit.single_protocol_run(result, postp_list, v_zero)\n",
      "/tmp/ipykernel_62/465714373.py:44: DeprecationWarning: bound_variation_distance is being deprecated. Use FullAccreditation or MeanAccreditation\n",
      "  fit.bound_variation_distance(vd_theta)\n",
      "/tmp/ipykernel_62/465714373.py:36: DeprecationWarning: single_protocol_run is being deprecated. Use AppendResult or AppendString\n",
      "  fit.single_protocol_run(result, postp_list, v_zero)\n",
      "/tmp/ipykernel_62/465714373.py:44: DeprecationWarning: bound_variation_distance is being deprecated. Use FullAccreditation or MeanAccreditation\n",
      "  fit.bound_variation_distance(vd_theta)\n",
      "/tmp/ipykernel_62/465714373.py:36: DeprecationWarning: single_protocol_run is being deprecated. Use AppendResult or AppendString\n",
      "  fit.single_protocol_run(result, postp_list, v_zero)\n",
      "/tmp/ipykernel_62/465714373.py:44: DeprecationWarning: bound_variation_distance is being deprecated. Use FullAccreditation or MeanAccreditation\n",
      "  fit.bound_variation_distance(vd_theta)\n"
     ]
    },
    {
     "name": "stdout",
     "output_type": "stream",
     "text": [
      "n_trial=(8/10)\r"
     ]
    },
    {
     "name": "stderr",
     "output_type": "stream",
     "text": [
      "/tmp/ipykernel_62/465714373.py:36: DeprecationWarning: single_protocol_run is being deprecated. Use AppendResult or AppendString\n",
      "  fit.single_protocol_run(result, postp_list, v_zero)\n",
      "/tmp/ipykernel_62/465714373.py:44: DeprecationWarning: bound_variation_distance is being deprecated. Use FullAccreditation or MeanAccreditation\n",
      "  fit.bound_variation_distance(vd_theta)\n",
      "/tmp/ipykernel_62/465714373.py:36: DeprecationWarning: single_protocol_run is being deprecated. Use AppendResult or AppendString\n",
      "  fit.single_protocol_run(result, postp_list, v_zero)\n",
      "/tmp/ipykernel_62/465714373.py:44: DeprecationWarning: bound_variation_distance is being deprecated. Use FullAccreditation or MeanAccreditation\n",
      "  fit.bound_variation_distance(vd_theta)\n",
      "/tmp/ipykernel_62/465714373.py:36: DeprecationWarning: single_protocol_run is being deprecated. Use AppendResult or AppendString\n",
      "  fit.single_protocol_run(result, postp_list, v_zero)\n",
      "/tmp/ipykernel_62/465714373.py:44: DeprecationWarning: bound_variation_distance is being deprecated. Use FullAccreditation or MeanAccreditation\n",
      "  fit.bound_variation_distance(vd_theta)\n",
      "/tmp/ipykernel_62/465714373.py:36: DeprecationWarning: single_protocol_run is being deprecated. Use AppendResult or AppendString\n",
      "  fit.single_protocol_run(result, postp_list, v_zero)\n",
      "/tmp/ipykernel_62/465714373.py:44: DeprecationWarning: bound_variation_distance is being deprecated. Use FullAccreditation or MeanAccreditation\n",
      "  fit.bound_variation_distance(vd_theta)\n"
     ]
    },
    {
     "name": "stdout",
     "output_type": "stream",
     "text": [
      "n_trial=(8/10)\r"
     ]
    },
    {
     "name": "stderr",
     "output_type": "stream",
     "text": [
      "/tmp/ipykernel_62/465714373.py:36: DeprecationWarning: single_protocol_run is being deprecated. Use AppendResult or AppendString\n",
      "  fit.single_protocol_run(result, postp_list, v_zero)\n",
      "/tmp/ipykernel_62/465714373.py:44: DeprecationWarning: bound_variation_distance is being deprecated. Use FullAccreditation or MeanAccreditation\n",
      "  fit.bound_variation_distance(vd_theta)\n",
      "/tmp/ipykernel_62/465714373.py:36: DeprecationWarning: single_protocol_run is being deprecated. Use AppendResult or AppendString\n",
      "  fit.single_protocol_run(result, postp_list, v_zero)\n",
      "/tmp/ipykernel_62/465714373.py:44: DeprecationWarning: bound_variation_distance is being deprecated. Use FullAccreditation or MeanAccreditation\n",
      "  fit.bound_variation_distance(vd_theta)\n",
      "/tmp/ipykernel_62/465714373.py:36: DeprecationWarning: single_protocol_run is being deprecated. Use AppendResult or AppendString\n",
      "  fit.single_protocol_run(result, postp_list, v_zero)\n",
      "/tmp/ipykernel_62/465714373.py:44: DeprecationWarning: bound_variation_distance is being deprecated. Use FullAccreditation or MeanAccreditation\n",
      "  fit.bound_variation_distance(vd_theta)\n",
      "/tmp/ipykernel_62/465714373.py:36: DeprecationWarning: single_protocol_run is being deprecated. Use AppendResult or AppendString\n",
      "  fit.single_protocol_run(result, postp_list, v_zero)\n",
      "/tmp/ipykernel_62/465714373.py:44: DeprecationWarning: bound_variation_distance is being deprecated. Use FullAccreditation or MeanAccreditation\n",
      "  fit.bound_variation_distance(vd_theta)\n"
     ]
    },
    {
     "name": "stdout",
     "output_type": "stream",
     "text": [
      "n_trial=(8/10)\r"
     ]
    },
    {
     "name": "stderr",
     "output_type": "stream",
     "text": [
      "/tmp/ipykernel_62/465714373.py:36: DeprecationWarning: single_protocol_run is being deprecated. Use AppendResult or AppendString\n",
      "  fit.single_protocol_run(result, postp_list, v_zero)\n",
      "/tmp/ipykernel_62/465714373.py:44: DeprecationWarning: bound_variation_distance is being deprecated. Use FullAccreditation or MeanAccreditation\n",
      "  fit.bound_variation_distance(vd_theta)\n",
      "/tmp/ipykernel_62/465714373.py:36: DeprecationWarning: single_protocol_run is being deprecated. Use AppendResult or AppendString\n",
      "  fit.single_protocol_run(result, postp_list, v_zero)\n",
      "/tmp/ipykernel_62/465714373.py:44: DeprecationWarning: bound_variation_distance is being deprecated. Use FullAccreditation or MeanAccreditation\n",
      "  fit.bound_variation_distance(vd_theta)\n",
      "/tmp/ipykernel_62/465714373.py:36: DeprecationWarning: single_protocol_run is being deprecated. Use AppendResult or AppendString\n",
      "  fit.single_protocol_run(result, postp_list, v_zero)\n",
      "/tmp/ipykernel_62/465714373.py:44: DeprecationWarning: bound_variation_distance is being deprecated. Use FullAccreditation or MeanAccreditation\n",
      "  fit.bound_variation_distance(vd_theta)\n",
      "/tmp/ipykernel_62/465714373.py:36: DeprecationWarning: single_protocol_run is being deprecated. Use AppendResult or AppendString\n",
      "  fit.single_protocol_run(result, postp_list, v_zero)\n",
      "/tmp/ipykernel_62/465714373.py:44: DeprecationWarning: bound_variation_distance is being deprecated. Use FullAccreditation or MeanAccreditation\n",
      "  fit.bound_variation_distance(vd_theta)\n"
     ]
    },
    {
     "name": "stdout",
     "output_type": "stream",
     "text": [
      "n_trial=(8/10)\r"
     ]
    },
    {
     "name": "stderr",
     "output_type": "stream",
     "text": [
      "/tmp/ipykernel_62/465714373.py:36: DeprecationWarning: single_protocol_run is being deprecated. Use AppendResult or AppendString\n",
      "  fit.single_protocol_run(result, postp_list, v_zero)\n",
      "/tmp/ipykernel_62/465714373.py:44: DeprecationWarning: bound_variation_distance is being deprecated. Use FullAccreditation or MeanAccreditation\n",
      "  fit.bound_variation_distance(vd_theta)\n",
      "/tmp/ipykernel_62/465714373.py:36: DeprecationWarning: single_protocol_run is being deprecated. Use AppendResult or AppendString\n",
      "  fit.single_protocol_run(result, postp_list, v_zero)\n",
      "/tmp/ipykernel_62/465714373.py:44: DeprecationWarning: bound_variation_distance is being deprecated. Use FullAccreditation or MeanAccreditation\n",
      "  fit.bound_variation_distance(vd_theta)\n",
      "/tmp/ipykernel_62/465714373.py:36: DeprecationWarning: single_protocol_run is being deprecated. Use AppendResult or AppendString\n",
      "  fit.single_protocol_run(result, postp_list, v_zero)\n",
      "/tmp/ipykernel_62/465714373.py:44: DeprecationWarning: bound_variation_distance is being deprecated. Use FullAccreditation or MeanAccreditation\n",
      "  fit.bound_variation_distance(vd_theta)\n",
      "/tmp/ipykernel_62/465714373.py:36: DeprecationWarning: single_protocol_run is being deprecated. Use AppendResult or AppendString\n",
      "  fit.single_protocol_run(result, postp_list, v_zero)\n",
      "/tmp/ipykernel_62/465714373.py:44: DeprecationWarning: bound_variation_distance is being deprecated. Use FullAccreditation or MeanAccreditation\n",
      "  fit.bound_variation_distance(vd_theta)\n"
     ]
    },
    {
     "name": "stdout",
     "output_type": "stream",
     "text": [
      "n_trial=(8/10)\r"
     ]
    },
    {
     "name": "stderr",
     "output_type": "stream",
     "text": [
      "/tmp/ipykernel_62/465714373.py:36: DeprecationWarning: single_protocol_run is being deprecated. Use AppendResult or AppendString\n",
      "  fit.single_protocol_run(result, postp_list, v_zero)\n",
      "/tmp/ipykernel_62/465714373.py:44: DeprecationWarning: bound_variation_distance is being deprecated. Use FullAccreditation or MeanAccreditation\n",
      "  fit.bound_variation_distance(vd_theta)\n",
      "/tmp/ipykernel_62/465714373.py:36: DeprecationWarning: single_protocol_run is being deprecated. Use AppendResult or AppendString\n",
      "  fit.single_protocol_run(result, postp_list, v_zero)\n",
      "/tmp/ipykernel_62/465714373.py:44: DeprecationWarning: bound_variation_distance is being deprecated. Use FullAccreditation or MeanAccreditation\n",
      "  fit.bound_variation_distance(vd_theta)\n",
      "/tmp/ipykernel_62/465714373.py:36: DeprecationWarning: single_protocol_run is being deprecated. Use AppendResult or AppendString\n",
      "  fit.single_protocol_run(result, postp_list, v_zero)\n",
      "/tmp/ipykernel_62/465714373.py:44: DeprecationWarning: bound_variation_distance is being deprecated. Use FullAccreditation or MeanAccreditation\n",
      "  fit.bound_variation_distance(vd_theta)\n",
      "/tmp/ipykernel_62/465714373.py:36: DeprecationWarning: single_protocol_run is being deprecated. Use AppendResult or AppendString\n",
      "  fit.single_protocol_run(result, postp_list, v_zero)\n",
      "/tmp/ipykernel_62/465714373.py:44: DeprecationWarning: bound_variation_distance is being deprecated. Use FullAccreditation or MeanAccreditation\n",
      "  fit.bound_variation_distance(vd_theta)\n"
     ]
    },
    {
     "name": "stdout",
     "output_type": "stream",
     "text": [
      "n_trial=(8/10)\r"
     ]
    },
    {
     "name": "stderr",
     "output_type": "stream",
     "text": [
      "/tmp/ipykernel_62/465714373.py:36: DeprecationWarning: single_protocol_run is being deprecated. Use AppendResult or AppendString\n",
      "  fit.single_protocol_run(result, postp_list, v_zero)\n",
      "/tmp/ipykernel_62/465714373.py:44: DeprecationWarning: bound_variation_distance is being deprecated. Use FullAccreditation or MeanAccreditation\n",
      "  fit.bound_variation_distance(vd_theta)\n",
      "/tmp/ipykernel_62/465714373.py:36: DeprecationWarning: single_protocol_run is being deprecated. Use AppendResult or AppendString\n",
      "  fit.single_protocol_run(result, postp_list, v_zero)\n",
      "/tmp/ipykernel_62/465714373.py:44: DeprecationWarning: bound_variation_distance is being deprecated. Use FullAccreditation or MeanAccreditation\n",
      "  fit.bound_variation_distance(vd_theta)\n",
      "/tmp/ipykernel_62/465714373.py:36: DeprecationWarning: single_protocol_run is being deprecated. Use AppendResult or AppendString\n",
      "  fit.single_protocol_run(result, postp_list, v_zero)\n",
      "/tmp/ipykernel_62/465714373.py:44: DeprecationWarning: bound_variation_distance is being deprecated. Use FullAccreditation or MeanAccreditation\n",
      "  fit.bound_variation_distance(vd_theta)\n",
      "/tmp/ipykernel_62/465714373.py:36: DeprecationWarning: single_protocol_run is being deprecated. Use AppendResult or AppendString\n",
      "  fit.single_protocol_run(result, postp_list, v_zero)\n",
      "/tmp/ipykernel_62/465714373.py:44: DeprecationWarning: bound_variation_distance is being deprecated. Use FullAccreditation or MeanAccreditation\n",
      "  fit.bound_variation_distance(vd_theta)\n"
     ]
    },
    {
     "name": "stdout",
     "output_type": "stream",
     "text": [
      "n_trial=(9/10)\r"
     ]
    },
    {
     "name": "stderr",
     "output_type": "stream",
     "text": [
      "/tmp/ipykernel_62/465714373.py:36: DeprecationWarning: single_protocol_run is being deprecated. Use AppendResult or AppendString\n",
      "  fit.single_protocol_run(result, postp_list, v_zero)\n",
      "/tmp/ipykernel_62/465714373.py:44: DeprecationWarning: bound_variation_distance is being deprecated. Use FullAccreditation or MeanAccreditation\n",
      "  fit.bound_variation_distance(vd_theta)\n",
      "/tmp/ipykernel_62/465714373.py:36: DeprecationWarning: single_protocol_run is being deprecated. Use AppendResult or AppendString\n",
      "  fit.single_protocol_run(result, postp_list, v_zero)\n",
      "/tmp/ipykernel_62/465714373.py:44: DeprecationWarning: bound_variation_distance is being deprecated. Use FullAccreditation or MeanAccreditation\n",
      "  fit.bound_variation_distance(vd_theta)\n",
      "/tmp/ipykernel_62/465714373.py:36: DeprecationWarning: single_protocol_run is being deprecated. Use AppendResult or AppendString\n",
      "  fit.single_protocol_run(result, postp_list, v_zero)\n",
      "/tmp/ipykernel_62/465714373.py:44: DeprecationWarning: bound_variation_distance is being deprecated. Use FullAccreditation or MeanAccreditation\n",
      "  fit.bound_variation_distance(vd_theta)\n",
      "/tmp/ipykernel_62/465714373.py:36: DeprecationWarning: single_protocol_run is being deprecated. Use AppendResult or AppendString\n",
      "  fit.single_protocol_run(result, postp_list, v_zero)\n",
      "/tmp/ipykernel_62/465714373.py:44: DeprecationWarning: bound_variation_distance is being deprecated. Use FullAccreditation or MeanAccreditation\n",
      "  fit.bound_variation_distance(vd_theta)\n"
     ]
    },
    {
     "name": "stdout",
     "output_type": "stream",
     "text": [
      "n_trial=(9/10)\r"
     ]
    },
    {
     "name": "stderr",
     "output_type": "stream",
     "text": [
      "/tmp/ipykernel_62/465714373.py:36: DeprecationWarning: single_protocol_run is being deprecated. Use AppendResult or AppendString\n",
      "  fit.single_protocol_run(result, postp_list, v_zero)\n",
      "/tmp/ipykernel_62/465714373.py:44: DeprecationWarning: bound_variation_distance is being deprecated. Use FullAccreditation or MeanAccreditation\n",
      "  fit.bound_variation_distance(vd_theta)\n",
      "/tmp/ipykernel_62/465714373.py:36: DeprecationWarning: single_protocol_run is being deprecated. Use AppendResult or AppendString\n",
      "  fit.single_protocol_run(result, postp_list, v_zero)\n",
      "/tmp/ipykernel_62/465714373.py:44: DeprecationWarning: bound_variation_distance is being deprecated. Use FullAccreditation or MeanAccreditation\n",
      "  fit.bound_variation_distance(vd_theta)\n",
      "/tmp/ipykernel_62/465714373.py:36: DeprecationWarning: single_protocol_run is being deprecated. Use AppendResult or AppendString\n",
      "  fit.single_protocol_run(result, postp_list, v_zero)\n",
      "/tmp/ipykernel_62/465714373.py:44: DeprecationWarning: bound_variation_distance is being deprecated. Use FullAccreditation or MeanAccreditation\n",
      "  fit.bound_variation_distance(vd_theta)\n",
      "/tmp/ipykernel_62/465714373.py:36: DeprecationWarning: single_protocol_run is being deprecated. Use AppendResult or AppendString\n",
      "  fit.single_protocol_run(result, postp_list, v_zero)\n",
      "/tmp/ipykernel_62/465714373.py:44: DeprecationWarning: bound_variation_distance is being deprecated. Use FullAccreditation or MeanAccreditation\n",
      "  fit.bound_variation_distance(vd_theta)\n"
     ]
    },
    {
     "name": "stdout",
     "output_type": "stream",
     "text": [
      "n_trial=(9/10)\r"
     ]
    },
    {
     "name": "stderr",
     "output_type": "stream",
     "text": [
      "/tmp/ipykernel_62/465714373.py:36: DeprecationWarning: single_protocol_run is being deprecated. Use AppendResult or AppendString\n",
      "  fit.single_protocol_run(result, postp_list, v_zero)\n",
      "/tmp/ipykernel_62/465714373.py:44: DeprecationWarning: bound_variation_distance is being deprecated. Use FullAccreditation or MeanAccreditation\n",
      "  fit.bound_variation_distance(vd_theta)\n",
      "/tmp/ipykernel_62/465714373.py:36: DeprecationWarning: single_protocol_run is being deprecated. Use AppendResult or AppendString\n",
      "  fit.single_protocol_run(result, postp_list, v_zero)\n",
      "/tmp/ipykernel_62/465714373.py:44: DeprecationWarning: bound_variation_distance is being deprecated. Use FullAccreditation or MeanAccreditation\n",
      "  fit.bound_variation_distance(vd_theta)\n",
      "/tmp/ipykernel_62/465714373.py:36: DeprecationWarning: single_protocol_run is being deprecated. Use AppendResult or AppendString\n",
      "  fit.single_protocol_run(result, postp_list, v_zero)\n",
      "/tmp/ipykernel_62/465714373.py:44: DeprecationWarning: bound_variation_distance is being deprecated. Use FullAccreditation or MeanAccreditation\n",
      "  fit.bound_variation_distance(vd_theta)\n",
      "/tmp/ipykernel_62/465714373.py:36: DeprecationWarning: single_protocol_run is being deprecated. Use AppendResult or AppendString\n",
      "  fit.single_protocol_run(result, postp_list, v_zero)\n",
      "/tmp/ipykernel_62/465714373.py:44: DeprecationWarning: bound_variation_distance is being deprecated. Use FullAccreditation or MeanAccreditation\n",
      "  fit.bound_variation_distance(vd_theta)\n"
     ]
    },
    {
     "name": "stdout",
     "output_type": "stream",
     "text": [
      "n_trial=(9/10)\r"
     ]
    },
    {
     "name": "stderr",
     "output_type": "stream",
     "text": [
      "/tmp/ipykernel_62/465714373.py:36: DeprecationWarning: single_protocol_run is being deprecated. Use AppendResult or AppendString\n",
      "  fit.single_protocol_run(result, postp_list, v_zero)\n",
      "/tmp/ipykernel_62/465714373.py:44: DeprecationWarning: bound_variation_distance is being deprecated. Use FullAccreditation or MeanAccreditation\n",
      "  fit.bound_variation_distance(vd_theta)\n",
      "/tmp/ipykernel_62/465714373.py:36: DeprecationWarning: single_protocol_run is being deprecated. Use AppendResult or AppendString\n",
      "  fit.single_protocol_run(result, postp_list, v_zero)\n",
      "/tmp/ipykernel_62/465714373.py:44: DeprecationWarning: bound_variation_distance is being deprecated. Use FullAccreditation or MeanAccreditation\n",
      "  fit.bound_variation_distance(vd_theta)\n",
      "/tmp/ipykernel_62/465714373.py:36: DeprecationWarning: single_protocol_run is being deprecated. Use AppendResult or AppendString\n",
      "  fit.single_protocol_run(result, postp_list, v_zero)\n",
      "/tmp/ipykernel_62/465714373.py:44: DeprecationWarning: bound_variation_distance is being deprecated. Use FullAccreditation or MeanAccreditation\n",
      "  fit.bound_variation_distance(vd_theta)\n",
      "/tmp/ipykernel_62/465714373.py:36: DeprecationWarning: single_protocol_run is being deprecated. Use AppendResult or AppendString\n",
      "  fit.single_protocol_run(result, postp_list, v_zero)\n",
      "/tmp/ipykernel_62/465714373.py:44: DeprecationWarning: bound_variation_distance is being deprecated. Use FullAccreditation or MeanAccreditation\n",
      "  fit.bound_variation_distance(vd_theta)\n"
     ]
    },
    {
     "name": "stdout",
     "output_type": "stream",
     "text": [
      "n_trial=(9/10)\r"
     ]
    },
    {
     "name": "stderr",
     "output_type": "stream",
     "text": [
      "/tmp/ipykernel_62/465714373.py:36: DeprecationWarning: single_protocol_run is being deprecated. Use AppendResult or AppendString\n",
      "  fit.single_protocol_run(result, postp_list, v_zero)\n",
      "/tmp/ipykernel_62/465714373.py:44: DeprecationWarning: bound_variation_distance is being deprecated. Use FullAccreditation or MeanAccreditation\n",
      "  fit.bound_variation_distance(vd_theta)\n",
      "/tmp/ipykernel_62/465714373.py:36: DeprecationWarning: single_protocol_run is being deprecated. Use AppendResult or AppendString\n",
      "  fit.single_protocol_run(result, postp_list, v_zero)\n",
      "/tmp/ipykernel_62/465714373.py:44: DeprecationWarning: bound_variation_distance is being deprecated. Use FullAccreditation or MeanAccreditation\n",
      "  fit.bound_variation_distance(vd_theta)\n",
      "/tmp/ipykernel_62/465714373.py:36: DeprecationWarning: single_protocol_run is being deprecated. Use AppendResult or AppendString\n",
      "  fit.single_protocol_run(result, postp_list, v_zero)\n",
      "/tmp/ipykernel_62/465714373.py:44: DeprecationWarning: bound_variation_distance is being deprecated. Use FullAccreditation or MeanAccreditation\n",
      "  fit.bound_variation_distance(vd_theta)\n",
      "/tmp/ipykernel_62/465714373.py:36: DeprecationWarning: single_protocol_run is being deprecated. Use AppendResult or AppendString\n",
      "  fit.single_protocol_run(result, postp_list, v_zero)\n",
      "/tmp/ipykernel_62/465714373.py:44: DeprecationWarning: bound_variation_distance is being deprecated. Use FullAccreditation or MeanAccreditation\n",
      "  fit.bound_variation_distance(vd_theta)\n"
     ]
    },
    {
     "name": "stdout",
     "output_type": "stream",
     "text": [
      "n_trial=(9/10)\r"
     ]
    },
    {
     "name": "stderr",
     "output_type": "stream",
     "text": [
      "/tmp/ipykernel_62/465714373.py:36: DeprecationWarning: single_protocol_run is being deprecated. Use AppendResult or AppendString\n",
      "  fit.single_protocol_run(result, postp_list, v_zero)\n",
      "/tmp/ipykernel_62/465714373.py:44: DeprecationWarning: bound_variation_distance is being deprecated. Use FullAccreditation or MeanAccreditation\n",
      "  fit.bound_variation_distance(vd_theta)\n",
      "/tmp/ipykernel_62/465714373.py:36: DeprecationWarning: single_protocol_run is being deprecated. Use AppendResult or AppendString\n",
      "  fit.single_protocol_run(result, postp_list, v_zero)\n",
      "/tmp/ipykernel_62/465714373.py:44: DeprecationWarning: bound_variation_distance is being deprecated. Use FullAccreditation or MeanAccreditation\n",
      "  fit.bound_variation_distance(vd_theta)\n",
      "/tmp/ipykernel_62/465714373.py:36: DeprecationWarning: single_protocol_run is being deprecated. Use AppendResult or AppendString\n",
      "  fit.single_protocol_run(result, postp_list, v_zero)\n",
      "/tmp/ipykernel_62/465714373.py:44: DeprecationWarning: bound_variation_distance is being deprecated. Use FullAccreditation or MeanAccreditation\n",
      "  fit.bound_variation_distance(vd_theta)\n",
      "/tmp/ipykernel_62/465714373.py:36: DeprecationWarning: single_protocol_run is being deprecated. Use AppendResult or AppendString\n",
      "  fit.single_protocol_run(result, postp_list, v_zero)\n",
      "/tmp/ipykernel_62/465714373.py:44: DeprecationWarning: bound_variation_distance is being deprecated. Use FullAccreditation or MeanAccreditation\n",
      "  fit.bound_variation_distance(vd_theta)\n"
     ]
    },
    {
     "name": "stdout",
     "output_type": "stream",
     "text": [
      "n_trial=(10/10)\r"
     ]
    },
    {
     "name": "stderr",
     "output_type": "stream",
     "text": [
      "/tmp/ipykernel_62/465714373.py:36: DeprecationWarning: single_protocol_run is being deprecated. Use AppendResult or AppendString\n",
      "  fit.single_protocol_run(result, postp_list, v_zero)\n",
      "/tmp/ipykernel_62/465714373.py:44: DeprecationWarning: bound_variation_distance is being deprecated. Use FullAccreditation or MeanAccreditation\n",
      "  fit.bound_variation_distance(vd_theta)\n",
      "/tmp/ipykernel_62/465714373.py:36: DeprecationWarning: single_protocol_run is being deprecated. Use AppendResult or AppendString\n",
      "  fit.single_protocol_run(result, postp_list, v_zero)\n",
      "/tmp/ipykernel_62/465714373.py:44: DeprecationWarning: bound_variation_distance is being deprecated. Use FullAccreditation or MeanAccreditation\n",
      "  fit.bound_variation_distance(vd_theta)\n",
      "/tmp/ipykernel_62/465714373.py:36: DeprecationWarning: single_protocol_run is being deprecated. Use AppendResult or AppendString\n",
      "  fit.single_protocol_run(result, postp_list, v_zero)\n",
      "/tmp/ipykernel_62/465714373.py:44: DeprecationWarning: bound_variation_distance is being deprecated. Use FullAccreditation or MeanAccreditation\n",
      "  fit.bound_variation_distance(vd_theta)\n",
      "/tmp/ipykernel_62/465714373.py:36: DeprecationWarning: single_protocol_run is being deprecated. Use AppendResult or AppendString\n",
      "  fit.single_protocol_run(result, postp_list, v_zero)\n",
      "/tmp/ipykernel_62/465714373.py:44: DeprecationWarning: bound_variation_distance is being deprecated. Use FullAccreditation or MeanAccreditation\n",
      "  fit.bound_variation_distance(vd_theta)\n"
     ]
    },
    {
     "name": "stdout",
     "output_type": "stream",
     "text": [
      "n_trial=(10/10)\r"
     ]
    },
    {
     "name": "stderr",
     "output_type": "stream",
     "text": [
      "/tmp/ipykernel_62/465714373.py:36: DeprecationWarning: single_protocol_run is being deprecated. Use AppendResult or AppendString\n",
      "  fit.single_protocol_run(result, postp_list, v_zero)\n",
      "/tmp/ipykernel_62/465714373.py:44: DeprecationWarning: bound_variation_distance is being deprecated. Use FullAccreditation or MeanAccreditation\n",
      "  fit.bound_variation_distance(vd_theta)\n",
      "/tmp/ipykernel_62/465714373.py:36: DeprecationWarning: single_protocol_run is being deprecated. Use AppendResult or AppendString\n",
      "  fit.single_protocol_run(result, postp_list, v_zero)\n",
      "/tmp/ipykernel_62/465714373.py:44: DeprecationWarning: bound_variation_distance is being deprecated. Use FullAccreditation or MeanAccreditation\n",
      "  fit.bound_variation_distance(vd_theta)\n",
      "/tmp/ipykernel_62/465714373.py:36: DeprecationWarning: single_protocol_run is being deprecated. Use AppendResult or AppendString\n",
      "  fit.single_protocol_run(result, postp_list, v_zero)\n",
      "/tmp/ipykernel_62/465714373.py:44: DeprecationWarning: bound_variation_distance is being deprecated. Use FullAccreditation or MeanAccreditation\n",
      "  fit.bound_variation_distance(vd_theta)\n",
      "/tmp/ipykernel_62/465714373.py:36: DeprecationWarning: single_protocol_run is being deprecated. Use AppendResult or AppendString\n",
      "  fit.single_protocol_run(result, postp_list, v_zero)\n",
      "/tmp/ipykernel_62/465714373.py:44: DeprecationWarning: bound_variation_distance is being deprecated. Use FullAccreditation or MeanAccreditation\n",
      "  fit.bound_variation_distance(vd_theta)\n"
     ]
    },
    {
     "name": "stdout",
     "output_type": "stream",
     "text": [
      "n_trial=(10/10)\r"
     ]
    },
    {
     "name": "stderr",
     "output_type": "stream",
     "text": [
      "/tmp/ipykernel_62/465714373.py:36: DeprecationWarning: single_protocol_run is being deprecated. Use AppendResult or AppendString\n",
      "  fit.single_protocol_run(result, postp_list, v_zero)\n",
      "/tmp/ipykernel_62/465714373.py:44: DeprecationWarning: bound_variation_distance is being deprecated. Use FullAccreditation or MeanAccreditation\n",
      "  fit.bound_variation_distance(vd_theta)\n",
      "/tmp/ipykernel_62/465714373.py:36: DeprecationWarning: single_protocol_run is being deprecated. Use AppendResult or AppendString\n",
      "  fit.single_protocol_run(result, postp_list, v_zero)\n",
      "/tmp/ipykernel_62/465714373.py:44: DeprecationWarning: bound_variation_distance is being deprecated. Use FullAccreditation or MeanAccreditation\n",
      "  fit.bound_variation_distance(vd_theta)\n",
      "/tmp/ipykernel_62/465714373.py:36: DeprecationWarning: single_protocol_run is being deprecated. Use AppendResult or AppendString\n",
      "  fit.single_protocol_run(result, postp_list, v_zero)\n",
      "/tmp/ipykernel_62/465714373.py:44: DeprecationWarning: bound_variation_distance is being deprecated. Use FullAccreditation or MeanAccreditation\n",
      "  fit.bound_variation_distance(vd_theta)\n",
      "/tmp/ipykernel_62/465714373.py:36: DeprecationWarning: single_protocol_run is being deprecated. Use AppendResult or AppendString\n",
      "  fit.single_protocol_run(result, postp_list, v_zero)\n",
      "/tmp/ipykernel_62/465714373.py:44: DeprecationWarning: bound_variation_distance is being deprecated. Use FullAccreditation or MeanAccreditation\n",
      "  fit.bound_variation_distance(vd_theta)\n"
     ]
    },
    {
     "name": "stdout",
     "output_type": "stream",
     "text": [
      "n_trial=(10/10)\r"
     ]
    },
    {
     "name": "stderr",
     "output_type": "stream",
     "text": [
      "/tmp/ipykernel_62/465714373.py:36: DeprecationWarning: single_protocol_run is being deprecated. Use AppendResult or AppendString\n",
      "  fit.single_protocol_run(result, postp_list, v_zero)\n",
      "/tmp/ipykernel_62/465714373.py:44: DeprecationWarning: bound_variation_distance is being deprecated. Use FullAccreditation or MeanAccreditation\n",
      "  fit.bound_variation_distance(vd_theta)\n",
      "/tmp/ipykernel_62/465714373.py:36: DeprecationWarning: single_protocol_run is being deprecated. Use AppendResult or AppendString\n",
      "  fit.single_protocol_run(result, postp_list, v_zero)\n",
      "/tmp/ipykernel_62/465714373.py:44: DeprecationWarning: bound_variation_distance is being deprecated. Use FullAccreditation or MeanAccreditation\n",
      "  fit.bound_variation_distance(vd_theta)\n",
      "/tmp/ipykernel_62/465714373.py:36: DeprecationWarning: single_protocol_run is being deprecated. Use AppendResult or AppendString\n",
      "  fit.single_protocol_run(result, postp_list, v_zero)\n",
      "/tmp/ipykernel_62/465714373.py:44: DeprecationWarning: bound_variation_distance is being deprecated. Use FullAccreditation or MeanAccreditation\n",
      "  fit.bound_variation_distance(vd_theta)\n",
      "/tmp/ipykernel_62/465714373.py:36: DeprecationWarning: single_protocol_run is being deprecated. Use AppendResult or AppendString\n",
      "  fit.single_protocol_run(result, postp_list, v_zero)\n",
      "/tmp/ipykernel_62/465714373.py:44: DeprecationWarning: bound_variation_distance is being deprecated. Use FullAccreditation or MeanAccreditation\n",
      "  fit.bound_variation_distance(vd_theta)\n"
     ]
    },
    {
     "name": "stdout",
     "output_type": "stream",
     "text": [
      "n_trial=(10/10)\r"
     ]
    },
    {
     "name": "stderr",
     "output_type": "stream",
     "text": [
      "/tmp/ipykernel_62/465714373.py:36: DeprecationWarning: single_protocol_run is being deprecated. Use AppendResult or AppendString\n",
      "  fit.single_protocol_run(result, postp_list, v_zero)\n",
      "/tmp/ipykernel_62/465714373.py:44: DeprecationWarning: bound_variation_distance is being deprecated. Use FullAccreditation or MeanAccreditation\n",
      "  fit.bound_variation_distance(vd_theta)\n",
      "/tmp/ipykernel_62/465714373.py:36: DeprecationWarning: single_protocol_run is being deprecated. Use AppendResult or AppendString\n",
      "  fit.single_protocol_run(result, postp_list, v_zero)\n",
      "/tmp/ipykernel_62/465714373.py:44: DeprecationWarning: bound_variation_distance is being deprecated. Use FullAccreditation or MeanAccreditation\n",
      "  fit.bound_variation_distance(vd_theta)\n",
      "/tmp/ipykernel_62/465714373.py:36: DeprecationWarning: single_protocol_run is being deprecated. Use AppendResult or AppendString\n",
      "  fit.single_protocol_run(result, postp_list, v_zero)\n",
      "/tmp/ipykernel_62/465714373.py:44: DeprecationWarning: bound_variation_distance is being deprecated. Use FullAccreditation or MeanAccreditation\n",
      "  fit.bound_variation_distance(vd_theta)\n",
      "/tmp/ipykernel_62/465714373.py:36: DeprecationWarning: single_protocol_run is being deprecated. Use AppendResult or AppendString\n",
      "  fit.single_protocol_run(result, postp_list, v_zero)\n",
      "/tmp/ipykernel_62/465714373.py:44: DeprecationWarning: bound_variation_distance is being deprecated. Use FullAccreditation or MeanAccreditation\n",
      "  fit.bound_variation_distance(vd_theta)\n"
     ]
    },
    {
     "name": "stdout",
     "output_type": "stream",
     "text": [
      "n_trial=(10/10)\r"
     ]
    },
    {
     "name": "stderr",
     "output_type": "stream",
     "text": [
      "/tmp/ipykernel_62/465714373.py:36: DeprecationWarning: single_protocol_run is being deprecated. Use AppendResult or AppendString\n",
      "  fit.single_protocol_run(result, postp_list, v_zero)\n",
      "/tmp/ipykernel_62/465714373.py:44: DeprecationWarning: bound_variation_distance is being deprecated. Use FullAccreditation or MeanAccreditation\n",
      "  fit.bound_variation_distance(vd_theta)\n",
      "/tmp/ipykernel_62/465714373.py:36: DeprecationWarning: single_protocol_run is being deprecated. Use AppendResult or AppendString\n",
      "  fit.single_protocol_run(result, postp_list, v_zero)\n",
      "/tmp/ipykernel_62/465714373.py:44: DeprecationWarning: bound_variation_distance is being deprecated. Use FullAccreditation or MeanAccreditation\n",
      "  fit.bound_variation_distance(vd_theta)\n",
      "/tmp/ipykernel_62/465714373.py:36: DeprecationWarning: single_protocol_run is being deprecated. Use AppendResult or AppendString\n",
      "  fit.single_protocol_run(result, postp_list, v_zero)\n",
      "/tmp/ipykernel_62/465714373.py:44: DeprecationWarning: bound_variation_distance is being deprecated. Use FullAccreditation or MeanAccreditation\n",
      "  fit.bound_variation_distance(vd_theta)\n",
      "/tmp/ipykernel_62/465714373.py:36: DeprecationWarning: single_protocol_run is being deprecated. Use AppendResult or AppendString\n",
      "  fit.single_protocol_run(result, postp_list, v_zero)\n",
      "/tmp/ipykernel_62/465714373.py:44: DeprecationWarning: bound_variation_distance is being deprecated. Use FullAccreditation or MeanAccreditation\n",
      "  fit.bound_variation_distance(vd_theta)\n"
     ]
    },
    {
     "data": {
      "text/html": [
       "<div>\n",
       "<style scoped>\n",
       "    .dataframe tbody tr th:only-of-type {\n",
       "        vertical-align: middle;\n",
       "    }\n",
       "\n",
       "    .dataframe tbody tr th {\n",
       "        vertical-align: top;\n",
       "    }\n",
       "\n",
       "    .dataframe thead th {\n",
       "        text-align: right;\n",
       "    }\n",
       "</style>\n",
       "<table border=\"1\" class=\"dataframe\">\n",
       "  <thead>\n",
       "    <tr style=\"text-align: right;\">\n",
       "      <th></th>\n",
       "      <th>n_grovers</th>\n",
       "      <th>theta_candidate</th>\n",
       "      <th>a_candidate</th>\n",
       "      <th>rel_error</th>\n",
       "      <th>n_shots</th>\n",
       "      <th>execc_index</th>\n",
       "      <th>analytical_result</th>\n",
       "    </tr>\n",
       "  </thead>\n",
       "  <tbody>\n",
       "    <tr>\n",
       "      <th>0</th>\n",
       "      <td>0</td>\n",
       "      <td>0.408638</td>\n",
       "      <td>0.157895</td>\n",
       "      <td>0.121027</td>\n",
       "      <td>32</td>\n",
       "      <td>1</td>\n",
       "      <td>0.179636</td>\n",
       "    </tr>\n",
       "    <tr>\n",
       "      <th>1</th>\n",
       "      <td>1</td>\n",
       "      <td>0.434120</td>\n",
       "      <td>0.176914</td>\n",
       "      <td>0.015149</td>\n",
       "      <td>32</td>\n",
       "      <td>1</td>\n",
       "      <td>0.179636</td>\n",
       "    </tr>\n",
       "    <tr>\n",
       "      <th>2</th>\n",
       "      <td>2</td>\n",
       "      <td>0.426717</td>\n",
       "      <td>0.171301</td>\n",
       "      <td>0.046399</td>\n",
       "      <td>32</td>\n",
       "      <td>1</td>\n",
       "      <td>0.179636</td>\n",
       "    </tr>\n",
       "    <tr>\n",
       "      <th>3</th>\n",
       "      <td>4</td>\n",
       "      <td>0.446054</td>\n",
       "      <td>0.186114</td>\n",
       "      <td>0.036065</td>\n",
       "      <td>32</td>\n",
       "      <td>1</td>\n",
       "      <td>0.179636</td>\n",
       "    </tr>\n",
       "    <tr>\n",
       "      <th>4</th>\n",
       "      <td>0</td>\n",
       "      <td>0.330423</td>\n",
       "      <td>0.105263</td>\n",
       "      <td>0.414018</td>\n",
       "      <td>64</td>\n",
       "      <td>1</td>\n",
       "      <td>0.179636</td>\n",
       "    </tr>\n",
       "    <tr>\n",
       "      <th>...</th>\n",
       "      <td>...</td>\n",
       "      <td>...</td>\n",
       "      <td>...</td>\n",
       "      <td>...</td>\n",
       "      <td>...</td>\n",
       "      <td>...</td>\n",
       "      <td>...</td>\n",
       "    </tr>\n",
       "    <tr>\n",
       "      <th>235</th>\n",
       "      <td>4</td>\n",
       "      <td>0.438463</td>\n",
       "      <td>0.180241</td>\n",
       "      <td>0.003371</td>\n",
       "      <td>512</td>\n",
       "      <td>10</td>\n",
       "      <td>0.179636</td>\n",
       "    </tr>\n",
       "    <tr>\n",
       "      <th>236</th>\n",
       "      <td>0</td>\n",
       "      <td>0.408638</td>\n",
       "      <td>0.157895</td>\n",
       "      <td>0.121027</td>\n",
       "      <td>1024</td>\n",
       "      <td>10</td>\n",
       "      <td>0.179636</td>\n",
       "    </tr>\n",
       "    <tr>\n",
       "      <th>237</th>\n",
       "      <td>1</td>\n",
       "      <td>0.444471</td>\n",
       "      <td>0.184883</td>\n",
       "      <td>0.029212</td>\n",
       "      <td>1024</td>\n",
       "      <td>10</td>\n",
       "      <td>0.179636</td>\n",
       "    </tr>\n",
       "    <tr>\n",
       "      <th>238</th>\n",
       "      <td>2</td>\n",
       "      <td>0.440558</td>\n",
       "      <td>0.181854</td>\n",
       "      <td>0.012352</td>\n",
       "      <td>1024</td>\n",
       "      <td>10</td>\n",
       "      <td>0.179636</td>\n",
       "    </tr>\n",
       "    <tr>\n",
       "      <th>239</th>\n",
       "      <td>4</td>\n",
       "      <td>0.438469</td>\n",
       "      <td>0.180246</td>\n",
       "      <td>0.003398</td>\n",
       "      <td>1024</td>\n",
       "      <td>10</td>\n",
       "      <td>0.179636</td>\n",
       "    </tr>\n",
       "  </tbody>\n",
       "</table>\n",
       "<p>240 rows × 7 columns</p>\n",
       "</div>"
      ],
      "text/plain": [
       "     n_grovers  theta_candidate  a_candidate  rel_error  n_shots  execc_index  \\\n",
       "0            0         0.408638     0.157895   0.121027       32            1   \n",
       "1            1         0.434120     0.176914   0.015149       32            1   \n",
       "2            2         0.426717     0.171301   0.046399       32            1   \n",
       "3            4         0.446054     0.186114   0.036065       32            1   \n",
       "4            0         0.330423     0.105263   0.414018       64            1   \n",
       "..         ...              ...          ...        ...      ...          ...   \n",
       "235          4         0.438463     0.180241   0.003371      512           10   \n",
       "236          0         0.408638     0.157895   0.121027     1024           10   \n",
       "237          1         0.444471     0.184883   0.029212     1024           10   \n",
       "238          2         0.440558     0.181854   0.012352     1024           10   \n",
       "239          4         0.438469     0.180246   0.003398     1024           10   \n",
       "\n",
       "     analytical_result  \n",
       "0             0.179636  \n",
       "1             0.179636  \n",
       "2             0.179636  \n",
       "3             0.179636  \n",
       "4             0.179636  \n",
       "..                 ...  \n",
       "235           0.179636  \n",
       "236           0.179636  \n",
       "237           0.179636  \n",
       "238           0.179636  \n",
       "239           0.179636  \n",
       "\n",
       "[240 rows x 7 columns]"
      ]
     },
     "execution_count": 17,
     "metadata": {},
     "output_type": "execute_result"
    }
   ],
   "source": [
    "final_result_df = pd.DataFrame()\n",
    "result_df = pd.DataFrame()\n",
    "acc_final_df = pd.DataFrame()\n",
    "results_list = []\n",
    "\n",
    "error_list = []\n",
    "shots_list = []  # list of number of shots\n",
    "#number_grover_list = [0, 1, 2, 4]  # list of number of Grover operators\n",
    "#shots_run = [32, 64, 128, 256, 512, 1024]\n",
    "number_grover_list = [0, 1, 2, 4]  # list of number of Grover operators\n",
    "shots_run = [32, 64, 128, 256, 512, 1024]\n",
    "\n",
    "n_exec = 10\n",
    "\n",
    "for ii in range(n_exec):\n",
    "    for shot in shots_run:\n",
    "        sys.stdout.write(\"n_trial=(%d/%d)\\r\" % ((ii + 1), n_exec))\n",
    "        sys.stdout.flush()\n",
    "        shots_list = define_shots_list(shot, number_grover_list)\n",
    "        qc_list = create_grover_circuit(number_grover_list, n_bits, b_max)  # list of Grover circuits\n",
    "        hit_list, acc_result_df = run_grover(qc_list, number_grover_list, shots_list, backend)  # list of number of grover operators\n",
    "        theta_candidate_list, grover_number_list, a_candidate_list = calculate_theta(hit_list, number_grover_list, shots_list)  # list of estimated theta values\n",
    "        error_list = list(np.abs(mundo_discreto - np.sin(theta_candidate_list)**2)/mundo_discreto)\n",
    "        result_df = pd.DataFrame({\"n_grovers\":grover_number_list, \"theta_candidate\":theta_candidate_list,\n",
    "                                \"a_candidate\":a_candidate_list, \"rel_error\":error_list})\n",
    "\n",
    "        result_df[\"n_shots\"] = shot\n",
    "        result_df[\"execc_index\"] = ii+1\n",
    "        result_df[\"analytical_result\"] = mundo_discreto\n",
    "\n",
    "        acc_final_df = pd.concat((acc_final_df, acc_result_df), axis=0)\n",
    "        final_result_df = pd.concat((final_result_df, result_df), axis=0)\n",
    "\n",
    "final_result_df.reset_index(drop = True)"
   ]
  },
  {
   "cell_type": "code",
   "execution_count": 19,
   "id": "6f69dcde-0a70-4f3a-b524-5e4ab4729429",
   "metadata": {
    "tags": []
   },
   "outputs": [],
   "source": [
    "acc_final_df.to_csv(r\"../../Output/MLQAE_ACCSYS_vFin_results_SIM_QASM_10.csv\")"
   ]
  },
  {
   "cell_type": "code",
   "execution_count": 22,
   "id": "48337435-0ec0-4c98-8bfc-e3244d4d3d70",
   "metadata": {
    "tags": []
   },
   "outputs": [
    {
     "data": {
      "image/png": "[encoded data removed]",
      "text/plain": [
       "<Figure size 640x480 with 1 Axes>"
      ]
     },
     "metadata": {},
     "output_type": "display_data"
    }
   ],
   "source": [
    "mean_error_1_grover = pd.DataFrame(final_result_df[final_result_df[\"n_grovers\"] == 1].groupby([\"n_shots\", \"n_grovers\"])[\"rel_error\"].mean().reset_index())\n",
    "mean_error_2_grover = pd.DataFrame(final_result_df[final_result_df[\"n_grovers\"] == 2].groupby([\"n_shots\", \"n_grovers\"])[\"rel_error\"].mean().reset_index())\n",
    "mean_error_4_grover = pd.DataFrame(final_result_df[final_result_df[\"n_grovers\"] == 4].groupby([\"n_shots\", \"n_grovers\"])[\"rel_error\"].mean().reset_index())\n",
    "max_error_4_grover = pd.DataFrame(final_result_df[final_result_df[\"n_grovers\"] == 4].groupby([\"n_shots\", \"n_grovers\"])[\"rel_error\"].max().reset_index())\n",
    "min_error_4_grover = pd.DataFrame(final_result_df[final_result_df[\"n_grovers\"] == 4].groupby([\"n_shots\", \"n_grovers\"])[\"rel_error\"].min().reset_index())\n",
    "\n",
    "figure_1 = plt.figure()\n",
    "\n",
    "#plt.plot(mean_error_1_grover[\"n_shots\"], mean_error_1_grover[\"rel_error\"], \"-^\")\n",
    "#plt.plot(mean_error_2_grover[\"n_shots\"], mean_error_2_grover[\"rel_error\"], \"-^\")\n",
    "#plt.plot(mean_error_4_grover[\"n_shots\"], mean_error_4_grover[\"rel_error\"], \"-^\")\n",
    "plt.plot(mean_error_4_grover[\"n_shots\"], mean_error_4_grover[\"rel_error\"], \"-^\")\n",
    "plt.plot(max_error_4_grover[\"n_shots\"], max_error_4_grover[\"rel_error\"], \"-^\")\n",
    "plt.plot(min_error_4_grover[\"n_shots\"], min_error_4_grover[\"rel_error\"], \"-^\")\n",
    "\n",
    "\n",
    "plt.ylim(0,2)\n",
    "plt.xlabel(\"Number of shots\")\n",
    "plt.ylabel(\"Relative Error\")\n",
    "plt.legend([\"Relative Error\", \"Max Error\", \"Min. Error\"])\n",
    "\n",
    "plt.show()\n",
    "final_result_df.to_csv(r\"../../Output/MLQAE_vFin_results_SIM_QASM_10_v2.csv\")"
   ]
  },
  {
   "cell_type": "code",
   "execution_count": 283,
   "id": "814c0569-461c-42f8-a78a-4823b0c73c58",
   "metadata": {},
   "outputs": [
    {
     "name": "stdout",
     "output_type": "stream",
     "text": [
      "Showing information for: 0\n",
      "Puertas =  OrderedDict([('h', 2), ('barrier', 2), ('cry', 2), ('ry', 1), ('measure', 1)])\n",
      "Profundidad / Depth =  5\n",
      "---- X ----\n",
      "Showing information for: 1\n",
      "Puertas =  OrderedDict([('h', 8), ('barrier', 7), ('cry', 6), ('x', 6), ('ry', 3), ('z', 1), ('ccx', 1), ('measure', 1)])\n",
      "Profundidad / Depth =  19\n",
      "---- X ----\n",
      "Showing information for: 2\n",
      "Puertas =  OrderedDict([('h', 14), ('barrier', 12), ('x', 12), ('cry', 10), ('ry', 5), ('z', 2), ('ccx', 2), ('measure', 1)])\n",
      "Profundidad / Depth =  33\n",
      "---- X ----\n",
      "Showing information for: 4\n",
      "Puertas =  OrderedDict([('h', 26), ('x', 24), ('barrier', 22), ('cry', 18), ('ry', 9), ('z', 4), ('ccx', 4), ('measure', 1)])\n",
      "Profundidad / Depth =  61\n",
      "---- X ----\n"
     ]
    }
   ],
   "source": [
    "for grover_circuit, mlqae_circuit in enumerate(qc_list):\n",
    "    print(\"Showing information for: \"+str(number_grover_list[grover_circuit]))\n",
    "    print(\"Puertas = \", mlqae_circuit.count_ops())\n",
    "    print(\"Profundidad / Depth = \", mlqae_circuit.depth())\n",
    "    print(\"---- X ----\")"
   ]
  },
  {
   "cell_type": "code",
   "execution_count": null,
   "id": "e95962fb-6cee-4c21-8de2-cbbfc23f7736",
   "metadata": {},
   "outputs": [],
   "source": []
  }
 ],
 "metadata": {
  "kernelspec": {
   "display_name": "Python 3 (ipykernel)",
   "language": "python",
   "name": "python3"
  },
  "language_info": {
   "codemirror_mode": {
    "name": "ipython",
    "version": 3
   },
   "file_extension": ".py",
   "mimetype": "text/x-python",
   "name": "python",
   "nbconvert_exporter": "python",
   "pygments_lexer": "ipython3",
   "version": "3.10.8"
  },
  "widgets": {
   "application/vnd.jupyter.widget-state+json": {
    "state": {},
    "version_major": 2,
    "version_minor": 0
   }
  }
 },
 "nbformat": 4,
 "nbformat_minor": 5
}
